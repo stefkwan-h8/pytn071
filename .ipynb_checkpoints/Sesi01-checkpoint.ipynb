{
 "cells": [
  {
   "cell_type": "code",
   "execution_count": 1,
   "metadata": {},
   "outputs": [
    {
     "name": "stdout",
     "output_type": "stream",
     "text": [
      "halo\n"
     ]
    }
   ],
   "source": [
    "print(\"halo\")"
   ]
  },
  {
   "cell_type": "code",
   "execution_count": 28,
   "metadata": {},
   "outputs": [],
   "source": [
    "# ini comment"
   ]
  },
  {
   "cell_type": "markdown",
   "metadata": {},
   "source": [
    "markdown adalah cara menulis notes di jupyter notebook (dan github) biasanya dalam bentuk file `.md`   \n",
    "detail cara tulis dengan markdown bisa dilihat di https://www.markdownguide.org/basic-syntax/"
   ]
  },
  {
   "cell_type": "markdown",
   "metadata": {},
   "source": [
    "- bisa tarik data masuk ke python notebook, contoh:\n",
    "```python\n",
    "import pandas as pd\n",
    "df = pd.read_excel('obes.xls')\n",
    "df\n",
    "```"
   ]
  },
  {
   "cell_type": "markdown",
   "metadata": {},
   "source": [
    "# Basic Python - Data Types\n",
    "Simple Data Types:\n",
    "1. Integer <class 'int'> angka bulat\n",
    "2. Float <class 'float'> angka tidak bulat\n",
    "3. String <class 'str'> text yang dikutip, bisa angka, abjad, simbol\n",
    "4. Boolean <class 'bool'> True atau False\n",
    "\n",
    "Structured Data Types:\n",
    "1. List\n",
    "2. Tuple\n",
    "3. Dictionary\n",
    "4. Set (tidak dipelajari di kelas ini)"
   ]
  },
  {
   "cell_type": "markdown",
   "metadata": {},
   "source": [
    "## Integer"
   ]
  },
  {
   "cell_type": "code",
   "execution_count": 3,
   "metadata": {},
   "outputs": [
    {
     "data": {
      "text/plain": [
       "7652"
      ]
     },
     "execution_count": 3,
     "metadata": {},
     "output_type": "execute_result"
    }
   ],
   "source": [
    "7652"
   ]
  },
  {
   "cell_type": "code",
   "execution_count": 4,
   "metadata": {},
   "outputs": [
    {
     "name": "stdout",
     "output_type": "stream",
     "text": [
      "67451\n"
     ]
    }
   ],
   "source": [
    "print(67451)"
   ]
  },
  {
   "cell_type": "code",
   "execution_count": 5,
   "metadata": {},
   "outputs": [
    {
     "name": "stdout",
     "output_type": "stream",
     "text": [
      "<class 'int'>\n"
     ]
    }
   ],
   "source": [
    "print(type(5413)) # integer"
   ]
  },
  {
   "cell_type": "markdown",
   "metadata": {},
   "source": [
    "## Float"
   ]
  },
  {
   "cell_type": "code",
   "execution_count": 6,
   "metadata": {},
   "outputs": [
    {
     "name": "stdout",
     "output_type": "stream",
     "text": [
      "1.0\n",
      "<class 'float'>\n"
     ]
    }
   ],
   "source": [
    "# float\n",
    "print(1.0)\n",
    "print(type(1.0))"
   ]
  },
  {
   "cell_type": "code",
   "execution_count": 7,
   "metadata": {},
   "outputs": [
    {
     "name": "stdout",
     "output_type": "stream",
     "text": [
      "1.31547\n",
      "<class 'float'>\n"
     ]
    }
   ],
   "source": [
    "print(1.315470)\n",
    "print(type(1.315470))"
   ]
  },
  {
   "cell_type": "code",
   "execution_count": 8,
   "metadata": {},
   "outputs": [
    {
     "data": {
      "text/plain": [
       "14.5"
      ]
     },
     "execution_count": 8,
     "metadata": {},
     "output_type": "execute_result"
    }
   ],
   "source": [
    "# integer campur float untuk fungsi aritmatik + - * / % semuanya bisa\n",
    "12 + 2.5"
   ]
  },
  {
   "cell_type": "code",
   "execution_count": 10,
   "metadata": {},
   "outputs": [
    {
     "name": "stdout",
     "output_type": "stream",
     "text": [
      "54\n"
     ]
    },
    {
     "data": {
      "text/plain": [
       "6"
      ]
     },
     "metadata": {},
     "output_type": "display_data"
    },
    {
     "data": {
      "text/plain": [
       "89"
      ]
     },
     "execution_count": 10,
     "metadata": {},
     "output_type": "execute_result"
    }
   ],
   "source": [
    "# untuk memastikan data tercetak, pakai print/ display. jika tidak, hanya data di baris terakhir yang tercetak\n",
    "2\n",
    "3\n",
    "print(54)\n",
    "display(6)\n",
    "7\n",
    "89"
   ]
  },
  {
   "cell_type": "markdown",
   "metadata": {},
   "source": [
    "## String\n",
    "gunakan kutip untuk membuat string"
   ]
  },
  {
   "cell_type": "code",
   "execution_count": 12,
   "metadata": {},
   "outputs": [
    {
     "name": "stdout",
     "output_type": "stream",
     "text": [
      "12dfg<>.\n",
      "12df<>.\n"
     ]
    }
   ],
   "source": [
    "print(\"12dfg<>.\")\n",
    "print('12df<>.')"
   ]
  },
  {
   "cell_type": "code",
   "execution_count": 17,
   "metadata": {},
   "outputs": [
    {
     "name": "stdout",
     "output_type": "stream",
     "text": [
      "andy's diner\n",
      "andy's diner\n",
      "<class 'str'>\n"
     ]
    }
   ],
   "source": [
    "print(\"andy's diner\")\n",
    "print('andy\\'s diner')\n",
    "print(type(\"string\"))"
   ]
  },
  {
   "cell_type": "markdown",
   "metadata": {},
   "source": [
    "## Boolean\n",
    "True atau False, iya atau tidak"
   ]
  },
  {
   "cell_type": "code",
   "execution_count": 16,
   "metadata": {},
   "outputs": [
    {
     "name": "stdout",
     "output_type": "stream",
     "text": [
      "True\n",
      "False\n",
      "<class 'bool'>\n"
     ]
    }
   ],
   "source": [
    "print(True)\n",
    "print(False)\n",
    "print(type(True))"
   ]
  },
  {
   "cell_type": "markdown",
   "metadata": {},
   "source": [
    "ada hal yang dianggap True (truthy) dan ada hal yang dianggap False (falsy) oleh Python. Lebih mudah belajar dari yang False (falsy):\n",
    "- angka integer 0\n",
    "- float 0.0\n",
    "- string kosong \"\", atau ''\n",
    "- list kosong []\n",
    "- tuple kosong ()\n",
    "- dictionary kosong {}"
   ]
  },
  {
   "cell_type": "markdown",
   "metadata": {},
   "source": [
    "## convert data types"
   ]
  },
  {
   "cell_type": "code",
   "execution_count": 20,
   "metadata": {},
   "outputs": [
    {
     "name": "stdout",
     "output_type": "stream",
     "text": [
      "15.0\n",
      "True\n",
      "15\n"
     ]
    }
   ],
   "source": [
    "# ubah integer jadi float, boolean, str\n",
    "print(float(15))\n",
    "print(bool(15))\n",
    "print(str(15))"
   ]
  },
  {
   "cell_type": "code",
   "execution_count": 21,
   "metadata": {},
   "outputs": [
    {
     "name": "stdout",
     "output_type": "stream",
     "text": [
      "25.0\n",
      "True\n",
      "25\n"
     ]
    }
   ],
   "source": [
    "# ubah string jadi float, boolean, int\n",
    "print(float(\"25\"))\n",
    "print(bool(\"25\"))\n",
    "print(int(\"25\"))"
   ]
  },
  {
   "cell_type": "code",
   "execution_count": 24,
   "metadata": {},
   "outputs": [
    {
     "data": {
      "text/plain": [
       "True"
      ]
     },
     "execution_count": 24,
     "metadata": {},
     "output_type": "execute_result"
    }
   ],
   "source": [
    "# string yang tidak bisa jadi angka\n",
    "bool(\"andi\")"
   ]
  },
  {
   "cell_type": "code",
   "execution_count": 25,
   "metadata": {},
   "outputs": [
    {
     "name": "stdout",
     "output_type": "stream",
     "text": [
      "True\n",
      "5\n",
      "5.5\n"
     ]
    }
   ],
   "source": [
    "# ubah float jadi boolean, integer, string\n",
    "print(bool(5.5))\n",
    "print(int(5.5))\n",
    "print(str(5.5))"
   ]
  },
  {
   "cell_type": "code",
   "execution_count": 26,
   "metadata": {},
   "outputs": [
    {
     "name": "stdout",
     "output_type": "stream",
     "text": [
      "False\n",
      "False\n",
      "False\n",
      "False\n"
     ]
    }
   ],
   "source": [
    "# contoh falsy values\n",
    "print(bool(\"\"))\n",
    "print(bool(''))\n",
    "print(bool(0))\n",
    "print(bool(0.0))"
   ]
  },
  {
   "cell_type": "markdown",
   "metadata": {},
   "source": [
    "# Variable\n",
    "tempat simpan data, sebuah nama, sebuah penampungan data yang ada namanya\n",
    "\n",
    "ada beberapa rules penamaan variable:\n",
    "- tidak boleh ada spasi, spasi kita ubah jadi _ (cara penulisan snake_case)\n",
    "    - camelCase --> function\n",
    "    - PascalCase --> class\n",
    "    - kebab-case\n",
    "    - snake_case --> variable\n",
    "- tidak boleh dimulai dengan angka\n",
    "- bagi python, huruf besar dan kecil itu berbeda, jadi pastikan cara penulisan nama variable kita konsisten"
   ]
  },
  {
   "cell_type": "code",
   "execution_count": 29,
   "metadata": {},
   "outputs": [],
   "source": [
    "# assign string \"Selamat malam\" ke variable message\n",
    "# variable assignment\n",
    "message = \"Selamat malam\""
   ]
  },
  {
   "cell_type": "code",
   "execution_count": 30,
   "metadata": {},
   "outputs": [
    {
     "name": "stdout",
     "output_type": "stream",
     "text": [
      "Selamat malam\n"
     ]
    }
   ],
   "source": [
    "print(message)"
   ]
  },
  {
   "cell_type": "code",
   "execution_count": 33,
   "metadata": {},
   "outputs": [
    {
     "name": "stdout",
     "output_type": "stream",
     "text": [
      "12 13 14 15 16 17\n"
     ]
    }
   ],
   "source": [
    "# misal mau simpan umur andi\n",
    "umurAndi = 12\n",
    "UmurAndi = 13\n",
    "UMURandi = 14\n",
    "_umur_Andi = 15\n",
    "umur_andi = 16\n",
    "umur_Andi = 17\n",
    "\n",
    "print(umurAndi, UmurAndi, UMURandi, _umur_Andi, umur_andi, umur_Andi)"
   ]
  },
  {
   "cell_type": "code",
   "execution_count": 35,
   "metadata": {},
   "outputs": [
    {
     "name": "stdout",
     "output_type": "stream",
     "text": [
      "Selamat malam\n",
      "halo saya Andi\n"
     ]
    }
   ],
   "source": [
    "# variable bisa di isi ulang, \"re-assign\"\n",
    "print(message)\n",
    "message = \"halo saya Andi\"\n",
    "print(message)"
   ]
  },
  {
   "cell_type": "code",
   "execution_count": 36,
   "metadata": {},
   "outputs": [
    {
     "name": "stdout",
     "output_type": "stream",
     "text": [
      "halo saya Andi\n"
     ]
    }
   ],
   "source": [
    "print(message)"
   ]
  },
  {
   "cell_type": "code",
   "execution_count": 37,
   "metadata": {},
   "outputs": [
    {
     "name": "stdout",
     "output_type": "stream",
     "text": [
      "False\n"
     ]
    }
   ],
   "source": [
    "# di python variable tidak punya tipe data, dulu isi string, skr ini int, boleh2 aja\n",
    "message = 13\n",
    "message = 12.5\n",
    "message = False\n",
    "print(message)"
   ]
  },
  {
   "cell_type": "markdown",
   "metadata": {},
   "source": [
    "# Manipulasi Data\n",
    "- operator dan expession di Python\n",
    "    - arithmetic operator \\+ \\- \\* \\/ \\% \\**\n",
    "    - comparison operator \\> \\< \\>\\= \\<\\= \\== \\!\\=\n",
    "    - in\n",
    "- built-in functions\n",
    "    - string ada fungsi untuk ubah case nya (misal jadi BESAR SEMUA atau kecil semua)"
   ]
  },
  {
   "cell_type": "markdown",
   "metadata": {},
   "source": [
    "## arithmetic operator"
   ]
  },
  {
   "cell_type": "code",
   "execution_count": 38,
   "metadata": {},
   "outputs": [
    {
     "data": {
      "text/plain": [
       "11"
      ]
     },
     "execution_count": 38,
     "metadata": {},
     "output_type": "execute_result"
    }
   ],
   "source": [
    "5 + 6"
   ]
  },
  {
   "cell_type": "code",
   "execution_count": 39,
   "metadata": {},
   "outputs": [
    {
     "name": "stdout",
     "output_type": "stream",
     "text": [
      "hasil tambah a dan b 11\n"
     ]
    }
   ],
   "source": [
    "a = 5\n",
    "b = 6\n",
    "\n",
    "c = a + b\n",
    "print(\"hasil tambah a dan b\", c)"
   ]
  },
  {
   "cell_type": "code",
   "execution_count": 40,
   "metadata": {},
   "outputs": [
    {
     "data": {
      "text/plain": [
       "7.666666666666666"
      ]
     },
     "execution_count": 40,
     "metadata": {},
     "output_type": "execute_result"
    }
   ],
   "source": [
    "a + b - 10 / 3 "
   ]
  },
  {
   "cell_type": "code",
   "execution_count": 43,
   "metadata": {},
   "outputs": [
    {
     "data": {
      "text/plain": [
       "125"
      ]
     },
     "execution_count": 43,
     "metadata": {},
     "output_type": "execute_result"
    }
   ],
   "source": [
    "# pangkat\n",
    "a**3"
   ]
  },
  {
   "cell_type": "code",
   "execution_count": 42,
   "metadata": {},
   "outputs": [
    {
     "name": "stdout",
     "output_type": "stream",
     "text": [
      "1.6666666666666667\n",
      "2\n"
     ]
    }
   ],
   "source": [
    "# modulo % adalah sisa dari pembagian\n",
    "# misalnya 5 bagi 3 adalah 1 sisa 2\n",
    "print(5 / 3)\n",
    "print(5 % 3) # modulo ambil sisanya"
   ]
  },
  {
   "cell_type": "markdown",
   "metadata": {},
   "source": [
    "## comparison operator"
   ]
  },
  {
   "cell_type": "code",
   "execution_count": 50,
   "metadata": {},
   "outputs": [
    {
     "name": "stdout",
     "output_type": "stream",
     "text": [
      "True\n",
      "False\n",
      "True\n",
      "False\n",
      "False\n",
      "True\n"
     ]
    }
   ],
   "source": [
    "a = 20\n",
    "b = 10\n",
    "\n",
    "print(a > b)\n",
    "print(a < b)\n",
    "\n",
    "print(a >= b)\n",
    "print(a <= b)\n",
    "\n",
    "print(a == b)\n",
    "print(a != b)"
   ]
  },
  {
   "cell_type": "markdown",
   "metadata": {},
   "source": [
    "## string manipulation"
   ]
  },
  {
   "cell_type": "code",
   "execution_count": 174,
   "metadata": {},
   "outputs": [
    {
     "name": "stdout",
     "output_type": "stream",
     "text": [
      "halo halo Bandung\n"
     ]
    }
   ],
   "source": [
    "message = \"halo halo Bandung\"\n",
    "print(message)"
   ]
  },
  {
   "cell_type": "code",
   "execution_count": 175,
   "metadata": {},
   "outputs": [
    {
     "name": "stdout",
     "output_type": "stream",
     "text": [
      "halo halo Bandung\n",
      "17\n"
     ]
    }
   ],
   "source": [
    "# cek panjang string, ada berapa karakter di dalam string, pakai len()\n",
    "print(message)\n",
    "print(len(message))"
   ]
  },
  {
   "cell_type": "markdown",
   "metadata": {},
   "source": [
    "### dengan + dan *"
   ]
  },
  {
   "cell_type": "code",
   "execution_count": 58,
   "metadata": {},
   "outputs": [
    {
     "name": "stdout",
     "output_type": "stream",
     "text": [
      "halo halo Bandung dan Bali 21.5\n"
     ]
    }
   ],
   "source": [
    "print(message + \" dan Bali \" + str(21.5))"
   ]
  },
  {
   "cell_type": "code",
   "execution_count": 62,
   "metadata": {},
   "outputs": [
    {
     "name": "stdout",
     "output_type": "stream",
     "text": [
      "halo halo Bandung. \n",
      "halo halo Bandung. \n",
      "halo halo Bandung. \n",
      "halo halo Bandung. \n",
      "halo halo Bandung. \n",
      "\n"
     ]
    }
   ],
   "source": [
    "print((message + \". \\n\") * 5)"
   ]
  },
  {
   "cell_type": "markdown",
   "metadata": {},
   "source": [
    "### dengan operator \"in\""
   ]
  },
  {
   "cell_type": "code",
   "execution_count": 63,
   "metadata": {},
   "outputs": [
    {
     "data": {
      "text/plain": [
       "False"
      ]
     },
     "execution_count": 63,
     "metadata": {},
     "output_type": "execute_result"
    }
   ],
   "source": [
    "# ada Bali nggak di message?\n",
    "\"Bali\" in message"
   ]
  },
  {
   "cell_type": "code",
   "execution_count": 64,
   "metadata": {},
   "outputs": [
    {
     "name": "stdout",
     "output_type": "stream",
     "text": [
      "halo halo Bandung\n"
     ]
    }
   ],
   "source": [
    "print(message)"
   ]
  },
  {
   "cell_type": "code",
   "execution_count": 65,
   "metadata": {},
   "outputs": [
    {
     "data": {
      "text/plain": [
       "True"
      ]
     },
     "execution_count": 65,
     "metadata": {},
     "output_type": "execute_result"
    }
   ],
   "source": [
    "\"Bandung\" in message"
   ]
  },
  {
   "cell_type": "code",
   "execution_count": 66,
   "metadata": {},
   "outputs": [
    {
     "data": {
      "text/plain": [
       "False"
      ]
     },
     "execution_count": 66,
     "metadata": {},
     "output_type": "execute_result"
    }
   ],
   "source": [
    "\"bandung\" in message"
   ]
  },
  {
   "cell_type": "markdown",
   "metadata": {},
   "source": [
    "untuk detail cara manipulasi string/data lainnya, bisa lihat di dokumentasi W3School https://www.w3schools.com/python/default.asp"
   ]
  },
  {
   "cell_type": "markdown",
   "metadata": {},
   "source": [
    "### konversi case sebuah string"
   ]
  },
  {
   "cell_type": "code",
   "execution_count": 69,
   "metadata": {},
   "outputs": [
    {
     "name": "stdout",
     "output_type": "stream",
     "text": [
      "halo halo~ Bandung dan Bali 2022\n"
     ]
    }
   ],
   "source": [
    "message = \"halo halo~ Bandung dan Bali 2022\"\n",
    "print(message)"
   ]
  },
  {
   "cell_type": "code",
   "execution_count": 75,
   "metadata": {},
   "outputs": [
    {
     "name": "stdout",
     "output_type": "stream",
     "text": [
      "HALO HALO~ BANDUNG DAN BALI 2022\n",
      "halo halo~ bandung dan bali 2022\n",
      "Halo Halo~ Bandung Dan Bali 2022\n",
      "HALO HALO~ bANDUNG DAN bALI 2022\n",
      "Halo halo~ bandung dan bali 2022\n"
     ]
    }
   ],
   "source": [
    "# UPPERCASE\n",
    "print(message.upper())\n",
    "\n",
    "# lowercase\n",
    "print(message.lower())\n",
    "\n",
    "# Title Case\n",
    "print(message.title())\n",
    "\n",
    "# sWAP cASE\n",
    "print(message.swapcase())\n",
    "\n",
    "# Capitalize\n",
    "print(message.capitalize())"
   ]
  },
  {
   "cell_type": "code",
   "execution_count": 77,
   "metadata": {},
   "outputs": [
    {
     "data": {
      "text/plain": [
       "True"
      ]
     },
     "execution_count": 77,
     "metadata": {},
     "output_type": "execute_result"
    }
   ],
   "source": [
    "\"bandung\".lower() in message.lower()"
   ]
  },
  {
   "cell_type": "markdown",
   "metadata": {},
   "source": [
    "# List\n",
    "- dibuat dengan []\n",
    "- banyak data di dalam satu list\n",
    "- tipe data yang bisa disimpan dalam list bebas\n",
    "- akses data dalam list pakai index"
   ]
  },
  {
   "cell_type": "code",
   "execution_count": 78,
   "metadata": {},
   "outputs": [
    {
     "name": "stdout",
     "output_type": "stream",
     "text": [
      "['Jeruk', 'Mangga', 'Kelapa']\n",
      "<class 'list'>\n"
     ]
    }
   ],
   "source": [
    "# simpan nama buah-buahan di satu list\n",
    "list_buah = ['Jeruk', 'Mangga', 'Kelapa']\n",
    "print(list_buah)\n",
    "print(type(list_buah))"
   ]
  },
  {
   "cell_type": "code",
   "execution_count": 83,
   "metadata": {},
   "outputs": [
    {
     "name": "stdout",
     "output_type": "stream",
     "text": [
      "True\n",
      "['Jeruk', 'Mangga', 'Kelapa']\n"
     ]
    }
   ],
   "source": [
    "# bisa diubah tipe datanya jadi string atau boolean\n",
    "print(bool(list_buah))\n",
    "print(str(list_buah))"
   ]
  },
  {
   "cell_type": "markdown",
   "metadata": {},
   "source": [
    "## cara baca list"
   ]
  },
  {
   "cell_type": "code",
   "execution_count": 85,
   "metadata": {},
   "outputs": [
    {
     "name": "stdout",
     "output_type": "stream",
     "text": [
      "Jeruk\n"
     ]
    }
   ],
   "source": [
    "# indexing - ambil 1 item dalam list\n",
    "# misal ambil index 0 untuk dapat 'Jeruk'\n",
    "buah = list_buah[0]\n",
    "print(buah)"
   ]
  },
  {
   "cell_type": "code",
   "execution_count": 86,
   "metadata": {},
   "outputs": [
    {
     "name": "stdout",
     "output_type": "stream",
     "text": [
      "Kelapa\n"
     ]
    }
   ],
   "source": [
    "# ambil Kelapa\n",
    "buah = list_buah[2]\n",
    "print(buah)"
   ]
  },
  {
   "cell_type": "code",
   "execution_count": 87,
   "metadata": {},
   "outputs": [
    {
     "name": "stdout",
     "output_type": "stream",
     "text": [
      "Kelapa\n"
     ]
    }
   ],
   "source": [
    "buah = list_buah[-1]\n",
    "print(buah)"
   ]
  },
  {
   "cell_type": "code",
   "execution_count": 89,
   "metadata": {},
   "outputs": [
    {
     "name": "stdout",
     "output_type": "stream",
     "text": [
      "['Jeruk', 'Mangga']\n"
     ]
    }
   ],
   "source": [
    "# slicing - ambil bbrp item sekaligus dalam list\n",
    "# misal ambil index 0 dan 1 untuk dapat 'Jeruk' dan 'Mangga'\n",
    "buah2 = list_buah[0:2]\n",
    "print(buah2)"
   ]
  },
  {
   "cell_type": "code",
   "execution_count": 92,
   "metadata": {},
   "outputs": [
    {
     "name": "stdout",
     "output_type": "stream",
     "text": [
      "['Jeruk', 'Mangga']\n"
     ]
    }
   ],
   "source": [
    "buah2 = list_buah[:2]\n",
    "print(buah2)"
   ]
  },
  {
   "cell_type": "code",
   "execution_count": 90,
   "metadata": {},
   "outputs": [
    {
     "name": "stdout",
     "output_type": "stream",
     "text": [
      "['Mangga', 'Kelapa']\n"
     ]
    }
   ],
   "source": [
    "# mangga dan kelapa\n",
    "buah2 = list_buah[-2:]\n",
    "print(buah2)"
   ]
  },
  {
   "cell_type": "code",
   "execution_count": 91,
   "metadata": {},
   "outputs": [
    {
     "name": "stdout",
     "output_type": "stream",
     "text": [
      "['Jeruk', 'Mangga', 'Kelapa']\n"
     ]
    }
   ],
   "source": [
    "# ambil semuanya\n",
    "buah2 = list_buah[:]\n",
    "print(buah2)"
   ]
  },
  {
   "cell_type": "markdown",
   "metadata": {},
   "source": [
    "## + dan * sebuah list"
   ]
  },
  {
   "cell_type": "code",
   "execution_count": 93,
   "metadata": {},
   "outputs": [
    {
     "name": "stdout",
     "output_type": "stream",
     "text": [
      "['Jeruk', 'Mangga', 'Kelapa']\n"
     ]
    }
   ],
   "source": [
    "print(list_buah)"
   ]
  },
  {
   "cell_type": "code",
   "execution_count": 94,
   "metadata": {},
   "outputs": [
    {
     "name": "stdout",
     "output_type": "stream",
     "text": [
      "['Jeruk', 'Mangga', 'Kelapa', 'Apel', 'Pir']\n"
     ]
    }
   ],
   "source": [
    "print(list_buah + ['Apel', 'Pir'])"
   ]
  },
  {
   "cell_type": "code",
   "execution_count": 95,
   "metadata": {},
   "outputs": [
    {
     "name": "stdout",
     "output_type": "stream",
     "text": [
      "['Jeruk', 'Mangga', 'Kelapa']\n"
     ]
    }
   ],
   "source": [
    "print(list_buah)"
   ]
  },
  {
   "cell_type": "code",
   "execution_count": 96,
   "metadata": {},
   "outputs": [
    {
     "name": "stdout",
     "output_type": "stream",
     "text": [
      "['Jeruk', 'Mangga', 'Kelapa', 'Jeruk', 'Mangga', 'Kelapa', 'Jeruk', 'Mangga', 'Kelapa']\n"
     ]
    }
   ],
   "source": [
    "print(list_buah * 3)"
   ]
  },
  {
   "cell_type": "markdown",
   "metadata": {},
   "source": [
    "## len, min, max\n",
    "len - cek seberapa \"panjang\" length sebuah list, ada berapa item di dalam   \n",
    "min - ambil item terkecil   \n",
    "max - ambil item terbesar"
   ]
  },
  {
   "cell_type": "code",
   "execution_count": 101,
   "metadata": {},
   "outputs": [
    {
     "name": "stdout",
     "output_type": "stream",
     "text": [
      "['Apel', 'Buah Naga', 'Duku', 'Melon']\n",
      "4\n",
      "Apel\n",
      "Melon\n"
     ]
    }
   ],
   "source": [
    "list_buah = ['Apel', 'Buah Naga', 'Duku', 'Melon']\n",
    "print(list_buah)\n",
    "print(len(list_buah))\n",
    "print(min(list_buah))\n",
    "print(max(list_buah))"
   ]
  },
  {
   "cell_type": "code",
   "execution_count": 102,
   "metadata": {},
   "outputs": [
    {
     "name": "stdout",
     "output_type": "stream",
     "text": [
      "[123, -49586, 0, 34, 2]\n",
      "5\n",
      "-49586\n",
      "123\n"
     ]
    }
   ],
   "source": [
    "list_angka = [123,-49586,0,34,2]\n",
    "print(list_angka)\n",
    "print(len(list_angka))\n",
    "print(min(list_angka))\n",
    "print(max(list_angka))"
   ]
  },
  {
   "cell_type": "markdown",
   "metadata": {},
   "source": [
    "## ubah item list"
   ]
  },
  {
   "cell_type": "code",
   "execution_count": 103,
   "metadata": {},
   "outputs": [
    {
     "name": "stdout",
     "output_type": "stream",
     "text": [
      "['Apel', 'Buah Naga', 'Duku', 'Melon']\n"
     ]
    }
   ],
   "source": [
    "print(list_buah)"
   ]
  },
  {
   "cell_type": "code",
   "execution_count": 105,
   "metadata": {},
   "outputs": [],
   "source": [
    "# ubah apel jadi jeruk\n",
    "list_buah[0] = \"Jeruk\""
   ]
  },
  {
   "cell_type": "code",
   "execution_count": 106,
   "metadata": {},
   "outputs": [
    {
     "name": "stdout",
     "output_type": "stream",
     "text": [
      "['Jeruk', 'Buah Naga', 'Duku', 'Melon']\n"
     ]
    }
   ],
   "source": [
    "print(list_buah)"
   ]
  },
  {
   "cell_type": "code",
   "execution_count": 109,
   "metadata": {},
   "outputs": [],
   "source": [
    "# ubah Jeruk, Buah Naga, dan Duku menjadi Pisang dan Durian\n",
    "list_buah[:3] = [\"Pisang\", \"Durian\"]"
   ]
  },
  {
   "cell_type": "code",
   "execution_count": 110,
   "metadata": {},
   "outputs": [
    {
     "name": "stdout",
     "output_type": "stream",
     "text": [
      "['Pisang', 'Durian', 'Melon']\n"
     ]
    }
   ],
   "source": [
    "print(list_buah)"
   ]
  },
  {
   "cell_type": "markdown",
   "metadata": {},
   "source": [
    "## append, remove\n",
    "menamdah dan mengurangi item dari sebuah list"
   ]
  },
  {
   "cell_type": "code",
   "execution_count": 111,
   "metadata": {},
   "outputs": [
    {
     "name": "stdout",
     "output_type": "stream",
     "text": [
      "['Pisang', 'Durian', 'Melon']\n"
     ]
    }
   ],
   "source": [
    "print(list_buah)"
   ]
  },
  {
   "cell_type": "code",
   "execution_count": 112,
   "metadata": {},
   "outputs": [],
   "source": [
    "# tambahin buah nanas\n",
    "list_buah.append(\"Nanas\")"
   ]
  },
  {
   "cell_type": "code",
   "execution_count": 113,
   "metadata": {},
   "outputs": [
    {
     "name": "stdout",
     "output_type": "stream",
     "text": [
      "['Pisang', 'Durian', 'Melon', 'Nanas']\n"
     ]
    }
   ],
   "source": [
    "print(list_buah)"
   ]
  },
  {
   "cell_type": "code",
   "execution_count": 114,
   "metadata": {},
   "outputs": [],
   "source": [
    "# hapus Durian\n",
    "list_buah.remove(\"Durian\")"
   ]
  },
  {
   "cell_type": "code",
   "execution_count": 115,
   "metadata": {},
   "outputs": [
    {
     "name": "stdout",
     "output_type": "stream",
     "text": [
      "['Pisang', 'Melon', 'Nanas']\n"
     ]
    }
   ],
   "source": [
    "print(list_buah)"
   ]
  },
  {
   "cell_type": "code",
   "execution_count": 121,
   "metadata": {},
   "outputs": [],
   "source": [
    "# append dengan +, perlu re-assign\n",
    "list_buah = list_buah + [\"Semangka\"]"
   ]
  },
  {
   "cell_type": "code",
   "execution_count": 122,
   "metadata": {},
   "outputs": [
    {
     "name": "stdout",
     "output_type": "stream",
     "text": [
      "['Pisang', 'Melon', 'Nanas', 'Semangka']\n"
     ]
    }
   ],
   "source": [
    "print(list_buah)"
   ]
  },
  {
   "cell_type": "code",
   "execution_count": 125,
   "metadata": {},
   "outputs": [],
   "source": [
    "# duplikat dengan *, perlu re-assign\n",
    "list_buah = list_buah * 2"
   ]
  },
  {
   "cell_type": "code",
   "execution_count": 126,
   "metadata": {},
   "outputs": [
    {
     "name": "stdout",
     "output_type": "stream",
     "text": [
      "['Pisang', 'Melon', 'Nanas', 'Semangka', 'Pisang', 'Melon', 'Nanas', 'Semangka']\n"
     ]
    }
   ],
   "source": [
    "print(list_buah)"
   ]
  },
  {
   "cell_type": "markdown",
   "metadata": {},
   "source": [
    "## operator in"
   ]
  },
  {
   "cell_type": "code",
   "execution_count": 127,
   "metadata": {},
   "outputs": [
    {
     "data": {
      "text/plain": [
       "False"
      ]
     },
     "execution_count": 127,
     "metadata": {},
     "output_type": "execute_result"
    }
   ],
   "source": [
    "# ada apel gak di list_buah?\n",
    "\"Apel\" in list_buah"
   ]
  },
  {
   "cell_type": "markdown",
   "metadata": {},
   "source": [
    "## tipe data item dalam list bebas"
   ]
  },
  {
   "cell_type": "code",
   "execution_count": 129,
   "metadata": {},
   "outputs": [
    {
     "name": "stdout",
     "output_type": "stream",
     "text": [
      "[123, 23.5, True, 'halo', [1, 3, 4]]\n"
     ]
    }
   ],
   "source": [
    "list_random = [123, 23.5, True, \"halo\", [1,3,4]]\n",
    "print(list_random)"
   ]
  },
  {
   "cell_type": "markdown",
   "metadata": {},
   "source": [
    "# Tuple\n",
    "- mirip sama list\n",
    "- buatnya pakai ()\n",
    "- item dalam tuple tidak bisa diganti"
   ]
  },
  {
   "cell_type": "code",
   "execution_count": 135,
   "metadata": {},
   "outputs": [
    {
     "name": "stdout",
     "output_type": "stream",
     "text": [
      "(50, 70, 59, 100)\n",
      "<class 'tuple'>\n"
     ]
    }
   ],
   "source": [
    "nilai_ujian = (50,70,59,100)\n",
    "\n",
    "print(nilai_ujian)\n",
    "print(type(nilai_ujian))"
   ]
  },
  {
   "cell_type": "markdown",
   "metadata": {},
   "source": [
    "karena tuple tidak bisa kita edit item nya, kalau mau append, kita ubah jadi list dulu, append, baru ubah balik jadi tuple"
   ]
  },
  {
   "cell_type": "code",
   "execution_count": 136,
   "metadata": {},
   "outputs": [
    {
     "data": {
      "text/plain": [
       "(50, 70, 59, 100, 82)"
      ]
     },
     "execution_count": 136,
     "metadata": {},
     "output_type": "execute_result"
    }
   ],
   "source": [
    "tuple(list(nilai_ujian) + [82])"
   ]
  },
  {
   "cell_type": "code",
   "execution_count": 137,
   "metadata": {},
   "outputs": [
    {
     "name": "stdout",
     "output_type": "stream",
     "text": [
      "50\n"
     ]
    }
   ],
   "source": [
    "# akses item di tuple, pakai index\n",
    "nilai_andi = nilai_ujian[0]\n",
    "print(nilai_andi)"
   ]
  },
  {
   "cell_type": "markdown",
   "metadata": {},
   "source": [
    "tidak bisa re-assign nilai item di tuple\n",
    "```python\n",
    "nilai_ujian[0] = 100\n",
    "```\n",
    "ini akan error"
   ]
  },
  {
   "cell_type": "markdown",
   "metadata": {},
   "source": [
    "## packing unpacking untuk list dan tuple"
   ]
  },
  {
   "cell_type": "code",
   "execution_count": 144,
   "metadata": {},
   "outputs": [
    {
     "name": "stdout",
     "output_type": "stream",
     "text": [
      "Apple\n",
      "Banana\n",
      "C\n"
     ]
    }
   ],
   "source": [
    "list_buah = [\"Apple\", \"Banana\", \"C\"]\n",
    "a,b,c = list_buah\n",
    "\n",
    "print(a)\n",
    "print(b)\n",
    "print(c)"
   ]
  },
  {
   "cell_type": "code",
   "execution_count": 147,
   "metadata": {},
   "outputs": [
    {
     "name": "stdout",
     "output_type": "stream",
     "text": [
      "50\n",
      "70\n",
      "59\n",
      "100\n"
     ]
    }
   ],
   "source": [
    "andi, budi, cindy, denis = nilai_ujian\n",
    "print(andi)\n",
    "print(budi)\n",
    "print(cindy)\n",
    "print(denis)"
   ]
  },
  {
   "cell_type": "markdown",
   "metadata": {},
   "source": [
    "# Dictionary\n",
    "- cara buat pakai {}\n",
    "- menjelaskan apa itu objek dunia nyata ke komputer, ada atribut dan value, key-value\n",
    "- setiap item dalam dictionary itu sepasang key dan value\n",
    "- key selalu string\n",
    "- value bebas\n",
    "- tidak punya index, index digantikan oleh key\n",
    "- list dengan custom index (key)"
   ]
  },
  {
   "cell_type": "code",
   "execution_count": 156,
   "metadata": {},
   "outputs": [
    {
     "name": "stdout",
     "output_type": "stream",
     "text": [
      "{'nama': 'Andhika Widjaja', 'umur': 24, 'hobi': ['tidur', 'programming']}\n",
      "<class 'dict'>\n"
     ]
    }
   ],
   "source": [
    "andi = {\n",
    "    \"nama\" : \"Andhika Widjaja\", \n",
    "    \"umur\" : 24,\n",
    "    \"hobi\" : [\"tidur\", \"programming\"],\n",
    "}\n",
    "print(andi)\n",
    "print(type(andi))"
   ]
  },
  {
   "cell_type": "code",
   "execution_count": 158,
   "metadata": {},
   "outputs": [
    {
     "name": "stdout",
     "output_type": "stream",
     "text": [
      "{37: 550000, 37.5: 560000, 38: 570000}\n"
     ]
    }
   ],
   "source": [
    "harga_sepatu = {\n",
    "    37: 550000,\n",
    "    37.5: 560000,\n",
    "    38: 570000\n",
    "}\n",
    "\n",
    "print(harga_sepatu)\n",
    "\n",
    "# key otomatis diubah jadi string oleh python"
   ]
  },
  {
   "cell_type": "markdown",
   "metadata": {},
   "source": [
    "## cara baca dictionary"
   ]
  },
  {
   "cell_type": "code",
   "execution_count": 160,
   "metadata": {},
   "outputs": [
    {
     "data": {
      "text/plain": [
       "['tidur', 'programming']"
      ]
     },
     "execution_count": 160,
     "metadata": {},
     "output_type": "execute_result"
    }
   ],
   "source": [
    "# mau ambil hobi nya andi\n",
    "andi['hobi']"
   ]
  },
  {
   "cell_type": "code",
   "execution_count": 164,
   "metadata": {},
   "outputs": [
    {
     "data": {
      "text/plain": [
       "'tidur'"
      ]
     },
     "execution_count": 164,
     "metadata": {},
     "output_type": "execute_result"
    }
   ],
   "source": [
    "# ambil hobi pertama andi\n",
    "andi['hobi'][0]"
   ]
  },
  {
   "cell_type": "markdown",
   "metadata": {},
   "source": [
    "## ubah item sebuah dictionary"
   ]
  },
  {
   "cell_type": "code",
   "execution_count": 162,
   "metadata": {},
   "outputs": [],
   "source": [
    "# ubah umur andi jadi 32\n",
    "andi['umur'] = 32"
   ]
  },
  {
   "cell_type": "code",
   "execution_count": 163,
   "metadata": {},
   "outputs": [
    {
     "name": "stdout",
     "output_type": "stream",
     "text": [
      "{'nama': 'Andhika Widjaja', 'umur': 32, 'hobi': ['tidur', 'programming']}\n"
     ]
    }
   ],
   "source": [
    "print(andi)"
   ]
  },
  {
   "cell_type": "markdown",
   "metadata": {},
   "source": [
    "## nambah item ke dictionary"
   ]
  },
  {
   "cell_type": "code",
   "execution_count": 166,
   "metadata": {},
   "outputs": [
    {
     "name": "stdout",
     "output_type": "stream",
     "text": [
      "{'nama': 'Andhika Widjaja', 'umur': 32, 'hobi': ['tidur', 'programming']}\n",
      "{'nama': 'Andhika Widjaja', 'umur': 32, 'hobi': ['tidur', 'programming'], 'student_id': 'PYTN071_S01'}\n"
     ]
    }
   ],
   "source": [
    "# input juga nomor student ID andi ke dict nya\n",
    "print(andi)\n",
    "andi['student_id'] = \"PYTN071_S01\"\n",
    "\n",
    "print(andi)"
   ]
  },
  {
   "cell_type": "code",
   "execution_count": 167,
   "metadata": {},
   "outputs": [
    {
     "name": "stdout",
     "output_type": "stream",
     "text": [
      "{'nama': 'Andreas Budiman', 'umur': 16, 'hobi': ['sepeda', 'basket']}\n"
     ]
    }
   ],
   "source": [
    "# dengan cara yang sama, kita bisa buat dictionary kosong lalu baru diisi satu satu\n",
    "budi = {}\n",
    "budi['nama'] = \"Andreas Budiman\"\n",
    "budi['umur'] = 16\n",
    "budi['hobi'] = [\"sepeda\", \"basket\"]\n",
    "\n",
    "print(budi)"
   ]
  },
  {
   "cell_type": "markdown",
   "metadata": {},
   "source": [
    "## lihat isi dictionary"
   ]
  },
  {
   "cell_type": "code",
   "execution_count": 169,
   "metadata": {},
   "outputs": [
    {
     "data": {
      "text/plain": [
       "dict_keys(['nama', 'umur', 'hobi'])"
      ]
     },
     "execution_count": 169,
     "metadata": {},
     "output_type": "execute_result"
    }
   ],
   "source": [
    "# cek semua key dalam dictionary\n",
    "budi.keys()"
   ]
  },
  {
   "cell_type": "code",
   "execution_count": 171,
   "metadata": {},
   "outputs": [
    {
     "data": {
      "text/plain": [
       "dict_values(['Andreas Budiman', 16, ['sepeda', 'basket']])"
      ]
     },
     "execution_count": 171,
     "metadata": {},
     "output_type": "execute_result"
    }
   ],
   "source": [
    "# semua values\n",
    "budi.values()"
   ]
  },
  {
   "cell_type": "code",
   "execution_count": 170,
   "metadata": {},
   "outputs": [
    {
     "data": {
      "text/plain": [
       "dict_items([('nama', 'Andreas Budiman'), ('umur', 16), ('hobi', ['sepeda', 'basket'])])"
      ]
     },
     "execution_count": 170,
     "metadata": {},
     "output_type": "execute_result"
    }
   ],
   "source": [
    "# semua item\n",
    "budi.items()"
   ]
  },
  {
   "cell_type": "code",
   "execution_count": 172,
   "metadata": {},
   "outputs": [
    {
     "data": {
      "text/plain": [
       "3"
      ]
     },
     "execution_count": 172,
     "metadata": {},
     "output_type": "execute_result"
    }
   ],
   "source": [
    "# panjang dictionary, ada brp item dalam dictionary ini\n",
    "len(budi)"
   ]
  },
  {
   "cell_type": "markdown",
   "metadata": {},
   "source": [
    "## latihan sesi 1:\n",
    "- instalasi Anaconda (atau VSCode + extension yang diperlukan)\n",
    "- buat sebuah python notebook\n",
    "- buat variable untuk setiap tipe data, coba bikin setiap tipe data\n",
    "    - int\n",
    "    - float\n",
    "    - str\n",
    "    - bool\n",
    "    - list\n",
    "    - tuple\n",
    "    - dict\n",
    "- buat akun github di https://github.com/\n",
    "- instalasi github desktop https://desktop.github.com/"
   ]
  },
  {
   "cell_type": "code",
   "execution_count": null,
   "metadata": {},
   "outputs": [],
   "source": []
  }
 ],
 "metadata": {
  "kernelspec": {
   "display_name": "Python 3 (ipykernel)",
   "language": "python",
   "name": "python3"
  },
  "language_info": {
   "codemirror_mode": {
    "name": "ipython",
    "version": 3
   },
   "file_extension": ".py",
   "mimetype": "text/x-python",
   "name": "python",
   "nbconvert_exporter": "python",
   "pygments_lexer": "ipython3",
   "version": "3.8.5"
  }
 },
 "nbformat": 4,
 "nbformat_minor": 4
}
