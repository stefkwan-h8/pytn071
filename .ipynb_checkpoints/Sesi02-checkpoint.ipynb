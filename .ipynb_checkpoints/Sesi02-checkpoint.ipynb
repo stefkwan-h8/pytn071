{
 "cells": [
  {
   "cell_type": "markdown",
   "metadata": {},
   "source": [
    "# Condition\n",
    "menggunakan pertanyaan `if` dengan kondisi True False`"
   ]
  },
  {
   "cell_type": "code",
   "execution_count": 1,
   "metadata": {},
   "outputs": [
    {
     "data": {
      "text/plain": [
       "True"
      ]
     },
     "execution_count": 1,
     "metadata": {},
     "output_type": "execute_result"
    }
   ],
   "source": [
    "# apakah ada apel di list buah ini\n",
    "list_buah = ['apel', 'mangga']\n",
    "\n",
    "'apel' in list_buah"
   ]
  },
  {
   "cell_type": "code",
   "execution_count": 2,
   "metadata": {},
   "outputs": [
    {
     "data": {
      "text/plain": [
       "True"
      ]
     },
     "execution_count": 2,
     "metadata": {},
     "output_type": "execute_result"
    }
   ],
   "source": [
    "bool(10)"
   ]
  },
  {
   "cell_type": "markdown",
   "metadata": {},
   "source": [
    "## if statement\n",
    "```python\n",
    "if (expression):\n",
    "    kode yang akan dijalankan disini\n",
    "    bisa lebih dari 1 baris\n",
    "    \n",
    "kode disini tidak peduli sama if nya\n",
    "```"
   ]
  },
  {
   "cell_type": "code",
   "execution_count": 3,
   "metadata": {},
   "outputs": [
    {
     "name": "stdout",
     "output_type": "stream",
     "text": [
      "ada apel di list_buah, jadi kita beli apel\n"
     ]
    }
   ],
   "source": [
    "# kita buat sebuah if, kalau ada apel, kita beli apel\n",
    "if ('apel' in list_buah):\n",
    "    print(\"ada apel di list_buah, jadi kita beli apel\")"
   ]
  },
  {
   "cell_type": "code",
   "execution_count": 9,
   "metadata": {},
   "outputs": [],
   "source": [
    "# kita buat sebuah if, kalau ada pisang, kita beli pisang\n",
    "cari = 'pisang'\n",
    "if (cari in list_buah):\n",
    "    print(\"ada \" + cari + \" di list_buah, jadi kita beli \" + cari)"
   ]
  },
  {
   "cell_type": "code",
   "execution_count": 5,
   "metadata": {},
   "outputs": [
    {
     "name": "stdout",
     "output_type": "stream",
     "text": [
      "ada mangga di list_buah, jadi kita beli mangga\n"
     ]
    }
   ],
   "source": [
    "cari = 'mangga'\n",
    "if (cari in list_buah):\n",
    "    print(\"ada \" + cari + \" di list_buah, jadi kita beli \" + cari)"
   ]
  },
  {
   "cell_type": "code",
   "execution_count": 10,
   "metadata": {},
   "outputs": [
    {
     "name": "stdout",
     "output_type": "stream",
     "text": [
      "10\n"
     ]
    }
   ],
   "source": [
    "# cek angka\n",
    "a = 10\n",
    "if (a):\n",
    "    print(a)"
   ]
  },
  {
   "cell_type": "markdown",
   "metadata": {},
   "source": [
    "## else\n",
    "kalau kondisinya False, yang di dalam if gak jalan, bisa gak kisa buat ada kode yang jalan juga kalau False - bisa, pakai else"
   ]
  },
  {
   "cell_type": "code",
   "execution_count": 16,
   "metadata": {},
   "outputs": [
    {
     "name": "stdout",
     "output_type": "stream",
     "text": [
      "uang cukup\n",
      "langsung bayar\n",
      "sisa uang: 150000\n"
     ]
    }
   ],
   "source": [
    "# misalnya kita lagi belanja\n",
    "# kalau uang cukup, kita bayar\n",
    "# kalau tidak cukup, kita ambil dulu di atm\n",
    "uang = 200000\n",
    "harga = 50000\n",
    "\n",
    "if (uang >= harga):\n",
    "    print(\"uang cukup\")\n",
    "    print(\"langsung bayar\")\n",
    "    sisa = uang - harga\n",
    "    print(\"sisa uang:\", sisa)\n",
    "else:\n",
    "    print(\"uang tidak cukup, ke atm dulu\")\n",
    "    kurang = harga - uang\n",
    "    print(\"kurang\", kurang)"
   ]
  },
  {
   "cell_type": "markdown",
   "metadata": {},
   "source": [
    "## elif\n",
    "gabungan dari else dan if, kalau if pertama False, kita masuk ke elif seperti if kedua dan seterusnya"
   ]
  },
  {
   "cell_type": "code",
   "execution_count": 23,
   "metadata": {},
   "outputs": [
    {
     "name": "stdout",
     "output_type": "stream",
     "text": [
      "dapet D\n"
     ]
    }
   ],
   "source": [
    "nilai = 42\n",
    "\n",
    "if nilai == 100:\n",
    "    print(\"dapet A\")\n",
    "else:\n",
    "    # kalua bukan 100, kita perlu cek juga apakah 90-99 -> B\n",
    "    if (nilai <= 99) & (nilai >= 90):\n",
    "        print(\"dapet B\")\n",
    "    else:\n",
    "        # kalau antara 50-89 --> C\n",
    "        if (nilai <= 89) & (nilai >=50):\n",
    "            print(\"dapet C\")\n",
    "        else:\n",
    "            print(\"dapet D\")"
   ]
  },
  {
   "cell_type": "code",
   "execution_count": 24,
   "metadata": {},
   "outputs": [
    {
     "name": "stdout",
     "output_type": "stream",
     "text": [
      "dapet D\n"
     ]
    }
   ],
   "source": [
    "nilai = 42\n",
    "\n",
    "if nilai == 100:\n",
    "    print(\"dapet A\")\n",
    "elif (nilai <= 99) & (nilai >= 90):\n",
    "    print(\"dapet B\")\n",
    "elif (nilai <= 89) & (nilai >=50):\n",
    "    print(\"dapet C\")\n",
    "else:\n",
    "    print(\"dapet D\")"
   ]
  },
  {
   "cell_type": "markdown",
   "metadata": {},
   "source": [
    "kondisi di if dan elif baiknya satu tema. misalkan if menanyakan umur, maka elif nya nanya umur juga, jangan disambung hal yang berbeda.   \n",
    "kalau kondisinya sudah membahas hal berbeda, baiknya kita pakai nested if saja."
   ]
  },
  {
   "cell_type": "code",
   "execution_count": 25,
   "metadata": {},
   "outputs": [
    {
     "name": "stdout",
     "output_type": "stream",
     "text": [
      "boleh beli tiket\n",
      "bisa beli tiket\n"
     ]
    }
   ],
   "source": [
    "# cek umur, kalau >= 17 boleh beli tiket pesawat\n",
    "# cek saldo, kalau cukup, baru bisa beli tiketnya\n",
    "umur = 20\n",
    "saldo = 200000\n",
    "harga = 200000\n",
    "\n",
    "if (umur >= 17):\n",
    "    print(\"boleh beli tiket\")\n",
    "    if (saldo >= harga):\n",
    "        print(\"bisa beli tiket\")\n",
    "    else:\n",
    "        print(\"saldo tidak cukup\")\n",
    "else:\n",
    "    print(\"umur tidak cukup\")"
   ]
  },
  {
   "cell_type": "code",
   "execution_count": 32,
   "metadata": {},
   "outputs": [
    {
     "name": "stdout",
     "output_type": "stream",
     "text": [
      "boleh beli tiket\n",
      "saldo tidak cukup\n"
     ]
    }
   ],
   "source": [
    "# kalau if dan elif sama sama nanya umur dan saldo, boleh kita susun seperti ini\n",
    "if (umur >= 17) & (saldo >= harga):\n",
    "    print(\"boleh beli tiket\")\n",
    "    print(\"bisa beli tiket\")\n",
    "elif (umur >=17) & (saldo < harga):\n",
    "    print(\"boleh beli tiket\")\n",
    "    print(\"saldo tidak cukup\")    \n",
    "else:\n",
    "    print(\"umur tidak cukup atau saldo tidak cukup\")"
   ]
  },
  {
   "cell_type": "code",
   "execution_count": 33,
   "metadata": {},
   "outputs": [
    {
     "name": "stdout",
     "output_type": "stream",
     "text": [
      "umur tidak cukup atau saldo tidak cukup\n"
     ]
    }
   ],
   "source": [
    "# contoh buruk, bad practice\n",
    "# python tidak error, tapi baiknya tidak dilakukan\n",
    "umur = 20\n",
    "saldo = 200000\n",
    "harga = 2000000\n",
    "membership = False\n",
    "\n",
    "if (umur >= 17) & (saldo >= harga):\n",
    "    print(\"boleh beli tiket\")\n",
    "    print(\"bisa beli tiket\")\n",
    "elif membership:\n",
    "    print(\"boleh ke lounge\")\n",
    "else:\n",
    "    print(\"umur tidak cukup atau saldo tidak cukup\")"
   ]
  },
  {
   "cell_type": "markdown",
   "metadata": {},
   "source": [
    "## One-line if statement\n",
    "menulis if semuanya di 1 baris yang sama"
   ]
  },
  {
   "cell_type": "code",
   "execution_count": 36,
   "metadata": {},
   "outputs": [
    {
     "name": "stdout",
     "output_type": "stream",
     "text": [
      "sapa Susan\n",
      "selamat pagi!\n"
     ]
    }
   ],
   "source": [
    "# misalkan ketemu Susan, kita sapa\n",
    "nama = \"Susan\"\n",
    "if (nama == \"Susan\"):\n",
    "    print(\"sapa\", nama)\n",
    "    print(\"selamat pagi!\")"
   ]
  },
  {
   "cell_type": "code",
   "execution_count": 37,
   "metadata": {},
   "outputs": [
    {
     "name": "stdout",
     "output_type": "stream",
     "text": [
      "sapa Susan\n",
      "selamat pagi!\n"
     ]
    }
   ],
   "source": [
    "# versi 1 baris\n",
    "if (nama == \"Susan\"): print(\"sapa\", nama); print(\"selamat pagi!\")"
   ]
  },
  {
   "cell_type": "code",
   "execution_count": 38,
   "metadata": {},
   "outputs": [
    {
     "name": "stdout",
     "output_type": "stream",
     "text": [
      "pagi\n"
     ]
    }
   ],
   "source": [
    "# kalau ada elif dan else?\n",
    "nama = \"Budi\"\n",
    "if (nama == \"Susan\"):\n",
    "    print(\"sapa\", nama)\n",
    "    print(\"selamat pagi!\")\n",
    "elif (nama == \"Andi\"):\n",
    "    print(\"bro!\")\n",
    "else:\n",
    "    print(\"pagi\")"
   ]
  },
  {
   "cell_type": "code",
   "execution_count": 39,
   "metadata": {},
   "outputs": [
    {
     "name": "stdout",
     "output_type": "stream",
     "text": [
      "pagi\n"
     ]
    }
   ],
   "source": [
    "# versi 1 baris (tapi jadi 3 baris)\n",
    "if (nama == \"Susan\"): print(\"sapa\", nama); print(\"selamat pagi!\")\n",
    "elif (nama == \"Andi\"): print(\"bro!\")\n",
    "else: print(\"pagi\")"
   ]
  },
  {
   "cell_type": "markdown",
   "metadata": {},
   "source": [
    "## Ternary\n",
    "khusus untuk if simple"
   ]
  },
  {
   "cell_type": "code",
   "execution_count": 45,
   "metadata": {},
   "outputs": [
    {
     "name": "stdout",
     "output_type": "stream",
     "text": [
      "bawa payung\n"
     ]
    }
   ],
   "source": [
    "# kalau hujan, kita bawa payung, kalau nggak, gak bawa\n",
    "cuaca = \"hujan\"\n",
    "if (cuaca == \"hujan\"):\n",
    "    print(\"bawa payung\")\n",
    "else:\n",
    "    print(\"tidak bawa payung\")"
   ]
  },
  {
   "cell_type": "code",
   "execution_count": 46,
   "metadata": {},
   "outputs": [
    {
     "name": "stdout",
     "output_type": "stream",
     "text": [
      "bawa payung\n"
     ]
    }
   ],
   "source": [
    "# versi ternary\n",
    "cuaca = \"hujan\"\n",
    "print(\"bawa payung\" if (cuaca == \"hujan\") else \"tidak bawa payung\")"
   ]
  },
  {
   "cell_type": "code",
   "execution_count": 51,
   "metadata": {},
   "outputs": [],
   "source": [
    "# ternary dimasukkan ke variabel\n",
    "hasil = \"bawa payung\" if (cuaca == \"hujan\") else \"tidak bawa payung\""
   ]
  },
  {
   "cell_type": "code",
   "execution_count": 52,
   "metadata": {},
   "outputs": [
    {
     "name": "stdout",
     "output_type": "stream",
     "text": [
      "bawa payung\n"
     ]
    }
   ],
   "source": [
    "print(hasil)"
   ]
  },
  {
   "cell_type": "code",
   "execution_count": 67,
   "metadata": {},
   "outputs": [
    {
     "name": "stdout",
     "output_type": "stream",
     "text": [
      "A\n"
     ]
    }
   ],
   "source": [
    "# ternary untuk if yang lebih panjang agak sulit dibaca jadi tidak direkomen\n",
    "nilai = 100\n",
    "\n",
    "grade = \"A\" if nilai == 100 else (\"B\" if nilai >= 90 else (\"C\" if nilai >= 50 else \"D\"))\n",
    "\n",
    "print(grade)"
   ]
  },
  {
   "cell_type": "markdown",
   "metadata": {},
   "source": [
    "## pass\n",
    "saat kita membuat if (atau loop nantinya) tapi belum kita isi code mau ngapain"
   ]
  },
  {
   "cell_type": "code",
   "execution_count": 54,
   "metadata": {},
   "outputs": [],
   "source": [
    "# kita tau mau melakukan sesuatu kalau cerah\n",
    "# tapi belum tau pastinya apa\n",
    "if (cuaca == \"cerah\"):\n",
    "    pass\n",
    "elif (cuaca == \"hujan\"):\n",
    "    pass\n",
    "else:\n",
    "    print(\"badai atau bencana lainnya\")"
   ]
  },
  {
   "cell_type": "markdown",
   "metadata": {},
   "source": [
    "latihan: buat if statement\n",
    "\n",
    " - diberikan 2 variable, tinggi dan uang\n",
    " - buat statement orang tersebut bisa naik roller coaster atau tidak\n",
    " - tinggi minimal 120\n",
    " - uang minimal 30000"
   ]
  },
  {
   "cell_type": "code",
   "execution_count": 71,
   "metadata": {},
   "outputs": [
    {
     "name": "stdout",
     "output_type": "stream",
     "text": [
      "tidak cukup tinggi untuk naik roller coaster\n"
     ]
    }
   ],
   "source": [
    "# orang kita\n",
    "tinggi = 110\n",
    "uang = 5000\n",
    "\n",
    "# requirement\n",
    "min_tinggi = 120\n",
    "harga = 30000\n",
    "\n",
    "# apakah tinggi orang kita cukup untuk naik roller coaster?\n",
    "if (tinggi >= min_tinggi):\n",
    "    print(\"cukup tinggi untuk naik roller coaster\")\n",
    "    \n",
    "    # uangnya cukup tidak untuk beli tiket naik roller coaster\n",
    "    if (uang >= harga):\n",
    "        print(\"bisa naik roller coaster\")\n",
    "    else :\n",
    "        print(\"uangnya kurang untuk beli tiket naik roller coaster\")\n",
    "else:\n",
    "    print(\"tidak cukup tinggi untuk naik roller coaster\")"
   ]
  },
  {
   "cell_type": "markdown",
   "metadata": {},
   "source": [
    "# Iteration (loop)\n",
    "melakukan code yang sama berulang kali"
   ]
  },
  {
   "cell_type": "markdown",
   "metadata": {},
   "source": [
    "## while\n",
    "mirip if, blok kode jalan lagi (terus terusan) selama kondisi masih True"
   ]
  },
  {
   "cell_type": "code",
   "execution_count": 77,
   "metadata": {},
   "outputs": [
    {
     "name": "stdout",
     "output_type": "stream",
     "text": [
      "tidak boleh naik roller coaster 115\n",
      "tidak boleh naik roller coaster 116\n",
      "tidak boleh naik roller coaster 117\n",
      "tidak boleh naik roller coaster 118\n",
      "tidak boleh naik roller coaster 119\n",
      "di luar loop\n"
     ]
    }
   ],
   "source": [
    "# selama tinggi badan kurang, tidak boleh naik roller coaster\n",
    "tinggi = 115\n",
    "while (tinggi < 120):\n",
    "    print(\"tidak boleh naik roller coaster\", tinggi)\n",
    "    tinggi = tinggi + 1\n",
    "    \n",
    "print(\"di luar loop\")"
   ]
  },
  {
   "cell_type": "code",
   "execution_count": 79,
   "metadata": {},
   "outputs": [
    {
     "name": "stdout",
     "output_type": "stream",
     "text": [
      "1\n",
      "2\n",
      "3\n",
      "4\n",
      "5\n",
      "6\n",
      "7\n",
      "8\n",
      "9\n",
      "10\n"
     ]
    }
   ],
   "source": [
    "# kita buat counter untuk loop 10 kali\n",
    "counter = 1\n",
    "while (counter <= 10):\n",
    "    print(counter)\n",
    "    #     counter = counter + 1\n",
    "    counter += 1\n",
    "    "
   ]
  },
  {
   "cell_type": "markdown",
   "metadata": {},
   "source": [
    "## break dan continue\n",
    "break - menghentikan loop (instan, seperti dengan paksa)   \n",
    "continue - skip semua code yang ada di bawah continue, lalu balik ke atas ke pengecekan kondisinya"
   ]
  },
  {
   "cell_type": "code",
   "execution_count": 86,
   "metadata": {},
   "outputs": [
    {
     "name": "stdout",
     "output_type": "stream",
     "text": [
      "1\n",
      "2\n",
      "3\n",
      "4\n",
      "5\n",
      "6\n",
      "8\n",
      "9\n",
      "10\n"
     ]
    }
   ],
   "source": [
    "# cara pakai continue\n",
    "# dari angka urut 1-10, kalau ketemu 7 kita skip\n",
    "counter = 0\n",
    "while (counter < 10):  \n",
    "    counter += 1 \n",
    "    if (counter == 7):\n",
    "        continue\n",
    "    print(counter)"
   ]
  },
  {
   "cell_type": "code",
   "execution_count": 88,
   "metadata": {},
   "outputs": [
    {
     "name": "stdout",
     "output_type": "stream",
     "text": [
      "6\n",
      "7\n",
      "8\n",
      "9\n",
      "10\n"
     ]
    }
   ],
   "source": [
    "# cara pakai break\n",
    "# dari angka urut, kalau ketemu 5, kita berhenti\n",
    "counter = 5\n",
    "while (counter < 10):  \n",
    "    counter += 1 \n",
    "    if (counter == 5):\n",
    "        break\n",
    "    print(counter)"
   ]
  },
  {
   "cell_type": "markdown",
   "metadata": {},
   "source": [
    "## else\n",
    "kalau kondisi yang di cek oleh while itu False, kita masuk ke dalam blok kode else   \n",
    "perbedaan pakai else atau tulis code di luar loop adalah dari break, break tidak masuk ke else"
   ]
  },
  {
   "cell_type": "code",
   "execution_count": 94,
   "metadata": {},
   "outputs": [
    {
     "name": "stdout",
     "output_type": "stream",
     "text": [
      "1\n"
     ]
    }
   ],
   "source": [
    "counter = 1\n",
    "while (counter <= 10):\n",
    "    print(counter)\n",
    "    counter += 1\n",
    "    break\n",
    "else:\n",
    "    print(counter <= 10)\n",
    "    print(\"kondisi sudah jadi false\", counter)"
   ]
  },
  {
   "cell_type": "code",
   "execution_count": 95,
   "metadata": {},
   "outputs": [
    {
     "name": "stdout",
     "output_type": "stream",
     "text": [
      "1\n",
      "True\n",
      "kondisi sudah jadi false 2\n"
     ]
    }
   ],
   "source": [
    "counter = 1\n",
    "while (counter <= 10):\n",
    "    print(counter)\n",
    "    counter += 1\n",
    "    break\n",
    "\n",
    "print(counter <= 10)\n",
    "print(\"kondisi sudah jadi false\", counter)"
   ]
  },
  {
   "cell_type": "markdown",
   "metadata": {},
   "source": [
    "## Nested\n",
    "nested if: dalam if ada if   \n",
    "nested loop: dalam loop ada loop"
   ]
  },
  {
   "cell_type": "code",
   "execution_count": 99,
   "metadata": {},
   "outputs": [
    {
     "name": "stdout",
     "output_type": "stream",
     "text": [
      "diatas 10 100\n",
      "diatas 20 100\n"
     ]
    }
   ],
   "source": [
    "# contoh nested if\n",
    "n = 100\n",
    "if (n > 10):\n",
    "    print(\"diatas 10\", n)\n",
    "    if (n > 20):\n",
    "        print(\"diatas 20\", n)"
   ]
  },
  {
   "cell_type": "code",
   "execution_count": 98,
   "metadata": {},
   "outputs": [
    {
     "name": "stdout",
     "output_type": "stream",
     "text": [
      "diatas 10 100\n",
      "diatas 20 90\n",
      "diatas 20 85\n",
      "diatas 20 80\n",
      "diatas 20 75\n",
      "diatas 20 70\n",
      "diatas 20 65\n",
      "diatas 20 60\n",
      "diatas 20 55\n",
      "diatas 20 50\n",
      "diatas 20 45\n",
      "diatas 20 40\n",
      "diatas 20 35\n",
      "diatas 20 30\n",
      "diatas 20 25\n",
      "diatas 10 20\n"
     ]
    }
   ],
   "source": [
    "# contoh nested loop\n",
    "n = 100\n",
    "while (n > 10):\n",
    "    print(\"diatas 10\", n)\n",
    "    n -= 10\n",
    "    while (n > 20):\n",
    "        print(\"diatas 20\", n)\n",
    "        n -= 5"
   ]
  },
  {
   "cell_type": "markdown",
   "metadata": {},
   "source": [
    "## one-line while loop"
   ]
  },
  {
   "cell_type": "code",
   "execution_count": 100,
   "metadata": {},
   "outputs": [
    {
     "name": "stdout",
     "output_type": "stream",
     "text": [
      "1\n",
      "2\n",
      "3\n",
      "4\n",
      "5\n",
      "6\n",
      "7\n",
      "8\n",
      "9\n",
      "10\n"
     ]
    }
   ],
   "source": [
    "counter = 1\n",
    "while (counter <= 10):\n",
    "    print(counter)\n",
    "    counter += 1"
   ]
  },
  {
   "cell_type": "code",
   "execution_count": 101,
   "metadata": {},
   "outputs": [
    {
     "name": "stdout",
     "output_type": "stream",
     "text": [
      "1\n",
      "2\n",
      "3\n",
      "4\n",
      "5\n",
      "6\n",
      "7\n",
      "8\n",
      "9\n",
      "10\n"
     ]
    }
   ],
   "source": [
    "# versi one-line\n",
    "counter = 1\n",
    "while (counter <= 10): print(counter); counter += 1"
   ]
  },
  {
   "cell_type": "markdown",
   "metadata": {},
   "source": [
    "## Notes untuk While loop\n",
    "saat menggunakan while loop, pastikan kondisinya akan berubah menjadi False. code yang merubah kondisi jadi False harus ada di dalam while loop"
   ]
  },
  {
   "cell_type": "markdown",
   "metadata": {},
   "source": [
    "## for\n",
    "untuk setiap item dalam sebuah koleksi:\n",
    "- list\n",
    "- tuple\n",
    "- dictionary\n",
    "- range\n",
    "- string"
   ]
  },
  {
   "cell_type": "markdown",
   "metadata": {},
   "source": [
    "## list"
   ]
  },
  {
   "cell_type": "code",
   "execution_count": 72,
   "metadata": {},
   "outputs": [
    {
     "name": "stdout",
     "output_type": "stream",
     "text": [
      "dress merah\n",
      "kaos kuning\n",
      "jeans biru\n"
     ]
    }
   ],
   "source": [
    "# list\n",
    "list_baju = [\"dress merah\", \"kaos kuning\", \"jeans biru\"]\n",
    "\n",
    "# untuk setiap baju dalam list ini ...\n",
    "for baju in list_baju:\n",
    "    print(baju)"
   ]
  },
  {
   "cell_type": "code",
   "execution_count": 102,
   "metadata": {},
   "outputs": [
    {
     "name": "stdout",
     "output_type": "stream",
     "text": [
      "a\n",
      "123\n",
      "21.3\n",
      "True\n",
      "[]\n"
     ]
    }
   ],
   "source": [
    "list_random = [\"a\",123,21.3,True,[]]\n",
    "\n",
    "for item in list_random:\n",
    "    print(item)"
   ]
  },
  {
   "cell_type": "markdown",
   "metadata": {},
   "source": [
    "## tuple"
   ]
  },
  {
   "cell_type": "code",
   "execution_count": 105,
   "metadata": {},
   "outputs": [
    {
     "name": "stdout",
     "output_type": "stream",
     "text": [
      "12\n",
      "45\n",
      "76\n",
      "90\n"
     ]
    }
   ],
   "source": [
    "# tuple\n",
    "tuple_nilai = (12,45,76,90)\n",
    "\n",
    "for int_nilai in tuple_nilai:\n",
    "    print(int_nilai)"
   ]
  },
  {
   "cell_type": "markdown",
   "metadata": {},
   "source": [
    "## dictionary"
   ]
  },
  {
   "cell_type": "code",
   "execution_count": 106,
   "metadata": {},
   "outputs": [
    {
     "name": "stdout",
     "output_type": "stream",
     "text": [
      "nama\n",
      "umur\n",
      "hobi\n"
     ]
    }
   ],
   "source": [
    "# dictionary\n",
    "# setiap itemnya adalah sepasang key:value\n",
    "andi = {\n",
    "    \"nama\" : \"Andhika Widjaja\", \n",
    "    \"umur\" : 24,\n",
    "    \"hobi\" : [\"tidur\", \"programming\"],\n",
    "}\n",
    "\n",
    "for atribut in andi:\n",
    "    print(atribut)\n",
    "    \n",
    "# note yang di print kalau kita bilang for item in dictionary, adalah keys nya"
   ]
  },
  {
   "cell_type": "code",
   "execution_count": 107,
   "metadata": {},
   "outputs": [
    {
     "name": "stdout",
     "output_type": "stream",
     "text": [
      "nama\n",
      "umur\n",
      "hobi\n"
     ]
    }
   ],
   "source": [
    "for key in andi.keys():\n",
    "    print(key)"
   ]
  },
  {
   "cell_type": "code",
   "execution_count": 108,
   "metadata": {},
   "outputs": [
    {
     "name": "stdout",
     "output_type": "stream",
     "text": [
      "Andhika Widjaja\n",
      "24\n",
      "['tidur', 'programming']\n"
     ]
    }
   ],
   "source": [
    "for val in andi.values():\n",
    "    print(val)"
   ]
  },
  {
   "cell_type": "code",
   "execution_count": 109,
   "metadata": {},
   "outputs": [
    {
     "name": "stdout",
     "output_type": "stream",
     "text": [
      "('nama', 'Andhika Widjaja')\n",
      "('umur', 24)\n",
      "('hobi', ['tidur', 'programming'])\n"
     ]
    }
   ],
   "source": [
    "for item in andi.items():\n",
    "    print(item)"
   ]
  },
  {
   "cell_type": "code",
   "execution_count": 113,
   "metadata": {},
   "outputs": [],
   "source": [
    "# misalkan mau print key dan value nya, kita bisa:"
   ]
  },
  {
   "cell_type": "code",
   "execution_count": 111,
   "metadata": {},
   "outputs": [
    {
     "name": "stdout",
     "output_type": "stream",
     "text": [
      "nama adalah Andhika Widjaja\n",
      "umur adalah 24\n",
      "hobi adalah ['tidur', 'programming']\n"
     ]
    }
   ],
   "source": [
    "for k in andi:\n",
    "    print(k,\"adalah\", andi[k])"
   ]
  },
  {
   "cell_type": "code",
   "execution_count": 112,
   "metadata": {},
   "outputs": [
    {
     "name": "stdout",
     "output_type": "stream",
     "text": [
      "nama adalah Andhika Widjaja\n",
      "umur adalah 24\n",
      "hobi adalah ['tidur', 'programming']\n"
     ]
    }
   ],
   "source": [
    "for k in andi.keys():\n",
    "    print(k,\"adalah\", andi[k])"
   ]
  },
  {
   "cell_type": "code",
   "execution_count": 117,
   "metadata": {},
   "outputs": [
    {
     "name": "stdout",
     "output_type": "stream",
     "text": [
      "1\n",
      "2\n",
      "3\n"
     ]
    }
   ],
   "source": [
    "# unpacking\n",
    "a,b,c = (1,2,3)\n",
    "\n",
    "print(a)\n",
    "print(b)\n",
    "print(c)"
   ]
  },
  {
   "cell_type": "code",
   "execution_count": 118,
   "metadata": {},
   "outputs": [
    {
     "name": "stdout",
     "output_type": "stream",
     "text": [
      "nama adalah Andhika Widjaja\n",
      "umur adalah 24\n",
      "hobi adalah ['tidur', 'programming']\n"
     ]
    }
   ],
   "source": [
    "for key, val in andi.items():\n",
    "    print(key, \"adalah\", val)"
   ]
  },
  {
   "cell_type": "markdown",
   "metadata": {},
   "source": [
    "## range\n",
    "struktur data baru, membuat angka urut"
   ]
  },
  {
   "cell_type": "code",
   "execution_count": 120,
   "metadata": {},
   "outputs": [
    {
     "data": {
      "text/plain": [
       "range(0, 10)"
      ]
     },
     "execution_count": 120,
     "metadata": {},
     "output_type": "execute_result"
    }
   ],
   "source": [
    "# buat angka urut 10 angka\n",
    "range(10)"
   ]
  },
  {
   "cell_type": "code",
   "execution_count": 121,
   "metadata": {},
   "outputs": [
    {
     "name": "stdout",
     "output_type": "stream",
     "text": [
      "0\n",
      "1\n",
      "2\n",
      "3\n",
      "4\n",
      "5\n",
      "6\n",
      "7\n",
      "8\n",
      "9\n"
     ]
    }
   ],
   "source": [
    "# pakai for biar kelihatan, range termasuk sebuah koleksi\n",
    "for angka in range(10):\n",
    "    print(angka)"
   ]
  },
  {
   "cell_type": "code",
   "execution_count": 124,
   "metadata": {},
   "outputs": [
    {
     "data": {
      "text/plain": [
       "range(85, 101)"
      ]
     },
     "execution_count": 124,
     "metadata": {},
     "output_type": "execute_result"
    }
   ],
   "source": [
    "# bisa juga kita custom angka urutnya mulai dari angka berapa, sampai angka berapa\n",
    "# misalnya 85 - 100\n",
    "range(85,101)"
   ]
  },
  {
   "cell_type": "code",
   "execution_count": 125,
   "metadata": {},
   "outputs": [
    {
     "name": "stdout",
     "output_type": "stream",
     "text": [
      "85\n",
      "86\n",
      "87\n",
      "88\n",
      "89\n",
      "90\n",
      "91\n",
      "92\n",
      "93\n",
      "94\n",
      "95\n",
      "96\n",
      "97\n",
      "98\n",
      "99\n",
      "100\n"
     ]
    }
   ],
   "source": [
    "for angka in range(85, 101):\n",
    "    print(angka)"
   ]
  },
  {
   "cell_type": "code",
   "execution_count": 127,
   "metadata": {},
   "outputs": [
    {
     "data": {
      "text/plain": [
       "range(2, 10, 2)"
      ]
     },
     "execution_count": 127,
     "metadata": {},
     "output_type": "execute_result"
    }
   ],
   "source": [
    "# range juga bisa kita custom untuk penambahan angkanya \"step\" nya lebih dari 1\n",
    "# semua angka genap antara 2-10 (10 tidak ikut)\n",
    "range(2,10, 2)"
   ]
  },
  {
   "cell_type": "code",
   "execution_count": 128,
   "metadata": {},
   "outputs": [
    {
     "name": "stdout",
     "output_type": "stream",
     "text": [
      "2\n",
      "4\n",
      "6\n",
      "8\n"
     ]
    }
   ],
   "source": [
    "for angka in range(2,10,2):\n",
    "    print(angka)"
   ]
  },
  {
   "cell_type": "code",
   "execution_count": 130,
   "metadata": {},
   "outputs": [
    {
     "name": "stdout",
     "output_type": "stream",
     "text": [
      "25\n",
      "30\n",
      "35\n",
      "40\n",
      "45\n",
      "50\n",
      "55\n",
      "60\n"
     ]
    }
   ],
   "source": [
    "# perkalian 5 dari 25 - 60\n",
    "for a in range(25, 61, 5):\n",
    "    print(a)"
   ]
  },
  {
   "cell_type": "code",
   "execution_count": 132,
   "metadata": {},
   "outputs": [
    {
     "name": "stdout",
     "output_type": "stream",
     "text": [
      "3\n",
      "2\n",
      "1\n"
     ]
    }
   ],
   "source": [
    "# mau buat hitung mundur 3,2,1\n",
    "for a in range(3,0,-1):\n",
    "    print(a)"
   ]
  },
  {
   "cell_type": "markdown",
   "metadata": {},
   "source": [
    "## String"
   ]
  },
  {
   "cell_type": "code",
   "execution_count": 133,
   "metadata": {},
   "outputs": [
    {
     "name": "stdout",
     "output_type": "stream",
     "text": [
      "I\n",
      " \n",
      "l\n",
      "o\n",
      "v\n",
      "e\n",
      " \n",
      "P\n",
      "y\n",
      "t\n",
      "h\n",
      "o\n",
      "n\n",
      "!\n"
     ]
    }
   ],
   "source": [
    "msg = \"I love Python!\"\n",
    "# untuk setiap karakter, kita print\n",
    "for k in msg:\n",
    "    print(k)"
   ]
  },
  {
   "cell_type": "code",
   "execution_count": 134,
   "metadata": {},
   "outputs": [
    {
     "name": "stdout",
     "output_type": "stream",
     "text": [
      "I\n",
      " \n",
      "l\n",
      "o\n",
      "v\n",
      "e\n",
      " \n",
      "P\n",
      "ping!\n",
      "y\n",
      "t\n",
      "h\n",
      "o\n",
      "n\n",
      "!\n"
     ]
    }
   ],
   "source": [
    "# kalau ketemu huruf P, print \"ping!\"\n",
    "for k in msg:\n",
    "    print(k)\n",
    "    if (k == \"P\"):\n",
    "        print(\"ping!\")"
   ]
  },
  {
   "cell_type": "markdown",
   "metadata": {},
   "source": [
    "# input"
   ]
  },
  {
   "cell_type": "code",
   "execution_count": 135,
   "metadata": {},
   "outputs": [
    {
     "name": "stdin",
     "output_type": "stream",
     "text": [
      " hai\n"
     ]
    },
    {
     "data": {
      "text/plain": [
       "'hai'"
      ]
     },
     "execution_count": 135,
     "metadata": {},
     "output_type": "execute_result"
    }
   ],
   "source": [
    "input()"
   ]
  },
  {
   "cell_type": "code",
   "execution_count": 138,
   "metadata": {},
   "outputs": [
    {
     "name": "stdin",
     "output_type": "stream",
     "text": [
      "Silahkan input message ke-0 hai\n"
     ]
    },
    {
     "name": "stdout",
     "output_type": "stream",
     "text": [
      "hai\n"
     ]
    },
    {
     "name": "stdin",
     "output_type": "stream",
     "text": [
      "Silahkan input message ke-1 ok\n"
     ]
    },
    {
     "name": "stdout",
     "output_type": "stream",
     "text": [
      "ok\n"
     ]
    },
    {
     "name": "stdin",
     "output_type": "stream",
     "text": [
      "Silahkan input message ke-2 kedua\n"
     ]
    },
    {
     "name": "stdout",
     "output_type": "stream",
     "text": [
      "kedua\n"
     ]
    }
   ],
   "source": [
    "# masukin input ke sebuah loop\n",
    "# loop ini jalan 3 kali, saat n 0, 1, 2\n",
    "n = 0\n",
    "while (n < 3):\n",
    "    msg = input(\"Silahkan input message ke-\" + str(n))\n",
    "    print(msg)\n",
    "    n += 1"
   ]
  },
  {
   "cell_type": "code",
   "execution_count": 141,
   "metadata": {},
   "outputs": [
    {
     "name": "stdin",
     "output_type": "stream",
     "text": [
      "Silahkan input message ke-0 STOP\n"
     ]
    },
    {
     "name": "stdout",
     "output_type": "stream",
     "text": [
      "stop\n"
     ]
    }
   ],
   "source": [
    "# hanya berhenti kalau user input \"stop\"\n",
    "n = 0\n",
    "msg = \"\"\n",
    "while (msg != \"stop\"):\n",
    "    msg = input(\"Silahkan input message ke-\" + str(n)).lower()\n",
    "    print(msg)\n",
    "    n += 1"
   ]
  },
  {
   "cell_type": "code",
   "execution_count": null,
   "metadata": {},
   "outputs": [],
   "source": []
  }
 ],
 "metadata": {
  "kernelspec": {
   "display_name": "Python 3 (ipykernel)",
   "language": "python",
   "name": "python3"
  },
  "language_info": {
   "codemirror_mode": {
    "name": "ipython",
    "version": 3
   },
   "file_extension": ".py",
   "mimetype": "text/x-python",
   "name": "python",
   "nbconvert_exporter": "python",
   "pygments_lexer": "ipython3",
   "version": "3.8.5"
  }
 },
 "nbformat": 4,
 "nbformat_minor": 4
}
