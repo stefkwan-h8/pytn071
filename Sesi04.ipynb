{
 "cells": [
  {
   "cell_type": "markdown",
   "metadata": {},
   "source": [
    "# Numpy"
   ]
  },
  {
   "cell_type": "code",
   "execution_count": 1,
   "metadata": {},
   "outputs": [],
   "source": [
    "import numpy as np"
   ]
  },
  {
   "cell_type": "markdown",
   "metadata": {},
   "source": [
    "## Numpy Array\n",
    "mirip list tapi bukan list, kita isi angka semua datanya.\n",
    "\n",
    "### CRUD: Create Read Update Delete\n",
    "- Create\n",
    "    - np.array([1,2,3]) membuat numpoy array dari sebuah list\n",
    "    - np.zeros(10) membuat numpy array berisi angka 0 dengan ukuran 10\n",
    "    - np.ones(5) membuat numpy array berisi angka 1 dengan ukuran 5\n",
    "    - np.empty(7) membuat numpy array berisi \"kosong\" ukuran 7\n",
    "    - np.arange(5) membuat numpy array berisi angka urut dari 0,1,2,3,4\n",
    "        - np.arange(5,10) membuat numpy array berisi angka urut dari 5,6,7,8,9\n",
    "        - np.arange(10,100,25) membuat numpy array berisi angka urut dari 10,35,80\n",
    "    - np.random.random(15) membuat numpy array berisi angka random antara 0-1 ukuran 15"
   ]
  },
  {
   "cell_type": "code",
   "execution_count": 3,
   "metadata": {},
   "outputs": [
    {
     "name": "stdout",
     "output_type": "stream",
     "text": [
      "[1 2 3]\n",
      "<class 'numpy.ndarray'>\n"
     ]
    }
   ],
   "source": [
    "a = np.array([1,2,3])\n",
    "print(a)\n",
    "print(type(a))"
   ]
  },
  {
   "cell_type": "code",
   "execution_count": 5,
   "metadata": {},
   "outputs": [
    {
     "name": "stdout",
     "output_type": "stream",
     "text": [
      "[[1 2 3]\n",
      " [4 5 6]]\n",
      "<class 'numpy.ndarray'>\n"
     ]
    }
   ],
   "source": [
    "a = np.array([[1,2,3], [4,5,6]])\n",
    "print(a)\n",
    "print(type(a))"
   ]
  },
  {
   "cell_type": "code",
   "execution_count": 7,
   "metadata": {},
   "outputs": [
    {
     "data": {
      "text/plain": [
       "array([0., 0., 0.])"
      ]
     },
     "execution_count": 7,
     "metadata": {},
     "output_type": "execute_result"
    }
   ],
   "source": [
    "np.zeros(3)"
   ]
  },
  {
   "cell_type": "code",
   "execution_count": 186,
   "metadata": {},
   "outputs": [
    {
     "data": {
      "text/plain": [
       "array([[0., 0., 0.],\n",
       "       [0., 0., 0.]])"
      ]
     },
     "execution_count": 186,
     "metadata": {},
     "output_type": "execute_result"
    }
   ],
   "source": [
    "# buat 2d\n",
    "np.zeros((2, 3))"
   ]
  },
  {
   "cell_type": "code",
   "execution_count": 8,
   "metadata": {},
   "outputs": [
    {
     "data": {
      "text/plain": [
       "array([1., 1., 1., 1., 1.])"
      ]
     },
     "execution_count": 8,
     "metadata": {},
     "output_type": "execute_result"
    }
   ],
   "source": [
    "np.ones(5)"
   ]
  },
  {
   "cell_type": "code",
   "execution_count": 187,
   "metadata": {},
   "outputs": [
    {
     "data": {
      "text/plain": [
       "array([[1., 1., 1., 1., 1.],\n",
       "       [1., 1., 1., 1., 1.],\n",
       "       [1., 1., 1., 1., 1.],\n",
       "       [1., 1., 1., 1., 1.]])"
      ]
     },
     "execution_count": 187,
     "metadata": {},
     "output_type": "execute_result"
    }
   ],
   "source": [
    "np.ones((4,5))"
   ]
  },
  {
   "cell_type": "code",
   "execution_count": 12,
   "metadata": {},
   "outputs": [
    {
     "data": {
      "text/plain": [
       "array([0.0000000e+000, 0.0000000e+000, 0.0000000e+000, 0.0000000e+000,\n",
       "       0.0000000e+000, 0.0000000e+000, 3.1408287e-317])"
      ]
     },
     "execution_count": 12,
     "metadata": {},
     "output_type": "execute_result"
    }
   ],
   "source": [
    "np.empty(7)"
   ]
  },
  {
   "cell_type": "code",
   "execution_count": 188,
   "metadata": {},
   "outputs": [
    {
     "data": {
      "text/plain": [
       "array([[0.e+000, 1.e-323, 2.e-323]])"
      ]
     },
     "execution_count": 188,
     "metadata": {},
     "output_type": "execute_result"
    }
   ],
   "source": [
    "np.empty((1,3))"
   ]
  },
  {
   "cell_type": "code",
   "execution_count": 16,
   "metadata": {},
   "outputs": [
    {
     "name": "stdout",
     "output_type": "stream",
     "text": [
      "[0 1 2 3 4]\n",
      "[5 6 7 8 9]\n",
      "[ 5  7  9 11]\n"
     ]
    }
   ],
   "source": [
    "print(np.arange(5))\n",
    "print(np.arange(5, 10))\n",
    "print(np.arange(5, 12, 2))"
   ]
  },
  {
   "cell_type": "code",
   "execution_count": 190,
   "metadata": {},
   "outputs": [
    {
     "data": {
      "text/plain": [
       "array([[ 5,  6,  7],\n",
       "       [ 8,  9, 10]])"
      ]
     },
     "execution_count": 190,
     "metadata": {},
     "output_type": "execute_result"
    }
   ],
   "source": [
    "np.arange(5, 11).reshape((2,3))"
   ]
  },
  {
   "cell_type": "code",
   "execution_count": 19,
   "metadata": {},
   "outputs": [
    {
     "data": {
      "text/plain": [
       "array([0.2859548 , 0.37626553, 0.90384066, 0.94629998, 0.94538043,\n",
       "       0.19071768, 0.56295424, 0.28960985, 0.49328426, 0.25405303])"
      ]
     },
     "execution_count": 19,
     "metadata": {},
     "output_type": "execute_result"
    }
   ],
   "source": [
    "np.random.random(10)"
   ]
  },
  {
   "cell_type": "code",
   "execution_count": 192,
   "metadata": {},
   "outputs": [
    {
     "data": {
      "text/plain": [
       "array([[0.79988658, 0.53920398],\n",
       "       [0.87804597, 0.77597085],\n",
       "       [0.83677492, 0.89089683],\n",
       "       [0.58276312, 0.64858508],\n",
       "       [0.97827123, 0.10437256]])"
      ]
     },
     "execution_count": 192,
     "metadata": {},
     "output_type": "execute_result"
    }
   ],
   "source": [
    "np.random.random(10).reshape((5,2))"
   ]
  },
  {
   "cell_type": "code",
   "execution_count": 23,
   "metadata": {},
   "outputs": [
    {
     "data": {
      "text/plain": [
       "array([5, 2, 5, 1, 5, 6, 6, 3, 6, 4])"
      ]
     },
     "execution_count": 23,
     "metadata": {},
     "output_type": "execute_result"
    }
   ],
   "source": [
    "# contoh hasil lempar dadu 6 sisi sebanyak 10 kali\n",
    "# bisa lihat cara lain menggunakan np.random di https://www.w3schools.com/python/numpy/numpy_random.asp\n",
    "(np.random.random(10) * 6 + 1).astype(int)"
   ]
  },
  {
   "cell_type": "code",
   "execution_count": 193,
   "metadata": {},
   "outputs": [
    {
     "data": {
      "text/plain": [
       "array([[2, 4],\n",
       "       [4, 2],\n",
       "       [5, 1],\n",
       "       [2, 4],\n",
       "       [1, 6]])"
      ]
     },
     "execution_count": 193,
     "metadata": {},
     "output_type": "execute_result"
    }
   ],
   "source": [
    "# seperti hasil lempar 2 dadu sekaligus, 5 kali\n",
    "(np.random.random(10) * 6 + 1).astype(int).reshape((5,2))"
   ]
  },
  {
   "cell_type": "markdown",
   "metadata": {},
   "source": [
    "### Read\n",
    "anggap arr adalah sebuah numpy array\n",
    "- arr.shape melihat bentuk numpy array, jumlah kolom dan baris\n",
    "- arr.size melihat ukuran numpy array, ada berapa angka di dalam\n",
    "- arr.ndim melihat dimensi sebuah numpy array"
   ]
  },
  {
   "cell_type": "code",
   "execution_count": 27,
   "metadata": {},
   "outputs": [
    {
     "name": "stdout",
     "output_type": "stream",
     "text": [
      "(5,)\n",
      "5\n",
      "1\n"
     ]
    }
   ],
   "source": [
    "arr = np.array([2,5,7,9,0])\n",
    "\n",
    "print(arr.shape)\n",
    "print(arr.size)\n",
    "print(arr.ndim)"
   ]
  },
  {
   "cell_type": "code",
   "execution_count": 29,
   "metadata": {},
   "outputs": [
    {
     "name": "stdout",
     "output_type": "stream",
     "text": [
      "[[2 5 7 9 0]]\n",
      "(1, 5)\n",
      "5\n",
      "2\n"
     ]
    }
   ],
   "source": [
    "arr = np.array([[2,5,7,9,0]])\n",
    "print(arr)\n",
    "print(arr.shape)\n",
    "print(arr.size)\n",
    "print(arr.ndim)"
   ]
  },
  {
   "cell_type": "code",
   "execution_count": 30,
   "metadata": {},
   "outputs": [
    {
     "name": "stdout",
     "output_type": "stream",
     "text": [
      "[[ 2  5  7  9  0]\n",
      " [21 15 17 91 10]]\n",
      "(2, 5)\n",
      "10\n",
      "2\n"
     ]
    }
   ],
   "source": [
    "arr = np.array([[2,5,7,9,0], [21,15,17,91,10]])\n",
    "print(arr)\n",
    "print(arr.shape)\n",
    "print(arr.size)\n",
    "print(arr.ndim)"
   ]
  },
  {
   "cell_type": "code",
   "execution_count": 31,
   "metadata": {},
   "outputs": [
    {
     "name": "stdout",
     "output_type": "stream",
     "text": [
      "[list([2, 5, 7, 9]) list([21, 15, 17, 91, 10])]\n",
      "(2,)\n",
      "2\n",
      "1\n"
     ]
    },
    {
     "name": "stderr",
     "output_type": "stream",
     "text": [
      "C:\\Users\\stefa\\AppData\\Local\\Temp\\ipykernel_8804\\709034576.py:1: VisibleDeprecationWarning: Creating an ndarray from ragged nested sequences (which is a list-or-tuple of lists-or-tuples-or ndarrays with different lengths or shapes) is deprecated. If you meant to do this, you must specify 'dtype=object' when creating the ndarray.\n",
      "  arr = np.array([[2,5,7,9], [21,15,17,91,10]])\n"
     ]
    }
   ],
   "source": [
    "# jumlah angka di setiap baris sebuah numpy array 2 dimensi harus sama,\n",
    "# kalau tidak dia tidak bisa berlaku sebagai numpy array pada umumnya\n",
    "# akan ada complain juga dari python nya\n",
    "arr = np.array([[2,5,7,9], [21,15,17,91,10]])\n",
    "print(arr)\n",
    "print(arr.shape)\n",
    "print(arr.size)\n",
    "print(arr.ndim)"
   ]
  },
  {
   "cell_type": "code",
   "execution_count": 34,
   "metadata": {},
   "outputs": [
    {
     "name": "stdout",
     "output_type": "stream",
     "text": [
      "[[ 2.  5.  7.  9. nan]\n",
      " [21. 15. 17. 91. 10.]]\n",
      "(2, 5)\n",
      "10\n",
      "2\n"
     ]
    }
   ],
   "source": [
    "# kalau ada yang kosong, biasanya tetap kita isi dengan \"missing value\"\n",
    "arr = np.array([[2,5,7,9, np.NAN], [21,15,17,91,10]])\n",
    "print(arr)\n",
    "print(arr.shape)\n",
    "print(arr.size)\n",
    "print(arr.ndim)"
   ]
  },
  {
   "cell_type": "code",
   "execution_count": 41,
   "metadata": {},
   "outputs": [
    {
     "name": "stdout",
     "output_type": "stream",
     "text": [
      "[[ 2.  5.  7.  9. nan]\n",
      " [21. 15. 17. 91. 10.]]\n",
      "\n",
      "indexing\n",
      "5.0 ambil baris pertama, kolom kedua\n",
      "\n",
      "slicing\n",
      "[[ 5.  7.]\n",
      " [15. 17.]] ambil semua baris, kolom kedua sampai kolom ketiga\n"
     ]
    }
   ],
   "source": [
    "print(arr)\n",
    "print()\n",
    "# cara membaca/ ngambil 1 item dari numpy array, bisa pakai index\n",
    "print(\"indexing\")\n",
    "print(arr[0,1], \"ambil baris pertama, kolom kedua\")\n",
    "\n",
    "print()\n",
    "# ambil beberapa item bisa pakai slicing\n",
    "print(\"slicing\")\n",
    "print(arr[:, 1:3], \"ambil semua baris, kolom kedua sampai kolom ketiga\")"
   ]
  },
  {
   "cell_type": "markdown",
   "metadata": {},
   "source": [
    "### Update\n",
    "edit numpy array nya:\n",
    "- reshape mengubah shape sebuah numpy array\n",
    "- append menempel 2 numpy array (atau list) jadi satu\n",
    "- delete hapus item dalam numpy array menggunakan index\n",
    "- sort sortir item dalam sebuah numpy array dari kecil ke besar"
   ]
  },
  {
   "cell_type": "code",
   "execution_count": 43,
   "metadata": {},
   "outputs": [
    {
     "name": "stdout",
     "output_type": "stream",
     "text": [
      "[[ 2.  5.  7.  9. nan]\n",
      " [21. 15. 17. 91. 10.]]\n",
      "(2, 5)\n"
     ]
    }
   ],
   "source": [
    "print(arr)\n",
    "print(arr.shape)"
   ]
  },
  {
   "cell_type": "markdown",
   "metadata": {},
   "source": [
    "## Reshape"
   ]
  },
  {
   "cell_type": "code",
   "execution_count": 47,
   "metadata": {},
   "outputs": [
    {
     "name": "stdout",
     "output_type": "stream",
     "text": [
      "[ 2.  5.  7.  9. nan 21. 15. 17. 91. 10.]\n",
      "(10,)\n"
     ]
    }
   ],
   "source": [
    "arr2 = arr.reshape((10,)) # size sebelum dan sesudah reshape harus sama\n",
    "print(arr2)\n",
    "print(arr2.shape)"
   ]
  },
  {
   "cell_type": "code",
   "execution_count": 51,
   "metadata": {},
   "outputs": [
    {
     "name": "stdout",
     "output_type": "stream",
     "text": [
      "[[ 2.  5.  7.  9. nan 21. 15. 17. 91. 10.]]\n",
      "(1, 10)\n"
     ]
    }
   ],
   "source": [
    "arr2 = arr.reshape((1,10)) # 2 dimensi boleh, 3 dimensi boleh, dst...\n",
    "print(arr2)\n",
    "print(arr2.shape)"
   ]
  },
  {
   "cell_type": "code",
   "execution_count": 48,
   "metadata": {},
   "outputs": [
    {
     "name": "stdout",
     "output_type": "stream",
     "text": [
      "[[ 2.  5.]\n",
      " [ 7.  9.]\n",
      " [nan 21.]\n",
      " [15. 17.]\n",
      " [91. 10.]]\n",
      "(5, 2)\n"
     ]
    }
   ],
   "source": [
    "arr2 = arr.reshape((5,2)) # 2 dimensi boleh, 3 dimensi boleh, dst...\n",
    "print(arr2)\n",
    "print(arr2.shape)"
   ]
  },
  {
   "cell_type": "code",
   "execution_count": 49,
   "metadata": {},
   "outputs": [
    {
     "name": "stdout",
     "output_type": "stream",
     "text": [
      "[[[ 2.]\n",
      "  [ 5.]]\n",
      "\n",
      " [[ 7.]\n",
      "  [ 9.]]\n",
      "\n",
      " [[nan]\n",
      "  [21.]]\n",
      "\n",
      " [[15.]\n",
      "  [17.]]\n",
      "\n",
      " [[91.]\n",
      "  [10.]]]\n",
      "(5, 2, 1)\n"
     ]
    }
   ],
   "source": [
    "arr2 = arr.reshape((5,2,1)) # 2 dimensi boleh, 3 dimensi boleh, dst...\n",
    "print(arr2)\n",
    "print(arr2.shape)"
   ]
  },
  {
   "cell_type": "code",
   "execution_count": 52,
   "metadata": {},
   "outputs": [
    {
     "data": {
      "text/plain": [
       "numpy.ndarray"
      ]
     },
     "execution_count": 52,
     "metadata": {},
     "output_type": "execute_result"
    }
   ],
   "source": [
    "type(arr)"
   ]
  },
  {
   "cell_type": "markdown",
   "metadata": {},
   "source": [
    "## Append"
   ]
  },
  {
   "cell_type": "code",
   "execution_count": 53,
   "metadata": {},
   "outputs": [
    {
     "data": {
      "text/plain": [
       "array([ 2.,  5.,  7.,  9., nan, 21., 15., 17., 91., 10.,  5.])"
      ]
     },
     "execution_count": 53,
     "metadata": {},
     "output_type": "execute_result"
    }
   ],
   "source": [
    "np.append(arr, [5])"
   ]
  },
  {
   "cell_type": "code",
   "execution_count": 54,
   "metadata": {},
   "outputs": [
    {
     "data": {
      "text/plain": [
       "array([ 2.,  5.,  7.,  9., nan, 21., 15., 17., 91., 10.,  5., 10., 75.])"
      ]
     },
     "execution_count": 54,
     "metadata": {},
     "output_type": "execute_result"
    }
   ],
   "source": [
    "np.append(arr, [5, 10 , 75])"
   ]
  },
  {
   "cell_type": "code",
   "execution_count": 68,
   "metadata": {},
   "outputs": [
    {
     "data": {
      "text/plain": [
       "array([ 2.,  5.,  7.,  9., nan, 21., 15., 17., 91., 10.,  5., 10., 75.,\n",
       "       10., 11., 12.])"
      ]
     },
     "execution_count": 68,
     "metadata": {},
     "output_type": "execute_result"
    }
   ],
   "source": [
    "np.append(arr, [[5, 10 , 75], [10, 11, 12]])"
   ]
  },
  {
   "cell_type": "code",
   "execution_count": 66,
   "metadata": {},
   "outputs": [
    {
     "name": "stdout",
     "output_type": "stream",
     "text": [
      "[[5, 10, 75], [10, 11, 12]]\n"
     ]
    }
   ],
   "source": [
    "print([[5, 10 , 75], [10, 11, 12]])"
   ]
  },
  {
   "cell_type": "code",
   "execution_count": 72,
   "metadata": {},
   "outputs": [
    {
     "data": {
      "text/plain": [
       "array([[ 2.,  5.,  7.,  9., nan],\n",
       "       [21., 15., 17., 91., 10.],\n",
       "       [ 1.,  2.,  3.,  4.,  5.]])"
      ]
     },
     "execution_count": 72,
     "metadata": {},
     "output_type": "execute_result"
    }
   ],
   "source": [
    "np.append(arr, [[1,2,3,4,5]], axis=0) # pilihan axis 0, append sebagai baris baru"
   ]
  },
  {
   "cell_type": "code",
   "execution_count": 73,
   "metadata": {},
   "outputs": [
    {
     "data": {
      "text/plain": [
       "array([[ 2.,  5.,  7.,  9., nan,  1.],\n",
       "       [21., 15., 17., 91., 10.,  2.]])"
      ]
     },
     "execution_count": 73,
     "metadata": {},
     "output_type": "execute_result"
    }
   ],
   "source": [
    "np.append(arr, [[1],[2]], axis=1) # pilihan axis 1, append sebagai baris baru"
   ]
  },
  {
   "cell_type": "markdown",
   "metadata": {},
   "source": [
    "## Delete"
   ]
  },
  {
   "cell_type": "code",
   "execution_count": 74,
   "metadata": {},
   "outputs": [
    {
     "name": "stdout",
     "output_type": "stream",
     "text": [
      "[[ 2.  5.  7.  9. nan]\n",
      " [21. 15. 17. 91. 10.]]\n"
     ]
    }
   ],
   "source": [
    "print(arr)"
   ]
  },
  {
   "cell_type": "code",
   "execution_count": 78,
   "metadata": {},
   "outputs": [
    {
     "data": {
      "text/plain": [
       "array([ 2.,  5.,  7., nan, 21., 15., 17., 91., 10.])"
      ]
     },
     "execution_count": 78,
     "metadata": {},
     "output_type": "execute_result"
    }
   ],
   "source": [
    "# mau hapus angka 9\n",
    "# index ke 3\n",
    "np.delete(arr, 3)\n",
    "\n",
    "# mengubah np array menjadi 1 dimensi"
   ]
  },
  {
   "cell_type": "code",
   "execution_count": 80,
   "metadata": {},
   "outputs": [
    {
     "name": "stdout",
     "output_type": "stream",
     "text": [
      "[10 20 30]\n"
     ]
    },
    {
     "data": {
      "text/plain": [
       "array([10, 30])"
      ]
     },
     "execution_count": 80,
     "metadata": {},
     "output_type": "execute_result"
    }
   ],
   "source": [
    "arr2 = np.array([10,20,30])\n",
    "print(arr2)\n",
    "\n",
    "# hapus angka 20, ada di posisi index ke 1\n",
    "np.delete(arr2, 1)"
   ]
  },
  {
   "cell_type": "code",
   "execution_count": 82,
   "metadata": {},
   "outputs": [
    {
     "name": "stdout",
     "output_type": "stream",
     "text": [
      "[[ 2.  5.  7.  9. nan]\n",
      " [21. 15. 17. 91. 10.]]\n",
      "[[ 2.  5.  7. 90. nan]\n",
      " [21. 15. 17. 91. 10.]]\n"
     ]
    }
   ],
   "source": [
    "## replace\n",
    "# misal mau menggantikan angka 9 di arr menjadi angka 90\n",
    "print(arr)\n",
    "\n",
    "# index angka 9 adalah di baris pertama (index 0), kolom ke 4 (index 3)\n",
    "arr[0,3] = 90\n",
    "print(arr)"
   ]
  },
  {
   "cell_type": "markdown",
   "metadata": {},
   "source": [
    "## Sort\n",
    "mengurutkan angka dalam numpy array dari kecil ke besar"
   ]
  },
  {
   "cell_type": "code",
   "execution_count": 86,
   "metadata": {},
   "outputs": [
    {
     "name": "stdout",
     "output_type": "stream",
     "text": [
      "[[ 2.  5.  7. 90. nan]\n",
      " [21. 15. 17. 91. 10.]]\n"
     ]
    }
   ],
   "source": [
    "print(arr)"
   ]
  },
  {
   "cell_type": "code",
   "execution_count": 83,
   "metadata": {},
   "outputs": [
    {
     "data": {
      "text/plain": [
       "array([[ 2.,  5.,  7., 90., nan],\n",
       "       [10., 15., 17., 21., 91.]])"
      ]
     },
     "execution_count": 83,
     "metadata": {},
     "output_type": "execute_result"
    }
   ],
   "source": [
    "np.sort(arr)"
   ]
  },
  {
   "cell_type": "code",
   "execution_count": 84,
   "metadata": {},
   "outputs": [
    {
     "name": "stdout",
     "output_type": "stream",
     "text": [
      "[ nan -10.  10.   5.  50.]\n",
      "[-10.   5.  10.  50.  nan]\n"
     ]
    }
   ],
   "source": [
    "arr2 = np.array([np.NAN, -10,10,5,50])\n",
    "print(arr2)\n",
    "\n",
    "print(np.sort(arr2))"
   ]
  },
  {
   "cell_type": "code",
   "execution_count": 85,
   "metadata": {},
   "outputs": [
    {
     "data": {
      "text/plain": [
       "array([[ 2.,  5.,  7., 90., 10.],\n",
       "       [21., 15., 17., 91., nan]])"
      ]
     },
     "execution_count": 85,
     "metadata": {},
     "output_type": "execute_result"
    }
   ],
   "source": [
    "np.sort(arr, axis=0)"
   ]
  },
  {
   "cell_type": "code",
   "execution_count": 87,
   "metadata": {},
   "outputs": [
    {
     "data": {
      "text/plain": [
       "array([[ 2.,  5.,  7., 90., nan],\n",
       "       [10., 15., 17., 21., 91.]])"
      ]
     },
     "execution_count": 87,
     "metadata": {},
     "output_type": "execute_result"
    }
   ],
   "source": [
    "np.sort(arr, axis=1)"
   ]
  },
  {
   "cell_type": "markdown",
   "metadata": {},
   "source": [
    "## Manipulasi Numpy Array\n",
    "- ubah np array dari 1D jadi 2D\n",
    "    - newaxis\n",
    "    - expand_dims\n",
    "- indexing, slicing, query (dengan kondisi)"
   ]
  },
  {
   "cell_type": "markdown",
   "metadata": {},
   "source": [
    "## newaxis & expand_dims"
   ]
  },
  {
   "cell_type": "code",
   "execution_count": 94,
   "metadata": {},
   "outputs": [
    {
     "name": "stdout",
     "output_type": "stream",
     "text": [
      "[ 9 12 67 -5]\n",
      "(4,)\n"
     ]
    }
   ],
   "source": [
    "arr2 = np.array([9,12,67,-5])\n",
    "print(arr2)\n",
    "print(arr2.shape)"
   ]
  },
  {
   "cell_type": "code",
   "execution_count": 92,
   "metadata": {},
   "outputs": [
    {
     "name": "stdout",
     "output_type": "stream",
     "text": [
      "[[ 9 12 67 -5]]\n",
      "(1, 4)\n"
     ]
    }
   ],
   "source": [
    "a3 = arr2[np.newaxis]\n",
    "print(a3)\n",
    "print(a3.shape)"
   ]
  },
  {
   "cell_type": "code",
   "execution_count": 93,
   "metadata": {},
   "outputs": [
    {
     "name": "stdout",
     "output_type": "stream",
     "text": [
      "[[ 9]\n",
      " [12]\n",
      " [67]\n",
      " [-5]]\n",
      "(4, 1)\n"
     ]
    }
   ],
   "source": [
    "a3 = arr2[:, np.newaxis]\n",
    "print(a3)\n",
    "print(a3.shape)"
   ]
  },
  {
   "cell_type": "code",
   "execution_count": 96,
   "metadata": {},
   "outputs": [
    {
     "name": "stdout",
     "output_type": "stream",
     "text": [
      "[[ 9 12 67 -5]]\n",
      "(1, 4)\n"
     ]
    }
   ],
   "source": [
    "a3 = np.expand_dims(arr2, axis=0)\n",
    "print(a3)\n",
    "print(a3.shape)"
   ]
  },
  {
   "cell_type": "code",
   "execution_count": 97,
   "metadata": {},
   "outputs": [
    {
     "name": "stdout",
     "output_type": "stream",
     "text": [
      "[[ 9]\n",
      " [12]\n",
      " [67]\n",
      " [-5]]\n",
      "(4, 1)\n"
     ]
    }
   ],
   "source": [
    "a3 = np.expand_dims(arr2, axis=1)\n",
    "print(a3)\n",
    "print(a3.shape)"
   ]
  },
  {
   "cell_type": "markdown",
   "metadata": {},
   "source": [
    "## indexing, slicing, query"
   ]
  },
  {
   "cell_type": "code",
   "execution_count": 101,
   "metadata": {},
   "outputs": [
    {
     "name": "stdout",
     "output_type": "stream",
     "text": [
      "[[100 125 150 175]\n",
      " [200 225 250 275]\n",
      " [300 325 350 375]]\n"
     ]
    }
   ],
   "source": [
    "arr2 = np.arange(100, 400, 25).reshape((3,4))\n",
    "print(arr2)"
   ]
  },
  {
   "cell_type": "code",
   "execution_count": 102,
   "metadata": {},
   "outputs": [
    {
     "name": "stdout",
     "output_type": "stream",
     "text": [
      "250\n"
     ]
    }
   ],
   "source": [
    "# indexing, mau ambil angka 250\n",
    "# baris ke2 (index 1), kolom ke3 (index 2)\n",
    "print(arr2[1,2])"
   ]
  },
  {
   "cell_type": "code",
   "execution_count": 103,
   "metadata": {},
   "outputs": [
    {
     "name": "stdout",
     "output_type": "stream",
     "text": [
      "[[250 275]\n",
      " [350 375]]\n"
     ]
    }
   ],
   "source": [
    "# slicing, mau ambil 250 275 350 375\n",
    "# 250 ada di baris ke2 (index 1), kolom ke3 (index 2)\n",
    "# 375 ada di baris ke3 (index 2), kolom ke4 (index 3)\n",
    "print(arr2[1:3, 2:4])"
   ]
  },
  {
   "cell_type": "code",
   "execution_count": 104,
   "metadata": {},
   "outputs": [
    {
     "name": "stdout",
     "output_type": "stream",
     "text": [
      "[[250 275]\n",
      " [350 375]]\n"
     ]
    }
   ],
   "source": [
    "# 250 ada di baris ke2 (index 1), kolom ke3 (index 2)\n",
    "# 375 ada di baris terakhir, kolom terakhir\n",
    "print(arr2[1:, 2:])"
   ]
  },
  {
   "cell_type": "code",
   "execution_count": 105,
   "metadata": {},
   "outputs": [
    {
     "name": "stdout",
     "output_type": "stream",
     "text": [
      "[[250 275]\n",
      " [350 375]]\n"
     ]
    }
   ],
   "source": [
    "# 250 ada di baris ke2 dari terakhir (index -2), kolom ke2 dari terakhir  (index -2)\n",
    "# 375 ada di baris ke3 (index 2), kolom ke4 (index 3)\n",
    "print(arr2[-2:3, -2:4])"
   ]
  },
  {
   "cell_type": "code",
   "execution_count": 106,
   "metadata": {},
   "outputs": [
    {
     "name": "stdout",
     "output_type": "stream",
     "text": [
      "[[250 275]\n",
      " [350 375]]\n"
     ]
    }
   ],
   "source": [
    "# 250 ada di baris ke2 dari terakhir (index -2), kolom ke2 dari terakhir  (index -2)\n",
    "# 375 ada di baris terakhir, kolom terakhir\n",
    "print(arr2[-2:, -2:])"
   ]
  },
  {
   "cell_type": "code",
   "execution_count": 107,
   "metadata": {},
   "outputs": [
    {
     "name": "stdout",
     "output_type": "stream",
     "text": [
      "[[ True False  True False]\n",
      " [ True False  True False]\n",
      " [ True False  True False]]\n"
     ]
    }
   ],
   "source": [
    "# query\n",
    "# kita bisa ambil angka2 tertentu dengan kondisi\n",
    "# misalkan kondisi angka genap\n",
    "genap = arr2 % 2 == 0\n",
    "\n",
    "print(genap)"
   ]
  },
  {
   "cell_type": "code",
   "execution_count": 108,
   "metadata": {},
   "outputs": [
    {
     "name": "stdout",
     "output_type": "stream",
     "text": [
      "[[100 125 150 175]\n",
      " [200 225 250 275]\n",
      " [300 325 350 375]]\n"
     ]
    }
   ],
   "source": [
    "print(arr2)"
   ]
  },
  {
   "cell_type": "code",
   "execution_count": 109,
   "metadata": {},
   "outputs": [
    {
     "data": {
      "text/plain": [
       "array([100, 150, 200, 250, 300, 350])"
      ]
     },
     "execution_count": 109,
     "metadata": {},
     "output_type": "execute_result"
    }
   ],
   "source": [
    "arr2[genap]"
   ]
  },
  {
   "cell_type": "code",
   "execution_count": 110,
   "metadata": {},
   "outputs": [
    {
     "data": {
      "text/plain": [
       "array([100, 150, 200, 250, 300, 350])"
      ]
     },
     "execution_count": 110,
     "metadata": {},
     "output_type": "execute_result"
    }
   ],
   "source": [
    "arr2[arr2 % 2 == 0]"
   ]
  },
  {
   "cell_type": "code",
   "execution_count": 111,
   "metadata": {},
   "outputs": [
    {
     "data": {
      "text/plain": [
       "array([100, 150, 200, 250, 300, 350])"
      ]
     },
     "execution_count": 111,
     "metadata": {},
     "output_type": "execute_result"
    }
   ],
   "source": [
    "arr2[(arr2 % 2 == 0)]"
   ]
  },
  {
   "cell_type": "code",
   "execution_count": 112,
   "metadata": {},
   "outputs": [
    {
     "name": "stdout",
     "output_type": "stream",
     "text": [
      "[[False False False False]\n",
      " [False  True  True  True]\n",
      " [ True  True  True  True]]\n"
     ]
    }
   ],
   "source": [
    "# misalkan kita buat kondisi lagi, untuk angka yang di atas 200\n",
    "diatas200 = arr2 > 200\n",
    "\n",
    "print(diatas200)"
   ]
  },
  {
   "cell_type": "code",
   "execution_count": 113,
   "metadata": {},
   "outputs": [
    {
     "name": "stdout",
     "output_type": "stream",
     "text": [
      "[[False False False False]\n",
      " [False False  True False]\n",
      " [ True False  True False]]\n"
     ]
    }
   ],
   "source": [
    "print(genap & diatas200)"
   ]
  },
  {
   "cell_type": "code",
   "execution_count": 114,
   "metadata": {},
   "outputs": [
    {
     "data": {
      "text/plain": [
       "array([250, 300, 350])"
      ]
     },
     "execution_count": 114,
     "metadata": {},
     "output_type": "execute_result"
    }
   ],
   "source": [
    "arr2[genap & diatas200]"
   ]
  },
  {
   "cell_type": "code",
   "execution_count": 121,
   "metadata": {},
   "outputs": [
    {
     "data": {
      "text/plain": [
       "array([250, 300, 350])"
      ]
     },
     "execution_count": 121,
     "metadata": {},
     "output_type": "execute_result"
    }
   ],
   "source": [
    "arr2[(arr2 % 2 == 0) & (arr2 > 200)]"
   ]
  },
  {
   "cell_type": "code",
   "execution_count": 122,
   "metadata": {},
   "outputs": [
    {
     "name": "stdout",
     "output_type": "stream",
     "text": [
      "[[100 125 150 175]\n",
      " [200 225 250 275]\n",
      " [300 325 350 375]]\n"
     ]
    }
   ],
   "source": [
    "print(arr2)"
   ]
  },
  {
   "cell_type": "markdown",
   "metadata": {},
   "source": [
    "perhatikan kondisi yang dibuat itu khusus untuk array tersebut. buatlah kondisi baru khusus untuk setiap array yang mau di query."
   ]
  },
  {
   "cell_type": "code",
   "execution_count": 123,
   "metadata": {},
   "outputs": [
    {
     "name": "stdout",
     "output_type": "stream",
     "text": [
      "[[ 2.  5.  7. 90. nan]\n",
      " [21. 15. 17. 91. 10.]]\n"
     ]
    }
   ],
   "source": [
    "print(arr)"
   ]
  },
  {
   "cell_type": "code",
   "execution_count": 124,
   "metadata": {},
   "outputs": [
    {
     "name": "stderr",
     "output_type": "stream",
     "text": [
      "C:\\Users\\stefa\\AppData\\Local\\Temp\\ipykernel_8804\\4015600997.py:2: RuntimeWarning: invalid value encountered in remainder\n",
      "  arr[arr % 2 == 0]\n"
     ]
    },
    {
     "data": {
      "text/plain": [
       "array([ 2., 90., 10.])"
      ]
     },
     "execution_count": 124,
     "metadata": {},
     "output_type": "execute_result"
    }
   ],
   "source": [
    "# ambil angka genap di arr\n",
    "arr[arr % 2 == 0]\n",
    "\n",
    "# akan ada complain saat ketemu nan % 2 --> error"
   ]
  },
  {
   "cell_type": "code",
   "execution_count": 125,
   "metadata": {},
   "outputs": [
    {
     "name": "stdout",
     "output_type": "stream",
     "text": [
      "[[ 2  5  7 90 -3]\n",
      " [21 15 17 91 10]]\n"
     ]
    }
   ],
   "source": [
    "a = np.array([[ 2,  5,  7, 90, -3], [21, 15, 17, 91, 10]])\n",
    "print(a)"
   ]
  },
  {
   "cell_type": "code",
   "execution_count": 126,
   "metadata": {},
   "outputs": [
    {
     "data": {
      "text/plain": [
       "array([ 2, 90, 10])"
      ]
     },
     "execution_count": 126,
     "metadata": {},
     "output_type": "execute_result"
    }
   ],
   "source": [
    "# ambil angka genap di a\n",
    "a[a % 2 == 0]"
   ]
  },
  {
   "cell_type": "markdown",
   "metadata": {},
   "source": [
    "## stack, split\n",
    "- stack menumpuk beberapa numpy array jadi satu\n",
    "    - vstack, secara vertical (atas ke bawah) \n",
    "    - hstack, secara horizontal (kiri ke kanan)\n",
    "- split memisah satu numpy array menjadi beberapa numpy array\n",
    "    - vsplit, dipisahnya atas, tengah, bawah, yang penting setiap potong ukuran sama\n",
    "    - hsplit, dispisahnya kiri, tengah, kanan, yang penting setiap potong ukuran sama"
   ]
  },
  {
   "cell_type": "code",
   "execution_count": 128,
   "metadata": {},
   "outputs": [
    {
     "name": "stdout",
     "output_type": "stream",
     "text": [
      "[[ 2  5  7 90 -3]\n",
      " [21 15 17 91 10]]\n",
      "(2, 5)\n"
     ]
    }
   ],
   "source": [
    "print(a)\n",
    "print(a.shape)"
   ]
  },
  {
   "cell_type": "code",
   "execution_count": 135,
   "metadata": {},
   "outputs": [
    {
     "name": "stdout",
     "output_type": "stream",
     "text": [
      "[[0 1 2 3 4]]\n",
      "(1, 5)\n"
     ]
    }
   ],
   "source": [
    "b = np.arange(5).reshape((1,5))\n",
    "print(b)\n",
    "print(b.shape)"
   ]
  },
  {
   "cell_type": "code",
   "execution_count": 136,
   "metadata": {},
   "outputs": [
    {
     "data": {
      "text/plain": [
       "array([[ 2,  5,  7, 90, -3],\n",
       "       [21, 15, 17, 91, 10],\n",
       "       [ 0,  1,  2,  3,  4]])"
      ]
     },
     "execution_count": 136,
     "metadata": {},
     "output_type": "execute_result"
    }
   ],
   "source": [
    "# vstack: untuk numpuk secara vertical, ukuran jumlah kolom harus sama\n",
    "# disini, a dan b masing masing punya 5 kolom, jadi boleh ditumpuk secara vertical\n",
    "np.vstack((a, b))"
   ]
  },
  {
   "cell_type": "code",
   "execution_count": 137,
   "metadata": {},
   "outputs": [
    {
     "data": {
      "text/plain": [
       "array([[ 2,  5,  7, 90, -3],\n",
       "       [21, 15, 17, 91, 10],\n",
       "       [ 0,  1,  2,  3,  4],\n",
       "       [ 0,  1,  2,  3,  4],\n",
       "       [ 2,  5,  7, 90, -3],\n",
       "       [21, 15, 17, 91, 10]])"
      ]
     },
     "execution_count": 137,
     "metadata": {},
     "output_type": "execute_result"
    }
   ],
   "source": [
    "np.vstack((a, b, b, a))"
   ]
  },
  {
   "cell_type": "code",
   "execution_count": 139,
   "metadata": {},
   "outputs": [
    {
     "name": "stdout",
     "output_type": "stream",
     "text": [
      "[[3 4]\n",
      " [5 6]]\n",
      "(2, 2)\n"
     ]
    },
    {
     "data": {
      "text/plain": [
       "array([[ 2,  5,  7, 90, -3,  3,  4],\n",
       "       [21, 15, 17, 91, 10,  5,  6]])"
      ]
     },
     "execution_count": 139,
     "metadata": {},
     "output_type": "execute_result"
    }
   ],
   "source": [
    "# hstack: untuk numpuk secara horizontal, ukuran jumlah baris harus sama\n",
    "b = np.array([[3,4], [5,6]])\n",
    "print(b)\n",
    "print(b.shape)\n",
    "\n",
    "np.hstack((a,b))"
   ]
  },
  {
   "cell_type": "code",
   "execution_count": 140,
   "metadata": {},
   "outputs": [
    {
     "data": {
      "text/plain": [
       "array([[ 2,  5,  7, 90, -3,  3,  4,  2,  5,  7, 90, -3,  3,  4],\n",
       "       [21, 15, 17, 91, 10,  5,  6, 21, 15, 17, 91, 10,  5,  6]])"
      ]
     },
     "execution_count": 140,
     "metadata": {},
     "output_type": "execute_result"
    }
   ],
   "source": [
    "np.hstack((a,b,a,b))"
   ]
  },
  {
   "cell_type": "code",
   "execution_count": 141,
   "metadata": {},
   "outputs": [
    {
     "name": "stdout",
     "output_type": "stream",
     "text": [
      "[[ 2  5  7 90 -3]\n",
      " [21 15 17 91 10]]\n"
     ]
    }
   ],
   "source": [
    "# vsplit: bagi 1 numpy array ke beberapa numpy array, dipotong atas dan bawah dipisah\n",
    "\n",
    "print(a)"
   ]
  },
  {
   "cell_type": "code",
   "execution_count": 142,
   "metadata": {},
   "outputs": [
    {
     "data": {
      "text/plain": [
       "[array([[ 2,  5,  7, 90, -3]]), array([[21, 15, 17, 91, 10]])]"
      ]
     },
     "execution_count": 142,
     "metadata": {},
     "output_type": "execute_result"
    }
   ],
   "source": [
    "np.vsplit(a, 2)"
   ]
  },
  {
   "cell_type": "code",
   "execution_count": 143,
   "metadata": {},
   "outputs": [],
   "source": [
    "hasil = np.vsplit(a, 2)"
   ]
  },
  {
   "cell_type": "code",
   "execution_count": 145,
   "metadata": {},
   "outputs": [
    {
     "name": "stdout",
     "output_type": "stream",
     "text": [
      "[array([[ 2,  5,  7, 90, -3]]), array([[21, 15, 17, 91, 10]])]\n",
      "<class 'list'>\n"
     ]
    }
   ],
   "source": [
    "print(hasil)\n",
    "print(type(hasil))"
   ]
  },
  {
   "cell_type": "code",
   "execution_count": 146,
   "metadata": {},
   "outputs": [
    {
     "name": "stdout",
     "output_type": "stream",
     "text": [
      "[[ 2  5  7 90 -3]] <class 'numpy.ndarray'>\n"
     ]
    }
   ],
   "source": [
    "a1, a2 = np.vsplit(a, 2)\n",
    "print(a1, type(a1))"
   ]
  },
  {
   "cell_type": "code",
   "execution_count": 147,
   "metadata": {},
   "outputs": [
    {
     "name": "stdout",
     "output_type": "stream",
     "text": [
      "[[21 15 17 91 10]] <class 'numpy.ndarray'>\n"
     ]
    }
   ],
   "source": [
    "print(a2, type(a2))"
   ]
  },
  {
   "cell_type": "code",
   "execution_count": 148,
   "metadata": {},
   "outputs": [
    {
     "name": "stdout",
     "output_type": "stream",
     "text": [
      "[[ 2  5  7 90 -3]] <class 'numpy.ndarray'>\n",
      "[[21 15 17 91 10]] <class 'numpy.ndarray'>\n"
     ]
    }
   ],
   "source": [
    "a1, a2 = hasil\n",
    "print(a1, type(a1))\n",
    "print(a2, type(a2))"
   ]
  },
  {
   "cell_type": "code",
   "execution_count": 149,
   "metadata": {},
   "outputs": [
    {
     "name": "stdout",
     "output_type": "stream",
     "text": [
      "[[ 2  5  7 90 -3]] <class 'numpy.ndarray'>\n"
     ]
    }
   ],
   "source": [
    "print(hasil[0], type(hasil[0]))"
   ]
  },
  {
   "cell_type": "code",
   "execution_count": 150,
   "metadata": {},
   "outputs": [
    {
     "name": "stdout",
     "output_type": "stream",
     "text": [
      "[[ 0  1  2  3]\n",
      " [ 4  5  6  7]\n",
      " [ 8  9 10 11]]\n"
     ]
    }
   ],
   "source": [
    "# vsplit, contah lain\n",
    "b = np.arange(12).reshape((3, 4))\n",
    "print(b)"
   ]
  },
  {
   "cell_type": "code",
   "execution_count": 153,
   "metadata": {},
   "outputs": [
    {
     "data": {
      "text/plain": [
       "[array([[0, 1, 2, 3]]), array([[4, 5, 6, 7]]), array([[ 8,  9, 10, 11]])]"
      ]
     },
     "execution_count": 153,
     "metadata": {},
     "output_type": "execute_result"
    }
   ],
   "source": [
    "np.vsplit(b,3) # menjadi 1 list isi 3 numpy array"
   ]
  },
  {
   "cell_type": "markdown",
   "metadata": {},
   "source": [
    "```python\n",
    "np.vsplit(b,2)\n",
    "```\n",
    "akan error karena tidak bisa dibagi menjadi 2 np array yang sama ukurannya"
   ]
  },
  {
   "cell_type": "code",
   "execution_count": 154,
   "metadata": {},
   "outputs": [
    {
     "data": {
      "text/plain": [
       "[array([[0, 1],\n",
       "        [4, 5],\n",
       "        [8, 9]]),\n",
       " array([[ 2,  3],\n",
       "        [ 6,  7],\n",
       "        [10, 11]])]"
      ]
     },
     "execution_count": 154,
     "metadata": {},
     "output_type": "execute_result"
    }
   ],
   "source": [
    "# hsplit, memisah np array dari kiri dan kana\n",
    "# misalnya b dibagi 2\n",
    "np.hsplit(b, 2) # dapat 1 list isi 2 numpy array"
   ]
  },
  {
   "cell_type": "code",
   "execution_count": 155,
   "metadata": {},
   "outputs": [
    {
     "data": {
      "text/plain": [
       "[array([[0],\n",
       "        [4],\n",
       "        [8]]),\n",
       " array([[1],\n",
       "        [5],\n",
       "        [9]]),\n",
       " array([[ 2],\n",
       "        [ 6],\n",
       "        [10]]),\n",
       " array([[ 3],\n",
       "        [ 7],\n",
       "        [11]])]"
      ]
     },
     "execution_count": 155,
     "metadata": {},
     "output_type": "execute_result"
    }
   ],
   "source": [
    "# misalnya b dibagi 4\n",
    "np.hsplit(b, 4) # dapat 1 list isi 4 numpy array"
   ]
  },
  {
   "cell_type": "markdown",
   "metadata": {},
   "source": [
    "## copy dan view\n",
    "- copy membuat duplikat numpy array\n",
    "    - view (by reference)\n",
    "    - copy (by value) \"deep copy\""
   ]
  },
  {
   "cell_type": "code",
   "execution_count": 157,
   "metadata": {},
   "outputs": [
    {
     "name": "stdout",
     "output_type": "stream",
     "text": [
      "[[ 0  1  2  3]\n",
      " [ 4  5  6  7]\n",
      " [ 8  9 10 11]]\n"
     ]
    }
   ],
   "source": [
    "print(b)"
   ]
  },
  {
   "cell_type": "code",
   "execution_count": 158,
   "metadata": {},
   "outputs": [],
   "source": [
    "b_copy = b.copy()"
   ]
  },
  {
   "cell_type": "code",
   "execution_count": 159,
   "metadata": {},
   "outputs": [
    {
     "name": "stdout",
     "output_type": "stream",
     "text": [
      "[[  0 100   2   3]\n",
      " [  4   5   6   7]\n",
      " [  8   9  10  11]]\n"
     ]
    }
   ],
   "source": [
    "b_copy[0,1] = 100\n",
    "\n",
    "print(b_copy)"
   ]
  },
  {
   "cell_type": "code",
   "execution_count": 160,
   "metadata": {},
   "outputs": [
    {
     "name": "stdout",
     "output_type": "stream",
     "text": [
      "[[ 0  1  2  3]\n",
      " [ 4  5  6  7]\n",
      " [ 8  9 10 11]]\n"
     ]
    }
   ],
   "source": [
    "print(b)"
   ]
  },
  {
   "cell_type": "markdown",
   "metadata": {},
   "source": [
    "mengubah array hasil copy, tidak merubah array awal kita"
   ]
  },
  {
   "cell_type": "code",
   "execution_count": 161,
   "metadata": {},
   "outputs": [
    {
     "name": "stdout",
     "output_type": "stream",
     "text": [
      "[[  0   1 200   3]\n",
      " [  4   5   6   7]\n",
      " [  8   9  10  11]]\n"
     ]
    }
   ],
   "source": [
    "# kalau view, kena reference\n",
    "b_view = b.view()\n",
    "\n",
    "b_view[0,2] = 200\n",
    "\n",
    "print(b_view)"
   ]
  },
  {
   "cell_type": "code",
   "execution_count": 162,
   "metadata": {},
   "outputs": [
    {
     "name": "stdout",
     "output_type": "stream",
     "text": [
      "[[  0   1 200   3]\n",
      " [  4   5   6   7]\n",
      " [  8   9  10  11]]\n"
     ]
    }
   ],
   "source": [
    "print(b)"
   ]
  },
  {
   "cell_type": "code",
   "execution_count": 163,
   "metadata": {},
   "outputs": [],
   "source": [
    "b[1,0] = 40"
   ]
  },
  {
   "cell_type": "code",
   "execution_count": 164,
   "metadata": {},
   "outputs": [
    {
     "name": "stdout",
     "output_type": "stream",
     "text": [
      "[[  0   1 200   3]\n",
      " [ 40   5   6   7]\n",
      " [  8   9  10  11]]\n"
     ]
    }
   ],
   "source": [
    "print(b)"
   ]
  },
  {
   "cell_type": "code",
   "execution_count": 165,
   "metadata": {},
   "outputs": [
    {
     "name": "stdout",
     "output_type": "stream",
     "text": [
      "[[  0   1 200   3]\n",
      " [ 40   5   6   7]\n",
      " [  8   9  10  11]]\n"
     ]
    }
   ],
   "source": [
    "print(b_view)"
   ]
  },
  {
   "cell_type": "markdown",
   "metadata": {},
   "source": [
    "b dan b_view adalah array yang sama dengan nama berbeda"
   ]
  },
  {
   "cell_type": "code",
   "execution_count": 166,
   "metadata": {},
   "outputs": [
    {
     "name": "stdout",
     "output_type": "stream",
     "text": [
      "[[  0 100   2   3]\n",
      " [  4   5   6   7]\n",
      " [  8   9  10  11]]\n"
     ]
    }
   ],
   "source": [
    "print(b_copy)"
   ]
  },
  {
   "cell_type": "markdown",
   "metadata": {},
   "source": [
    "b_copy adalah array yang berbeda, dengan nama yang berbeda juga"
   ]
  },
  {
   "cell_type": "markdown",
   "metadata": {},
   "source": [
    "# Basic Array Operation\n",
    "memanipulasi angka dalam numpy array menggunakan operator matematik dan angka"
   ]
  },
  {
   "cell_type": "code",
   "execution_count": 168,
   "metadata": {},
   "outputs": [
    {
     "data": {
      "text/plain": [
       "[60, 78, 99, 43, 1, 1, 1, 1]"
      ]
     },
     "execution_count": 168,
     "metadata": {},
     "output_type": "execute_result"
    }
   ],
   "source": [
    "# kalau list tidak bisa\n",
    "nilai = [60,78,99,43]\n",
    "\n",
    "# nilainya mau kita tambahkan 1 poin semua\n",
    "nilai + [1,1,1,1]"
   ]
  },
  {
   "cell_type": "code",
   "execution_count": 169,
   "metadata": {},
   "outputs": [
    {
     "data": {
      "text/plain": [
       "array([ 61,  79, 100,  44])"
      ]
     },
     "execution_count": 169,
     "metadata": {},
     "output_type": "execute_result"
    }
   ],
   "source": [
    "nilai_arr = np.array(nilai)\n",
    "\n",
    "nilai_arr + 1"
   ]
  },
  {
   "cell_type": "code",
   "execution_count": 171,
   "metadata": {},
   "outputs": [
    {
     "data": {
      "text/plain": [
       "array([ 70,  88, 100,  53])"
      ]
     },
     "execution_count": 171,
     "metadata": {},
     "output_type": "execute_result"
    }
   ],
   "source": [
    "nilai_arr + [10,10,1,10]"
   ]
  },
  {
   "cell_type": "code",
   "execution_count": 172,
   "metadata": {},
   "outputs": [
    {
     "data": {
      "text/plain": [
       "array([ 70,  88, 100,  53])"
      ]
     },
     "execution_count": 172,
     "metadata": {},
     "output_type": "execute_result"
    }
   ],
   "source": [
    "np.array([60,78,99,43]) + [10,10,1,10]"
   ]
  },
  {
   "cell_type": "markdown",
   "metadata": {},
   "source": [
    "numpy array bisa kita edit isinya secara matematik menggunakan list angka lain (ukuran sama), atau 1 angka lain. bisa menggunakan operator matematika pada umunya, \\+ \\- \\/ \\* \\% \\** dan lainnya"
   ]
  },
  {
   "cell_type": "code",
   "execution_count": 174,
   "metadata": {},
   "outputs": [
    {
     "data": {
      "text/plain": [
       "array([ 7.5,  8.5,  9.5, 10.5, 11.5])"
      ]
     },
     "execution_count": 174,
     "metadata": {},
     "output_type": "execute_result"
    }
   ],
   "source": [
    "np.arange(5) + 5 * 3 / 2"
   ]
  },
  {
   "cell_type": "code",
   "execution_count": 177,
   "metadata": {},
   "outputs": [
    {
     "data": {
      "text/plain": [
       "array([ 8.,  9., 10., 11., 12.])"
      ]
     },
     "execution_count": 177,
     "metadata": {},
     "output_type": "execute_result"
    }
   ],
   "source": [
    "np.arange(5) + np.ones(5) * 8"
   ]
  },
  {
   "cell_type": "code",
   "execution_count": 178,
   "metadata": {},
   "outputs": [
    {
     "data": {
      "text/plain": [
       "array([0, 1, 0, 1, 0], dtype=int32)"
      ]
     },
     "execution_count": 178,
     "metadata": {},
     "output_type": "execute_result"
    }
   ],
   "source": [
    "np.arange(5) % 2"
   ]
  },
  {
   "cell_type": "markdown",
   "metadata": {},
   "source": [
    "## max, min, sum, mean\n",
    "selain operator matematik biasa, ada juga fungsi bawaan numpy untuk mencari max, min, sum, mean, dan lainnya"
   ]
  },
  {
   "cell_type": "code",
   "execution_count": 179,
   "metadata": {},
   "outputs": [
    {
     "name": "stdout",
     "output_type": "stream",
     "text": [
      "[[ 2  5  7 90 -3]\n",
      " [21 15 17 91 10]]\n"
     ]
    }
   ],
   "source": [
    "print(a)"
   ]
  },
  {
   "cell_type": "code",
   "execution_count": 180,
   "metadata": {},
   "outputs": [
    {
     "name": "stdout",
     "output_type": "stream",
     "text": [
      "91\n"
     ]
    }
   ],
   "source": [
    "# max\n",
    "print(a.max())"
   ]
  },
  {
   "cell_type": "code",
   "execution_count": 181,
   "metadata": {},
   "outputs": [
    {
     "name": "stdout",
     "output_type": "stream",
     "text": [
      "[21 15 17 91 10]\n"
     ]
    }
   ],
   "source": [
    "# cari per axis\n",
    "print(a.max(axis=0)) # bandingin baris dengan baris lainnya, cari angka max"
   ]
  },
  {
   "cell_type": "code",
   "execution_count": 182,
   "metadata": {},
   "outputs": [
    {
     "name": "stdout",
     "output_type": "stream",
     "text": [
      "[90 91]\n"
     ]
    }
   ],
   "source": [
    "print(a.max(axis=1)) # bandingin kolom dengan kolom lainnya, cari angka max"
   ]
  },
  {
   "cell_type": "code",
   "execution_count": 183,
   "metadata": {},
   "outputs": [
    {
     "name": "stdout",
     "output_type": "stream",
     "text": [
      "-3\n",
      "[ 2  5  7 90 -3]\n",
      "[-3 10]\n"
     ]
    }
   ],
   "source": [
    "# min\n",
    "print(a.min())\n",
    "print(a.min(axis=0))\n",
    "print(a.min(axis=1))"
   ]
  },
  {
   "cell_type": "code",
   "execution_count": 184,
   "metadata": {},
   "outputs": [
    {
     "name": "stdout",
     "output_type": "stream",
     "text": [
      "255\n",
      "[ 23  20  24 181   7]\n",
      "[101 154]\n"
     ]
    }
   ],
   "source": [
    "# sum, dijumlah\n",
    "print(a.sum())\n",
    "print(a.sum(axis=0))\n",
    "print(a.sum(axis=1))"
   ]
  },
  {
   "cell_type": "code",
   "execution_count": 185,
   "metadata": {},
   "outputs": [
    {
     "name": "stdout",
     "output_type": "stream",
     "text": [
      "25.5\n",
      "[11.5 10.  12.  90.5  3.5]\n",
      "[20.2 30.8]\n"
     ]
    }
   ],
   "source": [
    "# mean, rata-rata\n",
    "print(a.mean())\n",
    "print(a.mean(axis=0))\n",
    "print(a.mean(axis=1))"
   ]
  },
  {
   "cell_type": "markdown",
   "metadata": {},
   "source": [
    "# Matrices\n",
    "Apa itu matrix? Itu adalah nama yang diberikan untuk sebuah numpy array 2 dimensi yang punya jumlah kolom sama setiap barisnya, dan setiap item adalah sebuah angka.\n",
    "\n",
    "matrix yang punya 1 kolom saja namanya *vector*, tapi untuk membuat lebih simpel kita panggil saja semuanya sebagai matrix"
   ]
  },
  {
   "cell_type": "code",
   "execution_count": 198,
   "metadata": {},
   "outputs": [
    {
     "name": "stdout",
     "output_type": "stream",
     "text": [
      "[[-2  5  6]\n",
      " [ 5  2  7]]\n"
     ]
    }
   ],
   "source": [
    "print(np.array([[-2,5,6],[5,2,7]])) # contoh matrix"
   ]
  },
  {
   "cell_type": "code",
   "execution_count": 197,
   "metadata": {},
   "outputs": [
    {
     "name": "stdout",
     "output_type": "stream",
     "text": [
      "[[-2, 5, 6], [5, 2, 7]]\n"
     ]
    }
   ],
   "source": [
    "print([[-2,5,6],[5,2,7]]) # bisa dilihat python sudah bedain visual hasil print list biasa dibanding matrix"
   ]
  },
  {
   "cell_type": "markdown",
   "metadata": {},
   "source": [
    "# Dot Product\n",
    "teknik perkalian spesial antara dua matrix\n",
    "\n",
    "untuk melihat secara visual teknik dot product bisa ke https://www.mathsisfun.com/algebra/matrix-multiplying.html"
   ]
  },
  {
   "cell_type": "code",
   "execution_count": 199,
   "metadata": {},
   "outputs": [
    {
     "data": {
      "text/plain": [
       "array([ 5, 12])"
      ]
     },
     "execution_count": 199,
     "metadata": {},
     "output_type": "execute_result"
    }
   ],
   "source": [
    "# perkalian antara 2 numpy array itu mengkalikan angka yang ada di posisi sama dari np array a dan b\n",
    "\n",
    "np.array([1,2]) * np.array([5,6])\n",
    "\n",
    "# 1 * 5, 2 * 6\n",
    "# kita akan dapat hasil perkaliannya jadi numpy array [5, 12]"
   ]
  },
  {
   "cell_type": "code",
   "execution_count": 200,
   "metadata": {},
   "outputs": [
    {
     "data": {
      "text/plain": [
       "array([[ 58,  64],\n",
       "       [139, 154]])"
      ]
     },
     "execution_count": 200,
     "metadata": {},
     "output_type": "execute_result"
    }
   ],
   "source": [
    "a = np.arange(1,7).reshape((2,3))\n",
    "b = np.arange(7,13).reshape((3,2))\n",
    "\n",
    "a.dot(b)"
   ]
  },
  {
   "cell_type": "code",
   "execution_count": 202,
   "metadata": {},
   "outputs": [
    {
     "name": "stdout",
     "output_type": "stream",
     "text": [
      "[83 63 37 75]\n",
      "grand total 258\n"
     ]
    }
   ],
   "source": [
    "# contoh pemakaian\n",
    "penjualan = np.array([[13,9,7,15],\n",
    "                      [8,7,4,6],\n",
    "                      [6,4,0,3]\n",
    "                     ])\n",
    "harga = np.array([3,4,2])\n",
    "\n",
    "total_penjualan_per_hari = harga.dot(penjualan)\n",
    "print(total_penjualan_per_hari)\n",
    "\n",
    "print(\"grand total\", total_penjualan_per_hari.sum())"
   ]
  },
  {
   "cell_type": "markdown",
   "metadata": {},
   "source": [
    "# transpose vs reshape"
   ]
  },
  {
   "cell_type": "code",
   "execution_count": 203,
   "metadata": {},
   "outputs": [
    {
     "name": "stdout",
     "output_type": "stream",
     "text": [
      "[[13  9  7 15]\n",
      " [ 8  7  4  6]\n",
      " [ 6  4  0  3]]\n"
     ]
    }
   ],
   "source": [
    "print(penjualan)"
   ]
  },
  {
   "cell_type": "code",
   "execution_count": 204,
   "metadata": {},
   "outputs": [
    {
     "name": "stdout",
     "output_type": "stream",
     "text": [
      "[[13  8  6]\n",
      " [ 9  7  4]\n",
      " [ 7  4  0]\n",
      " [15  6  3]]\n"
     ]
    }
   ],
   "source": [
    "print(penjualan.T)"
   ]
  },
  {
   "cell_type": "code",
   "execution_count": 205,
   "metadata": {},
   "outputs": [
    {
     "name": "stdout",
     "output_type": "stream",
     "text": [
      "[[13  9  7 15]\n",
      " [ 8  7  4  6]\n",
      " [ 6  4  0  3]]\n"
     ]
    }
   ],
   "source": [
    "print(penjualan.T.T)"
   ]
  },
  {
   "cell_type": "code",
   "execution_count": 208,
   "metadata": {},
   "outputs": [
    {
     "data": {
      "text/plain": [
       "array([[13,  8,  6],\n",
       "       [ 9,  7,  4],\n",
       "       [ 7,  4,  0],\n",
       "       [15,  6,  3]])"
      ]
     },
     "execution_count": 208,
     "metadata": {},
     "output_type": "execute_result"
    }
   ],
   "source": [
    "penjualan.transpose() # cara lain transpose, selain .T"
   ]
  },
  {
   "cell_type": "code",
   "execution_count": 206,
   "metadata": {},
   "outputs": [
    {
     "name": "stdout",
     "output_type": "stream",
     "text": [
      "[[13  9  7]\n",
      " [15  8  7]\n",
      " [ 4  6  6]\n",
      " [ 4  0  3]]\n"
     ]
    }
   ],
   "source": [
    "# kalau reshape, datanya kecampur\n",
    "print(penjualan.reshape((4,3)))"
   ]
  },
  {
   "cell_type": "code",
   "execution_count": 209,
   "metadata": {},
   "outputs": [
    {
     "name": "stdout",
     "output_type": "stream",
     "text": [
      "[[13  9  7 15]\n",
      " [ 8  7  4  6]\n",
      " [ 6  4  0  3]]\n"
     ]
    }
   ],
   "source": [
    "print(penjualan.reshape((4,3)).reshape((3,4)))"
   ]
  },
  {
   "cell_type": "markdown",
   "metadata": {},
   "source": [
    "transpose memastikan teman sebaris menjadi teman sekolom"
   ]
  },
  {
   "cell_type": "markdown",
   "metadata": {},
   "source": [
    "# N-Dimensional Array\n",
    "numpy array bisa punya dimensi bebas, 1,2,3,4,..."
   ]
  },
  {
   "cell_type": "code",
   "execution_count": 211,
   "metadata": {},
   "outputs": [
    {
     "data": {
      "text/plain": [
       "array([[[ 0,  1,  2],\n",
       "        [ 3,  4,  5],\n",
       "        [ 6,  7,  8],\n",
       "        [ 9, 10, 11],\n",
       "        [12, 13, 14]],\n",
       "\n",
       "       [[15, 16, 17],\n",
       "        [18, 19, 20],\n",
       "        [21, 22, 23],\n",
       "        [24, 25, 26],\n",
       "        [27, 28, 29]],\n",
       "\n",
       "       [[30, 31, 32],\n",
       "        [33, 34, 35],\n",
       "        [36, 37, 38],\n",
       "        [39, 40, 41],\n",
       "        [42, 43, 44]],\n",
       "\n",
       "       [[45, 46, 47],\n",
       "        [48, 49, 50],\n",
       "        [51, 52, 53],\n",
       "        [54, 55, 56],\n",
       "        [57, 58, 59]]])"
      ]
     },
     "execution_count": 211,
     "metadata": {},
     "output_type": "execute_result"
    }
   ],
   "source": [
    "np.arange(60).reshape((4,5,3)) # 3d, 4 bagian, masing-masing 5 baris, setiap baris ada 3 kolom"
   ]
  },
  {
   "cell_type": "code",
   "execution_count": 212,
   "metadata": {},
   "outputs": [
    {
     "data": {
      "text/plain": [
       "array([[[[ 0,  1],\n",
       "         [ 2,  3],\n",
       "         [ 4,  5]],\n",
       "\n",
       "        [[ 6,  7],\n",
       "         [ 8,  9],\n",
       "         [10, 11]],\n",
       "\n",
       "        [[12, 13],\n",
       "         [14, 15],\n",
       "         [16, 17]],\n",
       "\n",
       "        [[18, 19],\n",
       "         [20, 21],\n",
       "         [22, 23]],\n",
       "\n",
       "        [[24, 25],\n",
       "         [26, 27],\n",
       "         [28, 29]]],\n",
       "\n",
       "\n",
       "       [[[30, 31],\n",
       "         [32, 33],\n",
       "         [34, 35]],\n",
       "\n",
       "        [[36, 37],\n",
       "         [38, 39],\n",
       "         [40, 41]],\n",
       "\n",
       "        [[42, 43],\n",
       "         [44, 45],\n",
       "         [46, 47]],\n",
       "\n",
       "        [[48, 49],\n",
       "         [50, 51],\n",
       "         [52, 53]],\n",
       "\n",
       "        [[54, 55],\n",
       "         [56, 57],\n",
       "         [58, 59]]]])"
      ]
     },
     "execution_count": 212,
     "metadata": {},
     "output_type": "execute_result"
    }
   ],
   "source": [
    "np.arange(60).reshape((2,5,3,2)) # 2 bagian, masing masing punya 5 bagian, tiap bagian ada 3 baris, tiap baris punya 2 kolom "
   ]
  },
  {
   "cell_type": "code",
   "execution_count": 213,
   "metadata": {},
   "outputs": [
    {
     "data": {
      "text/plain": [
       "array([[ 0,  1,  2,  3,  4],\n",
       "       [ 5,  6,  7,  8,  9],\n",
       "       [10, 11, 12, 13, 14],\n",
       "       [15, 16, 17, 18, 19]])"
      ]
     },
     "execution_count": 213,
     "metadata": {},
     "output_type": "execute_result"
    }
   ],
   "source": [
    "# biasanya kita akan bekerja dengan np array 2 dimensi\n",
    "np.arange(20).reshape((4,5)) "
   ]
  },
  {
   "cell_type": "code",
   "execution_count": 214,
   "metadata": {},
   "outputs": [
    {
     "data": {
      "text/plain": [
       "array([0, 1, 2, 3, 4])"
      ]
     },
     "execution_count": 214,
     "metadata": {},
     "output_type": "execute_result"
    }
   ],
   "source": [
    "# atau 1 dimensi\n",
    "np.arange(5).reshape((5,)) "
   ]
  },
  {
   "cell_type": "markdown",
   "metadata": {},
   "source": [
    "# Flatten\n",
    "teknik untuk mengubah numpy array menjadi 1 dimensi\n",
    "- flatten (by value, mirip copy)\n",
    "- ravel (by reference, mirip view)"
   ]
  },
  {
   "cell_type": "code",
   "execution_count": 220,
   "metadata": {},
   "outputs": [
    {
     "name": "stdout",
     "output_type": "stream",
     "text": [
      "[[[ 0  1  2]\n",
      "  [ 3  4  5]\n",
      "  [ 6  7  8]\n",
      "  [ 9 10 11]\n",
      "  [12 13 14]]\n",
      "\n",
      " [[15 16 17]\n",
      "  [18 19 20]\n",
      "  [21 22 23]\n",
      "  [24 25 26]\n",
      "  [27 28 29]]]\n"
     ]
    }
   ],
   "source": [
    "arr3d = np.arange(30).reshape((2,5,3))\n",
    "print(arr3d)"
   ]
  },
  {
   "cell_type": "code",
   "execution_count": 221,
   "metadata": {},
   "outputs": [
    {
     "name": "stdout",
     "output_type": "stream",
     "text": [
      "[ 0  1  2  3  4  5  6  7  8  9 10 11 12 13 14 15 16 17 18 19 20 21 22 23\n",
      " 24 25 26 27 28 29]\n",
      "[ 0  1  2  3  4  5  6  7  8  9 10 11 12 13 14 15 16 17 18 19 20 21 22 23\n",
      " 24 25 26 27 28 29]\n"
     ]
    }
   ],
   "source": [
    "# buat jadi 1d\n",
    "arr3d_flat = arr3d.flatten()\n",
    "arr3d_ravel = arr3d.ravel()\n",
    "\n",
    "print(arr3d_flat)\n",
    "print(arr3d_ravel)"
   ]
  },
  {
   "cell_type": "code",
   "execution_count": 222,
   "metadata": {},
   "outputs": [],
   "source": [
    "# kalau yang di ravel berubah, aslinya ikut berubah juga\n",
    "arr3d_ravel[0] = 500"
   ]
  },
  {
   "cell_type": "code",
   "execution_count": 223,
   "metadata": {},
   "outputs": [
    {
     "name": "stdout",
     "output_type": "stream",
     "text": [
      "[500   1   2   3   4   5   6   7   8   9  10  11  12  13  14  15  16  17\n",
      "  18  19  20  21  22  23  24  25  26  27  28  29]\n"
     ]
    }
   ],
   "source": [
    "print(arr3d_ravel)"
   ]
  },
  {
   "cell_type": "code",
   "execution_count": 224,
   "metadata": {},
   "outputs": [
    {
     "name": "stdout",
     "output_type": "stream",
     "text": [
      "[[[500   1   2]\n",
      "  [  3   4   5]\n",
      "  [  6   7   8]\n",
      "  [  9  10  11]\n",
      "  [ 12  13  14]]\n",
      "\n",
      " [[ 15  16  17]\n",
      "  [ 18  19  20]\n",
      "  [ 21  22  23]\n",
      "  [ 24  25  26]\n",
      "  [ 27  28  29]]]\n"
     ]
    }
   ],
   "source": [
    "print(arr3d) # perhatikan walaupun asli 3d, yg ravel 1d, isinya masih nyambung"
   ]
  },
  {
   "cell_type": "code",
   "execution_count": 225,
   "metadata": {},
   "outputs": [
    {
     "name": "stdout",
     "output_type": "stream",
     "text": [
      "[150   1   2   3   4   5   6   7   8   9  10  11  12  13  14  15  16  17\n",
      "  18  19  20  21  22  23  24  25  26  27  28  29]\n"
     ]
    }
   ],
   "source": [
    "arr3d_flat[0] = 150\n",
    "print(arr3d_flat)"
   ]
  },
  {
   "cell_type": "code",
   "execution_count": 226,
   "metadata": {},
   "outputs": [
    {
     "name": "stdout",
     "output_type": "stream",
     "text": [
      "[[[500   1   2]\n",
      "  [  3   4   5]\n",
      "  [  6   7   8]\n",
      "  [  9  10  11]\n",
      "  [ 12  13  14]]\n",
      "\n",
      " [[ 15  16  17]\n",
      "  [ 18  19  20]\n",
      "  [ 21  22  23]\n",
      "  [ 24  25  26]\n",
      "  [ 27  28  29]]]\n"
     ]
    }
   ],
   "source": [
    "print(arr3d)"
   ]
  },
  {
   "cell_type": "markdown",
   "metadata": {},
   "source": [
    "### latihan\n",
    "buat sebuah numpy array 2 dimensi ukuran 5 * 6 (5 baris 6 kolom):\n",
    "- gunakan np.array, np.zeros, np.arange - isi angka bebas\n",
    "- coba menggunakan indexing dan slicing untuk mengambil 1 angka dan bbrp angka dari numpy array yang sudah dibuat\n",
    "    - misal ambil angka di baris pertama, kolom ke3\n",
    "    - misal ambil angka di baris 2-4, kolom terakhir\n",
    "- coba dot product np.array([5,4,6,7,8]) dengan array yang sudah dibuat"
   ]
  },
  {
   "cell_type": "markdown",
   "metadata": {},
   "source": [
    "# paling sering dipakai\n",
    "- np.array, np.arange, np.ones\n",
    "- np.random.random\n",
    "- shape\n",
    "- reshape\n",
    "- \\+ \\- \\* \\\\ dengan angka atau numpy array lain\n",
    "- aggregate (sum, min, max, mean)\n",
    "- indexing dan slicing\n",
    "- transpose"
   ]
  },
  {
   "cell_type": "code",
   "execution_count": 231,
   "metadata": {},
   "outputs": [
    {
     "data": {
      "text/plain": [
       "array([[100., 100., 100., 100., 100.],\n",
       "       [100., 100., 100., 100., 100.]])"
      ]
     },
     "execution_count": 231,
     "metadata": {},
     "output_type": "execute_result"
    }
   ],
   "source": [
    "# buat np array isi angka 100 semua\n",
    "(np.ones(10) * 100).reshape((2,5))"
   ]
  },
  {
   "cell_type": "code",
   "execution_count": 228,
   "metadata": {},
   "outputs": [
    {
     "data": {
      "text/plain": [
       "array([100., 100., 100., 100., 100., 100., 100., 100., 100., 100.])"
      ]
     },
     "execution_count": 228,
     "metadata": {},
     "output_type": "execute_result"
    }
   ],
   "source": [
    "np.zeros(10) + 100"
   ]
  },
  {
   "cell_type": "code",
   "execution_count": null,
   "metadata": {},
   "outputs": [],
   "source": []
  }
 ],
 "metadata": {
  "kernelspec": {
   "display_name": "Python 3 (ipykernel)",
   "language": "python",
   "name": "python3"
  },
  "language_info": {
   "codemirror_mode": {
    "name": "ipython",
    "version": 3
   },
   "file_extension": ".py",
   "mimetype": "text/x-python",
   "name": "python",
   "nbconvert_exporter": "python",
   "pygments_lexer": "ipython3",
   "version": "3.8.5"
  }
 },
 "nbformat": 4,
 "nbformat_minor": 4
}
