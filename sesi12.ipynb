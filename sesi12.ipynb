{
 "cells": [
  {
   "cell_type": "markdown",
   "id": "4137e4c4-89fe-4833-9518-0d0daf68bd62",
   "metadata": {},
   "source": [
    "# Classification\n",
    "Classification adalah tipe Supervised Machine Learning untuk memberi label ke data. Kita latih dulu menggunakan data yang ada fitur dan target, targetnya berjenis label seperti contohnya:\n",
    "- gambar angka 0,1,2,3,4,5,6,7,8,9\n",
    "- sakit jantung / sehat\n",
    "- rating bintang seller 1,2,3,4,5\n",
    "- wine tipe A, B, C\n",
    "- diterima / tidak\n",
    "\n",
    "## Algoritma Model Classification\n",
    "- Logistic Regression\n",
    "- K-Nearest Neighbor\n",
    "- Naive Bayes\n",
    "- Decision Tree\n",
    "- Random Forest\n",
    "- Support Vector Machine (SVM)\n",
    "\n",
    "## Evaluasi\n",
    "performa sebuah model machine learning tipe classification bisa kita ukur lebih daripada skor R2 saja.\n",
    "\n",
    "kita bisa buat confusion matrix dan classification performance.\n",
    "1. Confusion Matrix adalah sebuah matrix (2D) dimana kita membandingkan data asli dengan data hasil prediksi.\n",
    "2. Classification Performance adalah sebuah tabel yang merangkum keakuratan model Classification yang dibuat.\n"
   ]
  },
  {
   "cell_type": "code",
   "execution_count": 24,
   "id": "7c710ec8-0a5e-4692-be55-45185e4baab4",
   "metadata": {},
   "outputs": [],
   "source": [
    "# import package disini\n",
    "import numpy as np\n",
    "import pandas as pd\n",
    "\n",
    "%matplotlib inline\n",
    "import matplotlib as mpl\n",
    "import matplotlib.pyplot as plt\n",
    "mpl.style.use(['ggplot'])\n",
    "\n",
    "import seaborn as sns\n",
    "\n",
    "# import package2 dari sklearn disini\n",
    "from sklearn.linear_model import LogisticRegression\n",
    "from sklearn.neighbors import KNeighborsClassifier\n",
    "\n",
    "from sklearn.datasets import load_digits, load_wine\n",
    "\n",
    "from sklearn.model_selection import train_test_split\n",
    "from sklearn.preprocessing import StandardScaler, LabelEncoder\n",
    "from sklearn.metrics import classification_report, confusion_matrix"
   ]
  },
  {
   "cell_type": "markdown",
   "id": "3c95cf96-45f8-49c5-86b6-bcbfa5e1a0d2",
   "metadata": {},
   "source": [
    "# Logistic Regression"
   ]
  },
  {
   "cell_type": "code",
   "execution_count": 2,
   "id": "44a2a62e-420a-49ab-859b-606845328aef",
   "metadata": {},
   "outputs": [
    {
     "data": {
      "text/plain": [
       "Text(0, 0.5, '0: sehat, 1: obesitas')"
      ]
     },
     "execution_count": 2,
     "metadata": {},
     "output_type": "execute_result"
    },
    {
     "data": {
      "image/png": "[encoded data removed]",
      "text/plain": [
       "<Figure size 432x288 with 1 Axes>"
      ]
     },
     "metadata": {},
     "output_type": "display_data"
    }
   ],
   "source": [
    "# siapkan data\n",
    "# disini kita buat dummy data\n",
    "x = np.arange(10).reshape(-1, 1)\n",
    "y = np.array([0, 0, 0, 0, 1, 1, 1, 1, 1, 1])\n",
    "\n",
    "plt.scatter(x, y)\n",
    "plt.xlabel(\"berat badan\")\n",
    "plt.ylabel(\"0: sehat, 1: obesitas\")"
   ]
  },
  {
   "cell_type": "code",
   "execution_count": 3,
   "id": "08408d34-72e0-4f52-9f74-abe041f5c23a",
   "metadata": {},
   "outputs": [],
   "source": [
    "# data preparation\n",
    "# missing value, invalid value, tipe data, \n",
    "# encoding, scaling, split jadi training dan testing data"
   ]
  },
  {
   "cell_type": "code",
   "execution_count": 4,
   "id": "50dafd2b-e7d1-4f69-acb5-a8797b514c3d",
   "metadata": {},
   "outputs": [],
   "source": [
    "# membuat dan melatih model\n",
    "model = LogisticRegression(solver=\"liblinear\", random_state=0).fit(x, y)"
   ]
  },
  {
   "cell_type": "code",
   "execution_count": 5,
   "id": "78ba794d-2753-453b-aa04-24f074a2aa46",
   "metadata": {},
   "outputs": [
    {
     "name": "stdout",
     "output_type": "stream",
     "text": [
      "              precision    recall  f1-score   support\n",
      "\n",
      "           0       1.00      0.75      0.86         4\n",
      "           1       0.86      1.00      0.92         6\n",
      "\n",
      "    accuracy                           0.90        10\n",
      "   macro avg       0.93      0.88      0.89        10\n",
      "weighted avg       0.91      0.90      0.90        10\n",
      "\n",
      "[[3 1]\n",
      " [0 6]]\n"
     ]
    }
   ],
   "source": [
    "# evaluasi\n",
    "y_pred = model.predict(x)\n",
    "\n",
    "print(classification_report(y, y_pred))\n",
    "\n",
    "print(confusion_matrix(y, y_pred))"
   ]
  },
  {
   "cell_type": "code",
   "execution_count": 6,
   "id": "63af0485-09d2-4577-be77-d932fb7c4f25",
   "metadata": {},
   "outputs": [],
   "source": [
    "# tuning"
   ]
  },
  {
   "cell_type": "code",
   "execution_count": 7,
   "id": "f93d369c-6d0e-44d0-a508-d4d8eb61be98",
   "metadata": {},
   "outputs": [
    {
     "name": "stdout",
     "output_type": "stream",
     "text": [
      "[0 1]\n",
      "[-1.04608067] [[0.51491375]]\n"
     ]
    }
   ],
   "source": [
    "# detail model Logistic Regression\n",
    "print(model.classes_) # model LogisticRegression ini akan memprediksi label apa saja?\n",
    "print(model.intercept_, model.coef_) # intercept dan coefficient digunakan di formulai matematik yang membuat garis regression"
   ]
  },
  {
   "cell_type": "code",
   "execution_count": 8,
   "id": "548f7186-61d7-4cb4-883f-dd582e3e8c82",
   "metadata": {},
   "outputs": [
    {
     "data": {
      "text/plain": [
       "array([0, 0, 0, 1, 1, 1, 1, 1, 1, 1])"
      ]
     },
     "execution_count": 8,
     "metadata": {},
     "output_type": "execute_result"
    }
   ],
   "source": [
    "y_pred"
   ]
  },
  {
   "cell_type": "code",
   "execution_count": 9,
   "id": "16394a2e-cb56-43c1-a393-b25e89de8464",
   "metadata": {},
   "outputs": [
    {
     "data": {
      "text/plain": [
       "array([[0.74002157, 0.25997843],\n",
       "       [0.62975524, 0.37024476],\n",
       "       [0.5040632 , 0.4959368 ],\n",
       "       [0.37785549, 0.62214451],\n",
       "       [0.26628093, 0.73371907],\n",
       "       [0.17821501, 0.82178499],\n",
       "       [0.11472079, 0.88527921],\n",
       "       [0.07186982, 0.92813018],\n",
       "       [0.04422513, 0.95577487],\n",
       "       [0.02690569, 0.97309431]])"
      ]
     },
     "execution_count": 9,
     "metadata": {},
     "output_type": "execute_result"
    }
   ],
   "source": [
    "model.predict_proba(x)"
   ]
  },
  {
   "cell_type": "code",
   "execution_count": 10,
   "id": "5fdb760c-9477-414a-ac6f-2509fe463fc2",
   "metadata": {},
   "outputs": [
    {
     "data": {
      "text/plain": [
       "array([0.25997843, 0.37024476, 0.4959368 , 0.62214451, 0.73371907,\n",
       "       0.82178499, 0.88527921, 0.92813018, 0.95577487, 0.97309431])"
      ]
     },
     "execution_count": 10,
     "metadata": {},
     "output_type": "execute_result"
    }
   ],
   "source": [
    "y_proba = model.predict_proba(x).T[1]\n",
    "y_proba"
   ]
  },
  {
   "cell_type": "code",
   "execution_count": 11,
   "id": "19534132-c053-424b-9aef-c06598572559",
   "metadata": {},
   "outputs": [
    {
     "data": {
      "text/plain": [
       "Text(0.5, 1.0, 'Logistic Regression')"
      ]
     },
     "execution_count": 11,
     "metadata": {},
     "output_type": "execute_result"
    },
    {
     "data": {
      "image/png": "[encoded data removed]",
      "text/plain": [
       "<Figure size 432x288 with 1 Axes>"
      ]
     },
     "metadata": {},
     "output_type": "display_data"
    }
   ],
   "source": [
    "# visualisasi\n",
    "model = LogisticRegression(solver=\"liblinear\", random_state=0).fit(x, y)\n",
    "y_pred = model.predict(x)\n",
    "y_proba = model.predict_proba(x).T[1]\n",
    "\n",
    "plt.scatter(x, y)\n",
    "plt.xlabel(\"berat badan\")\n",
    "plt.ylabel(\"0: sehat, 1: obesitas\")\n",
    "\n",
    "plt.scatter(x, y_pred, color=\"blue\", marker=\"x\")\n",
    "plt.plot(x, y_proba, color=\"blue\")\n",
    "plt.title(\"Logistic Regression\")"
   ]
  },
  {
   "cell_type": "markdown",
   "id": "da0d91d7-7eca-444c-9415-73718bfc8941",
   "metadata": {},
   "source": [
    "# Logistic Regression - Digits dataset\n",
    "kita akan load data gambar tulisan tangan untuk angka 0-9, lalu kita buat model Machine Learning tipe LogisticRegression untuk menprediksi gambar apakah tulisannya angka 0-9"
   ]
  },
  {
   "cell_type": "code",
   "execution_count": 12,
   "id": "4f1adf9b-f9b0-4c38-b7fd-91aa46da5542",
   "metadata": {},
   "outputs": [
    {
     "data": {
      "text/plain": [
       "array([[ 0.,  0.,  5., ...,  0.,  0.,  0.],\n",
       "       [ 0.,  0.,  0., ..., 10.,  0.,  0.],\n",
       "       [ 0.,  0.,  0., ..., 16.,  9.,  0.],\n",
       "       ...,\n",
       "       [ 0.,  0.,  1., ...,  6.,  0.,  0.],\n",
       "       [ 0.,  0.,  2., ..., 12.,  0.,  0.],\n",
       "       [ 0.,  0., 10., ..., 12.,  1.,  0.]])"
      ]
     },
     "execution_count": 12,
     "metadata": {},
     "output_type": "execute_result"
    }
   ],
   "source": [
    "# siapkan data\n",
    "digits = load_digits()\n",
    "digits.data"
   ]
  },
  {
   "cell_type": "code",
   "execution_count": 13,
   "id": "da426710-4933-4c36-bd51-ba6907e5925d",
   "metadata": {},
   "outputs": [
    {
     "data": {
      "text/plain": [
       "(1797, 64)"
      ]
     },
     "execution_count": 13,
     "metadata": {},
     "output_type": "execute_result"
    }
   ],
   "source": [
    "digits.data.shape"
   ]
  },
  {
   "cell_type": "code",
   "execution_count": 14,
   "id": "ef831607-bf46-4d01-afef-6334d33d920a",
   "metadata": {},
   "outputs": [
    {
     "data": {
      "text/plain": [
       "64"
      ]
     },
     "execution_count": 14,
     "metadata": {},
     "output_type": "execute_result"
    }
   ],
   "source": [
    "len(digits.feature_names) # setiap baris data adalah sebuah gambar dengan 64 pixel"
   ]
  },
  {
   "cell_type": "code",
   "execution_count": 15,
   "id": "0e653c3a-8e64-464e-9197-890425380264",
   "metadata": {},
   "outputs": [
    {
     "data": {
      "text/plain": [
       "1797"
      ]
     },
     "execution_count": 15,
     "metadata": {},
     "output_type": "execute_result"
    }
   ],
   "source": [
    "len(digits.target)"
   ]
  },
  {
   "cell_type": "code",
   "execution_count": 16,
   "id": "05f58c17-78ab-49ac-b38e-42dc823dadc1",
   "metadata": {},
   "outputs": [
    {
     "data": {
      "text/plain": [
       "Text(0.5, 1.0, '1')"
      ]
     },
     "execution_count": 16,
     "metadata": {},
     "output_type": "execute_result"
    },
    {
     "data": {
      "image/png": "[encoded data removed]",
      "text/plain": [
       "<Figure size 432x288 with 1 Axes>"
      ]
     },
     "metadata": {},
     "output_type": "display_data"
    }
   ],
   "source": [
    "# data ini adalah gambar 8x8 pixel\n",
    "# kita bisa recreate gambarnya dari numpy array nya kalau mau\n",
    "n = 1000\n",
    "satu_gambar = digits.data[n].reshape((8,8))\n",
    "plt.imshow(satu_gambar)\n",
    "plt.axis(\"off\")\n",
    "plt.title(digits.target[n])"
   ]
  },
  {
   "cell_type": "code",
   "execution_count": 17,
   "id": "ce61318e-292d-405e-b4e5-6762a9e3ed93",
   "metadata": {},
   "outputs": [
    {
     "data": {
      "text/plain": [
       "0"
      ]
     },
     "execution_count": 17,
     "metadata": {},
     "output_type": "execute_result"
    }
   ],
   "source": [
    "pd.DataFrame(data=digits.data).isnull().sum().sum() # tidak ada missing value"
   ]
  },
  {
   "cell_type": "code",
   "execution_count": 18,
   "id": "55c71c27-432c-48e4-b692-124f091cf2be",
   "metadata": {},
   "outputs": [
    {
     "name": "stdout",
     "output_type": "stream",
     "text": [
      "(1437, 64) (360, 64)\n"
     ]
    }
   ],
   "source": [
    "# persiapkan data\n",
    "# missing value, invalid value, tipe data, \n",
    "# encoding, scaling, split jadi training dan testing data\n",
    "\n",
    "# datanya kita split jadi training dan testing data\n",
    "x_train, x_test, y_train, y_test = train_test_split(digits.data, digits.target, random_state=0, test_size=0.2)\n",
    "\n",
    "print(x_train.shape, x_test.shape)"
   ]
  },
  {
   "cell_type": "code",
   "execution_count": 19,
   "id": "be6f54d8-6880-4df7-84a6-0ecf9a7d349b",
   "metadata": {},
   "outputs": [
    {
     "name": "stdout",
     "output_type": "stream",
     "text": [
      "              precision    recall  f1-score   support\n",
      "\n",
      "           0       1.00      1.00      1.00        27\n",
      "           1       0.91      0.89      0.90        35\n",
      "           2       0.97      0.97      0.97        36\n",
      "           3       0.97      1.00      0.98        29\n",
      "           4       0.97      1.00      0.98        30\n",
      "           5       0.97      0.93      0.95        40\n",
      "           6       0.98      0.98      0.98        44\n",
      "           7       1.00      0.97      0.99        39\n",
      "           8       0.92      0.92      0.92        39\n",
      "           9       0.91      0.95      0.93        41\n",
      "\n",
      "    accuracy                           0.96       360\n",
      "   macro avg       0.96      0.96      0.96       360\n",
      "weighted avg       0.96      0.96      0.96       360\n",
      "\n",
      "[[27  0  0  0  0  0  0  0  0  0]\n",
      " [ 0 31  0  0  0  0  1  0  2  1]\n",
      " [ 0  0 35  1  0  0  0  0  0  0]\n",
      " [ 0  0  0 29  0  0  0  0  0  0]\n",
      " [ 0  0  0  0 30  0  0  0  0  0]\n",
      " [ 0  0  0  0  0 37  0  0  0  3]\n",
      " [ 0  1  0  0  0  0 43  0  0  0]\n",
      " [ 0  0  0  0  1  0  0 38  0  0]\n",
      " [ 0  2  1  0  0  0  0  0 36  0]\n",
      " [ 0  0  0  0  0  1  0  0  1 39]]\n"
     ]
    }
   ],
   "source": [
    "# buat dan latih model\n",
    "model = LogisticRegression(solver=\"newton-cg\", random_state=0).fit(x_train, y_train)\n",
    "\n",
    "# evaluasi\n",
    "y_pred = model.predict(x_test)\n",
    "\n",
    "print(classification_report(y_test, y_pred))\n",
    "\n",
    "print(confusion_matrix(y_test, y_pred))"
   ]
  },
  {
   "cell_type": "code",
   "execution_count": 20,
   "id": "9955a707-84e1-4bb9-8a80-03ef85d910de",
   "metadata": {},
   "outputs": [],
   "source": [
    "# buat cm jadi visual\n",
    "def visualizeCM(cm, nolabels):    \n",
    "    fig, ax = plt.subplots(figsize=(nolabels, nolabels))\n",
    "    ax.imshow(cm)\n",
    "    ax.grid(False)\n",
    "    ax.set_xlabel('Predicted outputs', color='black')\n",
    "    ax.set_ylabel('Actual outputs', color='black')\n",
    "    ax.xaxis.set(ticks=range(nolabels))\n",
    "    ax.yaxis.set(ticks=range(nolabels))\n",
    "    ax.set_ylim(nolabels-0.5, -0.5)\n",
    "    for i in range(nolabels):\n",
    "        for j in range(nolabels):\n",
    "            ax.text(j, i, cm[i, j], ha='center', va='center', color='white')\n",
    "    plt.show()"
   ]
  },
  {
   "cell_type": "code",
   "execution_count": 21,
   "id": "b9efb412-1176-4b21-b518-5406cf2347c3",
   "metadata": {},
   "outputs": [
    {
     "data": {
      "image/png": "[encoded data removed]",
      "text/plain": [
       "<Figure size 720x720 with 1 Axes>"
      ]
     },
     "metadata": {},
     "output_type": "display_data"
    }
   ],
   "source": [
    "visualizeCM(confusion_matrix(y_test, y_pred), 10)"
   ]
  },
  {
   "cell_type": "markdown",
   "id": "afa09152-bc90-4447-bdf7-920f8b3924c6",
   "metadata": {},
   "source": [
    "# K-Nearest Neighbor\n"
   ]
  },
  {
   "cell_type": "code",
   "execution_count": 25,
   "id": "68fa1a0d-2a78-4f41-998d-db950018a843",
   "metadata": {},
   "outputs": [
    {
     "data": {
      "text/html": [
       "<div>\n",
       "<style scoped>\n",
       "    .dataframe tbody tr th:only-of-type {\n",
       "        vertical-align: middle;\n",
       "    }\n",
       "\n",
       "    .dataframe tbody tr th {\n",
       "        vertical-align: top;\n",
       "    }\n",
       "\n",
       "    .dataframe thead th {\n",
       "        text-align: right;\n",
       "    }\n",
       "</style>\n",
       "<table border=\"1\" class=\"dataframe\">\n",
       "  <thead>\n",
       "    <tr style=\"text-align: right;\">\n",
       "      <th></th>\n",
       "      <th>weather</th>\n",
       "      <th>temperature</th>\n",
       "      <th>play</th>\n",
       "    </tr>\n",
       "  </thead>\n",
       "  <tbody>\n",
       "    <tr>\n",
       "      <th>0</th>\n",
       "      <td>Sunny</td>\n",
       "      <td>Hot</td>\n",
       "      <td>No</td>\n",
       "    </tr>\n",
       "    <tr>\n",
       "      <th>1</th>\n",
       "      <td>Sunny</td>\n",
       "      <td>Hot</td>\n",
       "      <td>No</td>\n",
       "    </tr>\n",
       "    <tr>\n",
       "      <th>2</th>\n",
       "      <td>Overcast</td>\n",
       "      <td>Hot</td>\n",
       "      <td>Yes</td>\n",
       "    </tr>\n",
       "    <tr>\n",
       "      <th>3</th>\n",
       "      <td>Rainy</td>\n",
       "      <td>Mild</td>\n",
       "      <td>Yes</td>\n",
       "    </tr>\n",
       "    <tr>\n",
       "      <th>4</th>\n",
       "      <td>Rainy</td>\n",
       "      <td>Cool</td>\n",
       "      <td>Yes</td>\n",
       "    </tr>\n",
       "    <tr>\n",
       "      <th>5</th>\n",
       "      <td>Rainy</td>\n",
       "      <td>Cool</td>\n",
       "      <td>No</td>\n",
       "    </tr>\n",
       "    <tr>\n",
       "      <th>6</th>\n",
       "      <td>Overcast</td>\n",
       "      <td>Cool</td>\n",
       "      <td>Yes</td>\n",
       "    </tr>\n",
       "    <tr>\n",
       "      <th>7</th>\n",
       "      <td>Sunny</td>\n",
       "      <td>Mild</td>\n",
       "      <td>No</td>\n",
       "    </tr>\n",
       "    <tr>\n",
       "      <th>8</th>\n",
       "      <td>Sunny</td>\n",
       "      <td>Cool</td>\n",
       "      <td>Yes</td>\n",
       "    </tr>\n",
       "    <tr>\n",
       "      <th>9</th>\n",
       "      <td>Rainy</td>\n",
       "      <td>Mild</td>\n",
       "      <td>Yes</td>\n",
       "    </tr>\n",
       "    <tr>\n",
       "      <th>10</th>\n",
       "      <td>Sunny</td>\n",
       "      <td>Mild</td>\n",
       "      <td>Yes</td>\n",
       "    </tr>\n",
       "    <tr>\n",
       "      <th>11</th>\n",
       "      <td>Overcast</td>\n",
       "      <td>Mild</td>\n",
       "      <td>Yes</td>\n",
       "    </tr>\n",
       "    <tr>\n",
       "      <th>12</th>\n",
       "      <td>Overcast</td>\n",
       "      <td>Hot</td>\n",
       "      <td>Yes</td>\n",
       "    </tr>\n",
       "    <tr>\n",
       "      <th>13</th>\n",
       "      <td>Rainy</td>\n",
       "      <td>Mild</td>\n",
       "      <td>No</td>\n",
       "    </tr>\n",
       "  </tbody>\n",
       "</table>\n",
       "</div>"
      ],
      "text/plain": [
       "     weather temperature play\n",
       "0      Sunny         Hot   No\n",
       "1      Sunny         Hot   No\n",
       "2   Overcast         Hot  Yes\n",
       "3      Rainy        Mild  Yes\n",
       "4      Rainy        Cool  Yes\n",
       "5      Rainy        Cool   No\n",
       "6   Overcast        Cool  Yes\n",
       "7      Sunny        Mild   No\n",
       "8      Sunny        Cool  Yes\n",
       "9      Rainy        Mild  Yes\n",
       "10     Sunny        Mild  Yes\n",
       "11  Overcast        Mild  Yes\n",
       "12  Overcast         Hot  Yes\n",
       "13     Rainy        Mild   No"
      ]
     },
     "execution_count": 25,
     "metadata": {},
     "output_type": "execute_result"
    }
   ],
   "source": [
    "# siapkan data\n",
    "# First Feature\n",
    "weather=['Sunny','Sunny','Overcast','Rainy','Rainy','Rainy','Overcast','Sunny','Sunny',\n",
    "'Rainy','Sunny','Overcast','Overcast','Rainy']\n",
    "\n",
    "# Second Feature\n",
    "temp=['Hot','Hot','Hot','Mild','Cool','Cool','Cool','Mild','Cool','Mild','Mild','Mild','Hot','Mild']\n",
    "\n",
    "# Label or target varible\n",
    "play=['No','No','Yes','Yes','Yes','No','Yes','No','Yes','Yes','Yes','Yes','Yes','No']\n",
    "\n",
    "df = pd.DataFrame({\"weather\":weather, \"temperature\":temp, \"play\":play})\n",
    "df"
   ]
  },
  {
   "cell_type": "code",
   "execution_count": 30,
   "id": "708345c4-164a-48a1-adfe-3cb55c40d52f",
   "metadata": {},
   "outputs": [
    {
     "name": "stdout",
     "output_type": "stream",
     "text": [
      "Class untuk weather: ['Overcast' 'Rainy' 'Sunny']\n",
      "Class untuk temperature: ['Cool' 'Hot' 'Mild']\n",
      "Class untuk play: ['No' 'Yes']\n"
     ]
    },
    {
     "data": {
      "text/html": [
       "<div>\n",
       "<style scoped>\n",
       "    .dataframe tbody tr th:only-of-type {\n",
       "        vertical-align: middle;\n",
       "    }\n",
       "\n",
       "    .dataframe tbody tr th {\n",
       "        vertical-align: top;\n",
       "    }\n",
       "\n",
       "    .dataframe thead th {\n",
       "        text-align: right;\n",
       "    }\n",
       "</style>\n",
       "<table border=\"1\" class=\"dataframe\">\n",
       "  <thead>\n",
       "    <tr style=\"text-align: right;\">\n",
       "      <th></th>\n",
       "      <th>weather</th>\n",
       "      <th>temperature</th>\n",
       "      <th>play</th>\n",
       "      <th>weather_en</th>\n",
       "      <th>temp_en</th>\n",
       "      <th>play_en</th>\n",
       "    </tr>\n",
       "  </thead>\n",
       "  <tbody>\n",
       "    <tr>\n",
       "      <th>0</th>\n",
       "      <td>Sunny</td>\n",
       "      <td>Hot</td>\n",
       "      <td>No</td>\n",
       "      <td>2</td>\n",
       "      <td>1</td>\n",
       "      <td>0</td>\n",
       "    </tr>\n",
       "    <tr>\n",
       "      <th>1</th>\n",
       "      <td>Sunny</td>\n",
       "      <td>Hot</td>\n",
       "      <td>No</td>\n",
       "      <td>2</td>\n",
       "      <td>1</td>\n",
       "      <td>0</td>\n",
       "    </tr>\n",
       "    <tr>\n",
       "      <th>2</th>\n",
       "      <td>Overcast</td>\n",
       "      <td>Hot</td>\n",
       "      <td>Yes</td>\n",
       "      <td>0</td>\n",
       "      <td>1</td>\n",
       "      <td>1</td>\n",
       "    </tr>\n",
       "    <tr>\n",
       "      <th>3</th>\n",
       "      <td>Rainy</td>\n",
       "      <td>Mild</td>\n",
       "      <td>Yes</td>\n",
       "      <td>1</td>\n",
       "      <td>2</td>\n",
       "      <td>1</td>\n",
       "    </tr>\n",
       "    <tr>\n",
       "      <th>4</th>\n",
       "      <td>Rainy</td>\n",
       "      <td>Cool</td>\n",
       "      <td>Yes</td>\n",
       "      <td>1</td>\n",
       "      <td>0</td>\n",
       "      <td>1</td>\n",
       "    </tr>\n",
       "    <tr>\n",
       "      <th>5</th>\n",
       "      <td>Rainy</td>\n",
       "      <td>Cool</td>\n",
       "      <td>No</td>\n",
       "      <td>1</td>\n",
       "      <td>0</td>\n",
       "      <td>0</td>\n",
       "    </tr>\n",
       "    <tr>\n",
       "      <th>6</th>\n",
       "      <td>Overcast</td>\n",
       "      <td>Cool</td>\n",
       "      <td>Yes</td>\n",
       "      <td>0</td>\n",
       "      <td>0</td>\n",
       "      <td>1</td>\n",
       "    </tr>\n",
       "    <tr>\n",
       "      <th>7</th>\n",
       "      <td>Sunny</td>\n",
       "      <td>Mild</td>\n",
       "      <td>No</td>\n",
       "      <td>2</td>\n",
       "      <td>2</td>\n",
       "      <td>0</td>\n",
       "    </tr>\n",
       "    <tr>\n",
       "      <th>8</th>\n",
       "      <td>Sunny</td>\n",
       "      <td>Cool</td>\n",
       "      <td>Yes</td>\n",
       "      <td>2</td>\n",
       "      <td>0</td>\n",
       "      <td>1</td>\n",
       "    </tr>\n",
       "    <tr>\n",
       "      <th>9</th>\n",
       "      <td>Rainy</td>\n",
       "      <td>Mild</td>\n",
       "      <td>Yes</td>\n",
       "      <td>1</td>\n",
       "      <td>2</td>\n",
       "      <td>1</td>\n",
       "    </tr>\n",
       "    <tr>\n",
       "      <th>10</th>\n",
       "      <td>Sunny</td>\n",
       "      <td>Mild</td>\n",
       "      <td>Yes</td>\n",
       "      <td>2</td>\n",
       "      <td>2</td>\n",
       "      <td>1</td>\n",
       "    </tr>\n",
       "    <tr>\n",
       "      <th>11</th>\n",
       "      <td>Overcast</td>\n",
       "      <td>Mild</td>\n",
       "      <td>Yes</td>\n",
       "      <td>0</td>\n",
       "      <td>2</td>\n",
       "      <td>1</td>\n",
       "    </tr>\n",
       "    <tr>\n",
       "      <th>12</th>\n",
       "      <td>Overcast</td>\n",
       "      <td>Hot</td>\n",
       "      <td>Yes</td>\n",
       "      <td>0</td>\n",
       "      <td>1</td>\n",
       "      <td>1</td>\n",
       "    </tr>\n",
       "    <tr>\n",
       "      <th>13</th>\n",
       "      <td>Rainy</td>\n",
       "      <td>Mild</td>\n",
       "      <td>No</td>\n",
       "      <td>1</td>\n",
       "      <td>2</td>\n",
       "      <td>0</td>\n",
       "    </tr>\n",
       "  </tbody>\n",
       "</table>\n",
       "</div>"
      ],
      "text/plain": [
       "     weather temperature play  weather_en  temp_en  play_en\n",
       "0      Sunny         Hot   No           2        1        0\n",
       "1      Sunny         Hot   No           2        1        0\n",
       "2   Overcast         Hot  Yes           0        1        1\n",
       "3      Rainy        Mild  Yes           1        2        1\n",
       "4      Rainy        Cool  Yes           1        0        1\n",
       "5      Rainy        Cool   No           1        0        0\n",
       "6   Overcast        Cool  Yes           0        0        1\n",
       "7      Sunny        Mild   No           2        2        0\n",
       "8      Sunny        Cool  Yes           2        0        1\n",
       "9      Rainy        Mild  Yes           1        2        1\n",
       "10     Sunny        Mild  Yes           2        2        1\n",
       "11  Overcast        Mild  Yes           0        2        1\n",
       "12  Overcast         Hot  Yes           0        1        1\n",
       "13     Rainy        Mild   No           1        2        0"
      ]
     },
     "metadata": {},
     "output_type": "display_data"
    }
   ],
   "source": [
    "# data preparation\n",
    "# missing value, invalid value, tipe data, \n",
    "# encoding, scaling, split jadi training dan testing data\n",
    "\n",
    "# encoding, mengubah data tipe string jadi angka\n",
    "encoder = LabelEncoder()\n",
    "\n",
    "df[\"weather_en\"] = encoder.fit_transform(df[\"weather\"])\n",
    "print(\"Class untuk weather:\", encoder.classes_)\n",
    "\n",
    "df[\"temp_en\"] = encoder.fit_transform(df[\"temperature\"])\n",
    "print(\"Class untuk temperature:\", encoder.classes_)\n",
    "\n",
    "df[\"play_en\"] = encoder.fit_transform(df[\"play\"])\n",
    "print(\"Class untuk play:\", encoder.classes_)\n",
    "\n",
    "display(df)"
   ]
  },
  {
   "cell_type": "code",
   "execution_count": 32,
   "id": "c57b714b-04ae-4ca7-adf0-47101f8cdf40",
   "metadata": {},
   "outputs": [],
   "source": [
    "features = df[[\"weather_en\", \"temp_en\"]]\n",
    "target = df[\"play_en\"]"
   ]
  },
  {
   "cell_type": "code",
   "execution_count": 33,
   "id": "e6ad623e-42ce-4d0c-b8d6-0eb692355bc3",
   "metadata": {},
   "outputs": [],
   "source": [
    "# membuat dan melatih model\n",
    "model = KNeighborsClassifier().fit(features, target)"
   ]
  },
  {
   "cell_type": "code",
   "execution_count": 34,
   "id": "2f9feef1-f6a1-4f6f-a672-84a66c70f4f6",
   "metadata": {},
   "outputs": [
    {
     "name": "stdout",
     "output_type": "stream",
     "text": [
      "              precision    recall  f1-score   support\n",
      "\n",
      "           0       0.60      0.60      0.60         5\n",
      "           1       0.78      0.78      0.78         9\n",
      "\n",
      "    accuracy                           0.71        14\n",
      "   macro avg       0.69      0.69      0.69        14\n",
      "weighted avg       0.71      0.71      0.71        14\n",
      "\n"
     ]
    },
    {
     "data": {
      "image/png": "[encoded data removed]",
      "text/plain": [
       "<Figure size 144x144 with 1 Axes>"
      ]
     },
     "metadata": {},
     "output_type": "display_data"
    }
   ],
   "source": [
    "# evaluasi\n",
    "y_pred = model.predict(features)\n",
    "print(classification_report(target, y_pred))\n",
    "\n",
    "visualizeCM(confusion_matrix(target, y_pred), 2)"
   ]
  },
  {
   "cell_type": "code",
   "execution_count": 42,
   "id": "4e12a034-75e7-45f5-8a35-7fb9b1ca4cb1",
   "metadata": {},
   "outputs": [
    {
     "name": "stdout",
     "output_type": "stream",
     "text": [
      "KNN dengan 1 neighbor\n",
      "              precision    recall  f1-score   support\n",
      "\n",
      "           0       0.75      0.60      0.67         5\n",
      "           1       0.80      0.89      0.84         9\n",
      "\n",
      "    accuracy                           0.79        14\n",
      "   macro avg       0.78      0.74      0.75        14\n",
      "weighted avg       0.78      0.79      0.78        14\n",
      "\n"
     ]
    },
    {
     "data": {
      "image/png": "[encoded data removed]",
      "text/plain": [
       "<Figure size 144x144 with 1 Axes>"
      ]
     },
     "metadata": {},
     "output_type": "display_data"
    }
   ],
   "source": [
    "# KNN kita bisa pilih jumlah neighbor\n",
    "n=1\n",
    "print(\"KNN dengan\", n, \"neighbor\")\n",
    "model = KNeighborsClassifier(n_neighbors = n).fit(features, target)\n",
    "\n",
    "y_pred = model.predict(features)\n",
    "print(classification_report(target, y_pred))\n",
    "visualizeCM(confusion_matrix(target, y_pred), 2)"
   ]
  },
  {
   "cell_type": "code",
   "execution_count": 49,
   "id": "f0934a5c-a8cf-469f-b3ac-c85e269d6216",
   "metadata": {},
   "outputs": [],
   "source": [
    "# jadi jumlah neighbor biar paling akurat carinya gmn?\n",
    "# kita bisa bikin plot untuk setiap jumlah neighbor, akurasi modelnya berapa\n",
    "def knnTable(maxK, features, target):\n",
    "    list_skor = []\n",
    "    for n in range(1, maxK):\n",
    "        model = KNeighborsClassifier(n_neighbors = n).fit(features, target)\n",
    "        skor = model.score(features, target)\n",
    "\n",
    "        # print(\"KNN dengan\", n, \"neighbor skornya:\", skor)\n",
    "        list_skor.append(skor)\n",
    "\n",
    "    plt.plot(range(1,maxK), list_skor, marker=\"o\")\n",
    "    plt.xlabel(\"K jumlah neighbor\")\n",
    "    plt.ylabel(\"Accuracy Score\")\n",
    "    plt.title(\"KNN score vs K table\")"
   ]
  },
  {
   "cell_type": "code",
   "execution_count": 51,
   "id": "3d03663f-a583-422c-94e9-6812c1016a1e",
   "metadata": {},
   "outputs": [
    {
     "data": {
      "image/png": "[encoded data removed]",
      "text/plain": [
       "<Figure size 432x288 with 1 Axes>"
      ]
     },
     "metadata": {},
     "output_type": "display_data"
    }
   ],
   "source": [
    "knnTable(13, features, target)"
   ]
  },
  {
   "cell_type": "markdown",
   "id": "6cc061d0-22c7-4926-a469-e77705161fd5",
   "metadata": {},
   "source": [
    "# KNN dengan data_wine"
   ]
  },
  {
   "cell_type": "code",
   "execution_count": 54,
   "id": "321a996b-f73d-4e95-83e4-2fd51de32a3e",
   "metadata": {},
   "outputs": [],
   "source": [
    "# siapin data\n",
    "wine = load_wine()\n",
    "df_wine = pd.DataFrame(data=wine.data, columns=wine.feature_names)\n",
    "df_wine[\"label\"] = wine.target"
   ]
  },
  {
   "cell_type": "code",
   "execution_count": 58,
   "id": "615f7231-b8f5-4375-8d90-2afb2d9a9987",
   "metadata": {},
   "outputs": [
    {
     "name": "stdout",
     "output_type": "stream",
     "text": [
      ".. _wine_dataset:\n",
      "\n",
      "Wine recognition dataset\n",
      "------------------------\n",
      "\n",
      "**Data Set Characteristics:**\n",
      "\n",
      "    :Number of Instances: 178 (50 in each of three classes)\n",
      "    :Number of Attributes: 13 numeric, predictive attributes and the class\n",
      "    :Attribute Information:\n",
      " \t\t- Alcohol\n",
      " \t\t- Malic acid\n",
      " \t\t- Ash\n",
      "\t\t- Alcalinity of ash  \n",
      " \t\t- Magnesium\n",
      "\t\t- Total phenols\n",
      " \t\t- Flavanoids\n",
      " \t\t- Nonflavanoid phenols\n",
      " \t\t- Proanthocyanins\n",
      "\t\t- Color intensity\n",
      " \t\t- Hue\n",
      " \t\t- OD280/OD315 of diluted wines\n",
      " \t\t- Proline\n",
      "\n",
      "    - class:\n",
      "            - class_0\n",
      "            - class_1\n",
      "            - class_2\n",
      "\t\t\n",
      "    :Summary Statistics:\n",
      "    \n",
      "    ============================= ==== ===== ======= =====\n",
      "                                   Min   Max   Mean     SD\n",
      "    ============================= ==== ===== ======= =====\n",
      "    Alcohol:                      11.0  14.8    13.0   0.8\n",
      "    Malic Acid:                   0.74  5.80    2.34  1.12\n",
      "    Ash:                          1.36  3.23    2.36  0.27\n",
      "    Alcalinity of Ash:            10.6  30.0    19.5   3.3\n",
      "    Magnesium:                    70.0 162.0    99.7  14.3\n",
      "    Total Phenols:                0.98  3.88    2.29  0.63\n",
      "    Flavanoids:                   0.34  5.08    2.03  1.00\n",
      "    Nonflavanoid Phenols:         0.13  0.66    0.36  0.12\n",
      "    Proanthocyanins:              0.41  3.58    1.59  0.57\n",
      "    Colour Intensity:              1.3  13.0     5.1   2.3\n",
      "    Hue:                          0.48  1.71    0.96  0.23\n",
      "    OD280/OD315 of diluted wines: 1.27  4.00    2.61  0.71\n",
      "    Proline:                       278  1680     746   315\n",
      "    ============================= ==== ===== ======= =====\n",
      "\n",
      "    :Missing Attribute Values: None\n",
      "    :Class Distribution: class_0 (59), class_1 (71), class_2 (48)\n",
      "    :Creator: R.A. Fisher\n",
      "    :Donor: Michael Marshall (MARSHALL%PLU@io.arc.nasa.gov)\n",
      "    :Date: July, 1988\n",
      "\n",
      "This is a copy of UCI ML Wine recognition datasets.\n",
      "https://archive.ics.uci.edu/ml/machine-learning-databases/wine/wine.data\n",
      "\n",
      "The data is the results of a chemical analysis of wines grown in the same\n",
      "region in Italy by three different cultivators. There are thirteen different\n",
      "measurements taken for different constituents found in the three types of\n",
      "wine.\n",
      "\n",
      "Original Owners: \n",
      "\n",
      "Forina, M. et al, PARVUS - \n",
      "An Extendible Package for Data Exploration, Classification and Correlation. \n",
      "Institute of Pharmaceutical and Food Analysis and Technologies,\n",
      "Via Brigata Salerno, 16147 Genoa, Italy.\n",
      "\n",
      "Citation:\n",
      "\n",
      "Lichman, M. (2013). UCI Machine Learning Repository\n",
      "[https://archive.ics.uci.edu/ml]. Irvine, CA: University of California,\n",
      "School of Information and Computer Science. \n",
      "\n",
      ".. topic:: References\n",
      "\n",
      "  (1) S. Aeberhard, D. Coomans and O. de Vel, \n",
      "  Comparison of Classifiers in High Dimensional Settings, \n",
      "  Tech. Rep. no. 92-02, (1992), Dept. of Computer Science and Dept. of  \n",
      "  Mathematics and Statistics, James Cook University of North Queensland. \n",
      "  (Also submitted to Technometrics). \n",
      "\n",
      "  The data was used with many others for comparing various \n",
      "  classifiers. The classes are separable, though only RDA \n",
      "  has achieved 100% correct classification. \n",
      "  (RDA : 100%, QDA 99.4%, LDA 98.9%, 1NN 96.1% (z-transformed data)) \n",
      "  (All results using the leave-one-out technique) \n",
      "\n",
      "  (2) S. Aeberhard, D. Coomans and O. de Vel, \n",
      "  \"THE CLASSIFICATION PERFORMANCE OF RDA\" \n",
      "  Tech. Rep. no. 92-01, (1992), Dept. of Computer Science and Dept. of \n",
      "  Mathematics and Statistics, James Cook University of North Queensland. \n",
      "  (Also submitted to Journal of Chemometrics).\n",
      "\n"
     ]
    }
   ],
   "source": [
    "print(wine.DESCR)"
   ]
  },
  {
   "cell_type": "code",
   "execution_count": 55,
   "id": "319fcc41-af29-47d2-a278-a4980d346936",
   "metadata": {},
   "outputs": [
    {
     "data": {
      "text/html": [
       "<div>\n",
       "<style scoped>\n",
       "    .dataframe tbody tr th:only-of-type {\n",
       "        vertical-align: middle;\n",
       "    }\n",
       "\n",
       "    .dataframe tbody tr th {\n",
       "        vertical-align: top;\n",
       "    }\n",
       "\n",
       "    .dataframe thead th {\n",
       "        text-align: right;\n",
       "    }\n",
       "</style>\n",
       "<table border=\"1\" class=\"dataframe\">\n",
       "  <thead>\n",
       "    <tr style=\"text-align: right;\">\n",
       "      <th></th>\n",
       "      <th>alcohol</th>\n",
       "      <th>malic_acid</th>\n",
       "      <th>ash</th>\n",
       "      <th>alcalinity_of_ash</th>\n",
       "      <th>magnesium</th>\n",
       "      <th>total_phenols</th>\n",
       "      <th>flavanoids</th>\n",
       "      <th>nonflavanoid_phenols</th>\n",
       "      <th>proanthocyanins</th>\n",
       "      <th>color_intensity</th>\n",
       "      <th>hue</th>\n",
       "      <th>od280/od315_of_diluted_wines</th>\n",
       "      <th>proline</th>\n",
       "      <th>label</th>\n",
       "    </tr>\n",
       "  </thead>\n",
       "  <tbody>\n",
       "    <tr>\n",
       "      <th>0</th>\n",
       "      <td>14.23</td>\n",
       "      <td>1.71</td>\n",
       "      <td>2.43</td>\n",
       "      <td>15.6</td>\n",
       "      <td>127.0</td>\n",
       "      <td>2.80</td>\n",
       "      <td>3.06</td>\n",
       "      <td>0.28</td>\n",
       "      <td>2.29</td>\n",
       "      <td>5.64</td>\n",
       "      <td>1.04</td>\n",
       "      <td>3.92</td>\n",
       "      <td>1065.0</td>\n",
       "      <td>0</td>\n",
       "    </tr>\n",
       "    <tr>\n",
       "      <th>1</th>\n",
       "      <td>13.20</td>\n",
       "      <td>1.78</td>\n",
       "      <td>2.14</td>\n",
       "      <td>11.2</td>\n",
       "      <td>100.0</td>\n",
       "      <td>2.65</td>\n",
       "      <td>2.76</td>\n",
       "      <td>0.26</td>\n",
       "      <td>1.28</td>\n",
       "      <td>4.38</td>\n",
       "      <td>1.05</td>\n",
       "      <td>3.40</td>\n",
       "      <td>1050.0</td>\n",
       "      <td>0</td>\n",
       "    </tr>\n",
       "    <tr>\n",
       "      <th>2</th>\n",
       "      <td>13.16</td>\n",
       "      <td>2.36</td>\n",
       "      <td>2.67</td>\n",
       "      <td>18.6</td>\n",
       "      <td>101.0</td>\n",
       "      <td>2.80</td>\n",
       "      <td>3.24</td>\n",
       "      <td>0.30</td>\n",
       "      <td>2.81</td>\n",
       "      <td>5.68</td>\n",
       "      <td>1.03</td>\n",
       "      <td>3.17</td>\n",
       "      <td>1185.0</td>\n",
       "      <td>0</td>\n",
       "    </tr>\n",
       "    <tr>\n",
       "      <th>3</th>\n",
       "      <td>14.37</td>\n",
       "      <td>1.95</td>\n",
       "      <td>2.50</td>\n",
       "      <td>16.8</td>\n",
       "      <td>113.0</td>\n",
       "      <td>3.85</td>\n",
       "      <td>3.49</td>\n",
       "      <td>0.24</td>\n",
       "      <td>2.18</td>\n",
       "      <td>7.80</td>\n",
       "      <td>0.86</td>\n",
       "      <td>3.45</td>\n",
       "      <td>1480.0</td>\n",
       "      <td>0</td>\n",
       "    </tr>\n",
       "    <tr>\n",
       "      <th>4</th>\n",
       "      <td>13.24</td>\n",
       "      <td>2.59</td>\n",
       "      <td>2.87</td>\n",
       "      <td>21.0</td>\n",
       "      <td>118.0</td>\n",
       "      <td>2.80</td>\n",
       "      <td>2.69</td>\n",
       "      <td>0.39</td>\n",
       "      <td>1.82</td>\n",
       "      <td>4.32</td>\n",
       "      <td>1.04</td>\n",
       "      <td>2.93</td>\n",
       "      <td>735.0</td>\n",
       "      <td>0</td>\n",
       "    </tr>\n",
       "    <tr>\n",
       "      <th>...</th>\n",
       "      <td>...</td>\n",
       "      <td>...</td>\n",
       "      <td>...</td>\n",
       "      <td>...</td>\n",
       "      <td>...</td>\n",
       "      <td>...</td>\n",
       "      <td>...</td>\n",
       "      <td>...</td>\n",
       "      <td>...</td>\n",
       "      <td>...</td>\n",
       "      <td>...</td>\n",
       "      <td>...</td>\n",
       "      <td>...</td>\n",
       "      <td>...</td>\n",
       "    </tr>\n",
       "    <tr>\n",
       "      <th>173</th>\n",
       "      <td>13.71</td>\n",
       "      <td>5.65</td>\n",
       "      <td>2.45</td>\n",
       "      <td>20.5</td>\n",
       "      <td>95.0</td>\n",
       "      <td>1.68</td>\n",
       "      <td>0.61</td>\n",
       "      <td>0.52</td>\n",
       "      <td>1.06</td>\n",
       "      <td>7.70</td>\n",
       "      <td>0.64</td>\n",
       "      <td>1.74</td>\n",
       "      <td>740.0</td>\n",
       "      <td>2</td>\n",
       "    </tr>\n",
       "    <tr>\n",
       "      <th>174</th>\n",
       "      <td>13.40</td>\n",
       "      <td>3.91</td>\n",
       "      <td>2.48</td>\n",
       "      <td>23.0</td>\n",
       "      <td>102.0</td>\n",
       "      <td>1.80</td>\n",
       "      <td>0.75</td>\n",
       "      <td>0.43</td>\n",
       "      <td>1.41</td>\n",
       "      <td>7.30</td>\n",
       "      <td>0.70</td>\n",
       "      <td>1.56</td>\n",
       "      <td>750.0</td>\n",
       "      <td>2</td>\n",
       "    </tr>\n",
       "    <tr>\n",
       "      <th>175</th>\n",
       "      <td>13.27</td>\n",
       "      <td>4.28</td>\n",
       "      <td>2.26</td>\n",
       "      <td>20.0</td>\n",
       "      <td>120.0</td>\n",
       "      <td>1.59</td>\n",
       "      <td>0.69</td>\n",
       "      <td>0.43</td>\n",
       "      <td>1.35</td>\n",
       "      <td>10.20</td>\n",
       "      <td>0.59</td>\n",
       "      <td>1.56</td>\n",
       "      <td>835.0</td>\n",
       "      <td>2</td>\n",
       "    </tr>\n",
       "    <tr>\n",
       "      <th>176</th>\n",
       "      <td>13.17</td>\n",
       "      <td>2.59</td>\n",
       "      <td>2.37</td>\n",
       "      <td>20.0</td>\n",
       "      <td>120.0</td>\n",
       "      <td>1.65</td>\n",
       "      <td>0.68</td>\n",
       "      <td>0.53</td>\n",
       "      <td>1.46</td>\n",
       "      <td>9.30</td>\n",
       "      <td>0.60</td>\n",
       "      <td>1.62</td>\n",
       "      <td>840.0</td>\n",
       "      <td>2</td>\n",
       "    </tr>\n",
       "    <tr>\n",
       "      <th>177</th>\n",
       "      <td>14.13</td>\n",
       "      <td>4.10</td>\n",
       "      <td>2.74</td>\n",
       "      <td>24.5</td>\n",
       "      <td>96.0</td>\n",
       "      <td>2.05</td>\n",
       "      <td>0.76</td>\n",
       "      <td>0.56</td>\n",
       "      <td>1.35</td>\n",
       "      <td>9.20</td>\n",
       "      <td>0.61</td>\n",
       "      <td>1.60</td>\n",
       "      <td>560.0</td>\n",
       "      <td>2</td>\n",
       "    </tr>\n",
       "  </tbody>\n",
       "</table>\n",
       "<p>178 rows × 14 columns</p>\n",
       "</div>"
      ],
      "text/plain": [
       "     alcohol  malic_acid   ash  alcalinity_of_ash  magnesium  total_phenols  \\\n",
       "0      14.23        1.71  2.43               15.6      127.0           2.80   \n",
       "1      13.20        1.78  2.14               11.2      100.0           2.65   \n",
       "2      13.16        2.36  2.67               18.6      101.0           2.80   \n",
       "3      14.37        1.95  2.50               16.8      113.0           3.85   \n",
       "4      13.24        2.59  2.87               21.0      118.0           2.80   \n",
       "..       ...         ...   ...                ...        ...            ...   \n",
       "173    13.71        5.65  2.45               20.5       95.0           1.68   \n",
       "174    13.40        3.91  2.48               23.0      102.0           1.80   \n",
       "175    13.27        4.28  2.26               20.0      120.0           1.59   \n",
       "176    13.17        2.59  2.37               20.0      120.0           1.65   \n",
       "177    14.13        4.10  2.74               24.5       96.0           2.05   \n",
       "\n",
       "     flavanoids  nonflavanoid_phenols  proanthocyanins  color_intensity   hue  \\\n",
       "0          3.06                  0.28             2.29             5.64  1.04   \n",
       "1          2.76                  0.26             1.28             4.38  1.05   \n",
       "2          3.24                  0.30             2.81             5.68  1.03   \n",
       "3          3.49                  0.24             2.18             7.80  0.86   \n",
       "4          2.69                  0.39             1.82             4.32  1.04   \n",
       "..          ...                   ...              ...              ...   ...   \n",
       "173        0.61                  0.52             1.06             7.70  0.64   \n",
       "174        0.75                  0.43             1.41             7.30  0.70   \n",
       "175        0.69                  0.43             1.35            10.20  0.59   \n",
       "176        0.68                  0.53             1.46             9.30  0.60   \n",
       "177        0.76                  0.56             1.35             9.20  0.61   \n",
       "\n",
       "     od280/od315_of_diluted_wines  proline  label  \n",
       "0                            3.92   1065.0      0  \n",
       "1                            3.40   1050.0      0  \n",
       "2                            3.17   1185.0      0  \n",
       "3                            3.45   1480.0      0  \n",
       "4                            2.93    735.0      0  \n",
       "..                            ...      ...    ...  \n",
       "173                          1.74    740.0      2  \n",
       "174                          1.56    750.0      2  \n",
       "175                          1.56    835.0      2  \n",
       "176                          1.62    840.0      2  \n",
       "177                          1.60    560.0      2  \n",
       "\n",
       "[178 rows x 14 columns]"
      ]
     },
     "execution_count": 55,
     "metadata": {},
     "output_type": "execute_result"
    }
   ],
   "source": [
    "df_wine"
   ]
  },
  {
   "cell_type": "code",
   "execution_count": 59,
   "id": "e327dcc9-881e-48d6-88b6-05d1d4d28283",
   "metadata": {},
   "outputs": [
    {
     "name": "stdout",
     "output_type": "stream",
     "text": [
      "<class 'pandas.core.frame.DataFrame'>\n",
      "RangeIndex: 178 entries, 0 to 177\n",
      "Data columns (total 14 columns):\n",
      " #   Column                        Non-Null Count  Dtype  \n",
      "---  ------                        --------------  -----  \n",
      " 0   alcohol                       178 non-null    float64\n",
      " 1   malic_acid                    178 non-null    float64\n",
      " 2   ash                           178 non-null    float64\n",
      " 3   alcalinity_of_ash             178 non-null    float64\n",
      " 4   magnesium                     178 non-null    float64\n",
      " 5   total_phenols                 178 non-null    float64\n",
      " 6   flavanoids                    178 non-null    float64\n",
      " 7   nonflavanoid_phenols          178 non-null    float64\n",
      " 8   proanthocyanins               178 non-null    float64\n",
      " 9   color_intensity               178 non-null    float64\n",
      " 10  hue                           178 non-null    float64\n",
      " 11  od280/od315_of_diluted_wines  178 non-null    float64\n",
      " 12  proline                       178 non-null    float64\n",
      " 13  label                         178 non-null    int32  \n",
      "dtypes: float64(13), int32(1)\n",
      "memory usage: 18.9 KB\n"
     ]
    }
   ],
   "source": [
    "df_wine.info()"
   ]
  },
  {
   "cell_type": "code",
   "execution_count": 60,
   "id": "8a9816d3-55b7-4b32-9b5d-fd9a86aa10e1",
   "metadata": {},
   "outputs": [
    {
     "name": "stdout",
     "output_type": "stream",
     "text": [
      "(142, 13) (36, 13)\n"
     ]
    }
   ],
   "source": [
    "# data preparation\n",
    "# missing value, invalid value, tipe data, \n",
    "# encoding, scaling, split jadi training dan testing data\n",
    "\n",
    "# split data jadi training dan testing dataset\n",
    "x_train, x_test, y_train, y_test = train_test_split(wine.data, wine.target, random_state=0, test_size=0.2)\n",
    "\n",
    "print(x_train.shape, x_test.shape)"
   ]
  },
  {
   "cell_type": "code",
   "execution_count": 64,
   "id": "a433f33b-0b44-43e8-bd1f-bc243ed13913",
   "metadata": {},
   "outputs": [],
   "source": [
    "def knnTableTrainTest(maxK, x_train, y_train, x_test, y_test):\n",
    "    list_skor = []\n",
    "    for n in range(1, maxK):\n",
    "        model = KNeighborsClassifier(n_neighbors = n).fit(x_train, y_train)\n",
    "        skor = model.score(x_test, y_test)\n",
    "\n",
    "        # print(\"KNN dengan\", n, \"neighbor skornya:\", skor)\n",
    "        list_skor.append(skor)\n",
    "\n",
    "    plt.plot(range(1,maxK), list_skor, marker=\"o\")\n",
    "    plt.xlabel(\"K jumlah neighbor\")\n",
    "    plt.ylabel(\"Accuracy Score\")\n",
    "    plt.title(\"KNN score vs K table\")"
   ]
  },
  {
   "cell_type": "code",
   "execution_count": 65,
   "id": "21a7cb2b-efd9-421e-8ef9-fcf4bb3291dd",
   "metadata": {},
   "outputs": [
    {
     "data": {
      "image/png": "[encoded data removed]",
      "text/plain": [
       "<Figure size 432x288 with 1 Axes>"
      ]
     },
     "metadata": {},
     "output_type": "display_data"
    }
   ],
   "source": [
    "# buat model\n",
    "# pilih jumlah K dulu\n",
    "knnTableTrainTest(35, x_train, y_train, x_test, y_test)"
   ]
  },
  {
   "cell_type": "code",
   "execution_count": 68,
   "id": "611a03fe-b271-4831-8b87-d53422653e87",
   "metadata": {},
   "outputs": [],
   "source": [
    "# buat dan latih model\n",
    "model = KNeighborsClassifier(n_neighbors=21).fit(x_train, y_train)"
   ]
  },
  {
   "cell_type": "code",
   "execution_count": 70,
   "id": "200f3b86-3d50-420a-95dd-1e88885a10c4",
   "metadata": {},
   "outputs": [
    {
     "name": "stdout",
     "output_type": "stream",
     "text": [
      "              precision    recall  f1-score   support\n",
      "\n",
      "           0       1.00      0.93      0.96        14\n",
      "           1       0.79      0.69      0.73        16\n",
      "           2       0.33      0.50      0.40         6\n",
      "\n",
      "    accuracy                           0.75        36\n",
      "   macro avg       0.71      0.71      0.70        36\n",
      "weighted avg       0.79      0.75      0.77        36\n",
      "\n"
     ]
    },
    {
     "data": {
      "image/png": "[encoded data removed]",
      "text/plain": [
       "<Figure size 216x216 with 1 Axes>"
      ]
     },
     "metadata": {},
     "output_type": "display_data"
    }
   ],
   "source": [
    "# evaluasi model\n",
    "y_pred = model.predict(x_test)\n",
    "\n",
    "print(classification_report(y_test, y_pred))\n",
    "\n",
    "visualizeCM(confusion_matrix(y_test, y_pred), 3)"
   ]
  },
  {
   "cell_type": "code",
   "execution_count": null,
   "id": "e8dc630a-66ad-4c3b-8e70-4c302d965754",
   "metadata": {},
   "outputs": [],
   "source": []
  }
 ],
 "metadata": {
  "kernelspec": {
   "display_name": "Python 3 (ipykernel)",
   "language": "python",
   "name": "python3"
  },
  "language_info": {
   "codemirror_mode": {
    "name": "ipython",
    "version": 3
   },
   "file_extension": ".py",
   "mimetype": "text/x-python",
   "name": "python",
   "nbconvert_exporter": "python",
   "pygments_lexer": "ipython3",
   "version": "3.9.7"
  }
 },
 "nbformat": 4,
 "nbformat_minor": 5
}
