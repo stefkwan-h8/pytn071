{
 "cells": [
  {
   "cell_type": "code",
   "execution_count": 2,
   "metadata": {},
   "outputs": [],
   "source": [
    "# function biasa\n",
    "def sapa(message):\n",
    "    return \"echo \" + str(message)"
   ]
  },
  {
   "cell_type": "code",
   "execution_count": 3,
   "metadata": {},
   "outputs": [
    {
     "data": {
      "text/plain": [
       "'echo andi'"
      ]
     },
     "execution_count": 3,
     "metadata": {},
     "output_type": "execute_result"
    }
   ],
   "source": [
    "sapa(\"andi\")"
   ]
  },
  {
   "cell_type": "code",
   "execution_count": 5,
   "metadata": {},
   "outputs": [],
   "source": [
    "# anonymous function\n",
    "sapa = lambda message: \"echo \" + str(message)"
   ]
  },
  {
   "cell_type": "code",
   "execution_count": 6,
   "metadata": {},
   "outputs": [
    {
     "data": {
      "text/plain": [
       "'echo budi'"
      ]
     },
     "execution_count": 6,
     "metadata": {},
     "output_type": "execute_result"
    }
   ],
   "source": [
    "sapa(\"budi\")"
   ]
  },
  {
   "cell_type": "code",
   "execution_count": 9,
   "metadata": {},
   "outputs": [],
   "source": [
    "# scope of variable\n",
    "# variable ada masa \"hidup\" nya, kapan bisa dipakai, kapan tidak bisa\n",
    "\n",
    "n_global = 100 # global variable bisa dipakai dimanapun\n",
    "\n",
    "# termasuk dalam function\n",
    "def sapa(message):\n",
    "    m_local = 57 # local variable milik function sapa\n",
    "    print(\"global variable:\", n_global)\n",
    "    print(\"local variable:\", m_local)\n",
    "    print(\"message nya:\", message)"
   ]
  },
  {
   "cell_type": "code",
   "execution_count": 10,
   "metadata": {},
   "outputs": [
    {
     "name": "stdout",
     "output_type": "stream",
     "text": [
      "global variable: 100\n",
      "local variable: 57\n",
      "message nya: hai\n"
     ]
    }
   ],
   "source": [
    "sapa(\"hai\")"
   ]
  },
  {
   "cell_type": "code",
   "execution_count": 11,
   "metadata": {},
   "outputs": [
    {
     "name": "stdout",
     "output_type": "stream",
     "text": [
      "global variable: 100\n"
     ]
    },
    {
     "ename": "NameError",
     "evalue": "name 'm_local' is not defined",
     "output_type": "error",
     "traceback": [
      "\u001b[1;31m---------------------------------------------------------------------------\u001b[0m",
      "\u001b[1;31mNameError\u001b[0m                                 Traceback (most recent call last)",
      "Input \u001b[1;32mIn [11]\u001b[0m, in \u001b[0;36m<module>\u001b[1;34m\u001b[0m\n\u001b[0;32m      1\u001b[0m \u001b[38;5;66;03m# skr kita di luar function sapa\u001b[39;00m\n\u001b[0;32m      2\u001b[0m \u001b[38;5;28mprint\u001b[39m(\u001b[38;5;124m\"\u001b[39m\u001b[38;5;124mglobal variable:\u001b[39m\u001b[38;5;124m\"\u001b[39m, n_global)\n\u001b[1;32m----> 3\u001b[0m \u001b[38;5;28mprint\u001b[39m(\u001b[38;5;124m\"\u001b[39m\u001b[38;5;124mlocal variable:\u001b[39m\u001b[38;5;124m\"\u001b[39m, \u001b[43mm_local\u001b[49m)\n\u001b[0;32m      4\u001b[0m \u001b[38;5;28mprint\u001b[39m(\u001b[38;5;124m\"\u001b[39m\u001b[38;5;124mmessage nya:\u001b[39m\u001b[38;5;124m\"\u001b[39m, message)\n",
      "\u001b[1;31mNameError\u001b[0m: name 'm_local' is not defined"
     ]
    }
   ],
   "source": [
    "# skr kita di luar function sapa\n",
    "print(\"global variable:\", n_global)\n",
    "print(\"local variable:\", m_local)"
   ]
  },
  {
   "cell_type": "code",
   "execution_count": 12,
   "metadata": {},
   "outputs": [
    {
     "ename": "NameError",
     "evalue": "name 'message' is not defined",
     "output_type": "error",
     "traceback": [
      "\u001b[1;31m---------------------------------------------------------------------------\u001b[0m",
      "\u001b[1;31mNameError\u001b[0m                                 Traceback (most recent call last)",
      "Input \u001b[1;32mIn [12]\u001b[0m, in \u001b[0;36m<module>\u001b[1;34m\u001b[0m\n\u001b[1;32m----> 1\u001b[0m \u001b[38;5;28mprint\u001b[39m(\u001b[38;5;124m\"\u001b[39m\u001b[38;5;124mmessage nya:\u001b[39m\u001b[38;5;124m\"\u001b[39m, \u001b[43mmessage\u001b[49m)\n",
      "\u001b[1;31mNameError\u001b[0m: name 'message' is not defined"
     ]
    }
   ],
   "source": [
    "print(\"message nya:\", message)"
   ]
  },
  {
   "cell_type": "code",
   "execution_count": 16,
   "metadata": {},
   "outputs": [
    {
     "name": "stdout",
     "output_type": "stream",
     "text": [
      "23\n",
      "510\n"
     ]
    }
   ],
   "source": [
    "n = 10\n",
    "a = 200\n",
    "b = 300\n",
    "\n",
    "def tambah(a, b):\n",
    "    n = 20\n",
    "    print(a + b + n) # akan memakai yang lebih dekat dulu\n",
    "    \n",
    "    \n",
    "tambah(1,2)\n",
    "\n",
    "print(a + b + n)"
   ]
  },
  {
   "cell_type": "code",
   "execution_count": null,
   "metadata": {},
   "outputs": [],
   "source": []
  }
 ],
 "metadata": {
  "kernelspec": {
   "display_name": "Python 3 (ipykernel)",
   "language": "python",
   "name": "python3"
  },
  "language_info": {
   "codemirror_mode": {
    "name": "ipython",
    "version": 3
   },
   "file_extension": ".py",
   "mimetype": "text/x-python",
   "name": "python",
   "nbconvert_exporter": "python",
   "pygments_lexer": "ipython3",
   "version": "3.8.5"
  }
 },
 "nbformat": 4,
 "nbformat_minor": 4
}
