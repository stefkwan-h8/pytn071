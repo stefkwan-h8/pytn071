{
 "cells": [
  {
   "cell_type": "markdown",
   "metadata": {},
   "source": [
    "# Function\n",
    "mengelompokkan kode dan diberi nama   \n",
    "\n",
    "rules penamaan function: gunakan camelCase (semua spasi dihilangkan, setiap kata dimulai dengan huruf besar, kata pertama dimulai huruf kecil.)   \n",
    "\n",
    "cek tiket pesawat = cekTiketPesawat"
   ]
  },
  {
   "cell_type": "code",
   "execution_count": 1,
   "metadata": {},
   "outputs": [],
   "source": [
    "# cara buat function `def` `namaFunction` `()`:\n",
    "def cekTiketPesawat():\n",
    "    umur = 20\n",
    "    saldo = 1000\n",
    "    harga = 200000\n",
    "\n",
    "    if (umur >= 17):\n",
    "        print(\"boleh beli tiket karena umur\", umur)\n",
    "        if (saldo >= harga):\n",
    "            print(\"bisa beli tiket karena saldo\", saldo, \"dan harga\", harga)\n",
    "        else:\n",
    "            print(\"saldo tidak cukup\")\n",
    "    else:\n",
    "        print(\"umur tidak cukup\")"
   ]
  },
  {
   "cell_type": "code",
   "execution_count": 2,
   "metadata": {},
   "outputs": [
    {
     "name": "stdout",
     "output_type": "stream",
     "text": [
      "boleh beli tiket karena umur 20\n",
      "saldo tidak cukup\n",
      "boleh beli tiket karena umur 20\n",
      "saldo tidak cukup\n",
      "boleh beli tiket karena umur 20\n",
      "saldo tidak cukup\n"
     ]
    }
   ],
   "source": [
    "# cara panggil function `namaFunction` `()`\n",
    "cekTiketPesawat()\n",
    "cekTiketPesawat()\n",
    "cekTiketPesawat()"
   ]
  },
  {
   "cell_type": "markdown",
   "metadata": {},
   "source": [
    "## argumen/ parameter\n",
    "variable spesial milik function, dibuatnya di dalam () function"
   ]
  },
  {
   "cell_type": "code",
   "execution_count": 3,
   "metadata": {},
   "outputs": [],
   "source": [
    "def cekTiketPesawat(umur, saldo, harga):\n",
    "    if (umur >= 17):\n",
    "        print(\"boleh beli tiket karena umur\", umur)\n",
    "        if (saldo >= harga):\n",
    "            print(\"bisa beli tiket karena saldo\", saldo, \"dan harga\", harga)\n",
    "        else:\n",
    "            print(\"saldo tidak cukup\")\n",
    "    else:\n",
    "        print(\"umur tidak cukup\")"
   ]
  },
  {
   "cell_type": "code",
   "execution_count": 4,
   "metadata": {},
   "outputs": [
    {
     "name": "stdout",
     "output_type": "stream",
     "text": [
      "boleh beli tiket karena umur 17\n",
      "bisa beli tiket karena saldo 25000 dan harga 10000\n",
      "boleh beli tiket karena umur 67\n",
      "bisa beli tiket karena saldo 250000 dan harga 200000\n",
      "umur tidak cukup\n"
     ]
    }
   ],
   "source": [
    "# sekarang kita bisa panggil function berkali kali tapi custom isi argumen setiap dipanggil\n",
    "cekTiketPesawat(17, 25000, 10000)\n",
    "cekTiketPesawat(67, 250000, 200000)\n",
    "cekTiketPesawat(12,1000000,125000)"
   ]
  },
  {
   "cell_type": "code",
   "execution_count": 5,
   "metadata": {},
   "outputs": [
    {
     "name": "stdout",
     "output_type": "stream",
     "text": [
      "boleh beli tiket karena umur 42\n",
      "bisa beli tiket karena saldo 1000000 dan harga 125000\n"
     ]
    }
   ],
   "source": [
    "cekTiketPesawat(42,1000000,125000)"
   ]
  },
  {
   "cell_type": "code",
   "execution_count": 6,
   "metadata": {},
   "outputs": [
    {
     "name": "stdout",
     "output_type": "stream",
     "text": [
      "boleh beli tiket karena umur 20\n",
      "bisa beli tiket karena saldo 125000 dan harga 25000\n",
      "---\n",
      "umur tidak cukup\n",
      "---\n",
      "boleh beli tiket karena umur 22\n",
      "bisa beli tiket karena saldo 175000 dan harga 75000\n",
      "---\n",
      "boleh beli tiket karena umur 23\n",
      "saldo tidak cukup\n",
      "---\n",
      "boleh beli tiket karena umur 24\n",
      "bisa beli tiket karena saldo 275000 dan harga 250000\n",
      "---\n"
     ]
    }
   ],
   "source": [
    "# contoh, menggunakan function ini untuk cek tiket pesawat 5 orang\n",
    "list_orang = [\n",
    "    {\"umur\": 20, \"saldo\":125000, \"harga\":25000},\n",
    "    {\"umur\": 11, \"saldo\":150000, \"harga\":50000},\n",
    "    {\"umur\": 22, \"saldo\":175000, \"harga\":75000},\n",
    "    {\"umur\": 23, \"saldo\":200000, \"harga\":250000},\n",
    "    {\"umur\": 24, \"saldo\":275000, \"harga\":250000},\n",
    "]\n",
    "\n",
    "# untuk setiap orang, kita mau cek tiket pesawatnya\n",
    "for org in list_orang:\n",
    "    cekTiketPesawat(org['umur'], org['saldo'], org['harga'])\n",
    "    print(\"---\")"
   ]
  },
  {
   "cell_type": "markdown",
   "metadata": {},
   "source": [
    "# Pass by Reference vs Pass by Value\n",
    "Pass by Reference: memberi nickname, nama tambahan ke objek yang sama   \n",
    "Pass by Value: membuat data/objek baru dengan value yang sama"
   ]
  },
  {
   "cell_type": "code",
   "execution_count": 7,
   "metadata": {},
   "outputs": [
    {
     "name": "stdout",
     "output_type": "stream",
     "text": [
      "apel\n"
     ]
    }
   ],
   "source": [
    "# contoh pass by value\n",
    "# untuk string, int, float, bool\n",
    "buah = \"apel\"\n",
    "\n",
    "buah_copy = buah\n",
    "\n",
    "# si buah_copy akan membuat string \"apel\" baru\n",
    "# kalau buah_copy berubah, buah tidak ikutan berubah\n",
    "\n",
    "buah_copy = \"mangga\"\n",
    "\n",
    "print(buah) # tetap \"apel\""
   ]
  },
  {
   "cell_type": "code",
   "execution_count": 8,
   "metadata": {},
   "outputs": [
    {
     "name": "stdout",
     "output_type": "stream",
     "text": [
      "['mangga']\n"
     ]
    }
   ],
   "source": [
    "# contoh pass by reference\n",
    "# khusus untuk tipe data terstruktur: dictionary, list, tuple\n",
    "list_buah = [\"apel\"]\n",
    "\n",
    "list_buah_copy = list_buah\n",
    "\n",
    "# si list_buah_copy hanya mereferensi list [\"apel\"] kita, tidak bikin yang baru\n",
    "# jadi kalau dia berubah, list_buah akan ikutan berubah juga\n",
    "\n",
    "list_buah_copy[0] = \"mangga\"\n",
    "\n",
    "print(list_buah)"
   ]
  },
  {
   "cell_type": "code",
   "execution_count": 9,
   "metadata": {},
   "outputs": [
    {
     "name": "stdout",
     "output_type": "stream",
     "text": [
      "['mangga', 'pisang']\n"
     ]
    }
   ],
   "source": [
    "list_buah.append(\"pisang\")\n",
    "\n",
    "print(list_buah_copy)"
   ]
  },
  {
   "cell_type": "code",
   "execution_count": 10,
   "metadata": {},
   "outputs": [
    {
     "name": "stdout",
     "output_type": "stream",
     "text": [
      "['mangga', 'pisang']\n",
      "['mangga', 'pisang']\n",
      "['duku', 'pisang']\n"
     ]
    }
   ],
   "source": [
    "# kalau tidak mau kena pass by reference, kita perlu buat deep copy nya\n",
    "list_buah_deep_copy = list_buah.copy()\n",
    "\n",
    "list_buah_deep_copy[0] = \"duku\"\n",
    "\n",
    "print(list_buah)\n",
    "print(list_buah_copy) # ini list yang sama dengan list_buah\n",
    "print(list_buah_deep_copy) # list berbeda dengan list_buah"
   ]
  },
  {
   "cell_type": "markdown",
   "metadata": {},
   "source": [
    "## contoh pass by reference dengan function"
   ]
  },
  {
   "cell_type": "code",
   "execution_count": 11,
   "metadata": {},
   "outputs": [],
   "source": [
    "# membuat function yang mengubah isi sebuah list jadi Title Case semua\n",
    "def ubahJadiTitleCase(list_string):\n",
    "    # untuk setiap item string dalam list ini, ku ubah jadi title case, lalu replace kedalam list nya lagi\n",
    "    index = 0\n",
    "    for s in list_string:\n",
    "        list_string[index] = s.title()\n",
    "        index += 1"
   ]
  },
  {
   "cell_type": "code",
   "execution_count": 12,
   "metadata": {},
   "outputs": [
    {
     "name": "stdout",
     "output_type": "stream",
     "text": [
      "['Harry Potter', 'Eragon', \"Time Traveller'S Wife\"]\n"
     ]
    }
   ],
   "source": [
    "judul_buku = [\"harry potter\", \"eragon\", \"time traveller's wife\"]\n",
    "\n",
    "ubahJadiTitleCase(judul_buku)\n",
    "\n",
    "print(judul_buku) # data awal kita ikut berubah, bad practice"
   ]
  },
  {
   "cell_type": "markdown",
   "metadata": {},
   "source": [
    "## good practice nya\n",
    "data yang kita pass ke sebuah function jangan diubah. kita harusnya buat data baru hasil run function nya."
   ]
  },
  {
   "cell_type": "code",
   "execution_count": 13,
   "metadata": {},
   "outputs": [
    {
     "name": "stdout",
     "output_type": "stream",
     "text": [
      "['mangga', 'pisang']\n"
     ]
    }
   ],
   "source": [
    "# function yang menambah item ke list\n",
    "print(list_buah)"
   ]
  },
  {
   "cell_type": "code",
   "execution_count": 14,
   "metadata": {},
   "outputs": [],
   "source": [
    "def nambahBuah(lb, tambahan):\n",
    "    lb.append(tambahan)"
   ]
  },
  {
   "cell_type": "code",
   "execution_count": 15,
   "metadata": {},
   "outputs": [],
   "source": [
    "nambahBuah(list_buah, \"duren\")"
   ]
  },
  {
   "cell_type": "code",
   "execution_count": 16,
   "metadata": {},
   "outputs": [
    {
     "name": "stdout",
     "output_type": "stream",
     "text": [
      "['mangga', 'pisang', 'duren']\n"
     ]
    }
   ],
   "source": [
    "print(list_buah)"
   ]
  },
  {
   "cell_type": "code",
   "execution_count": 17,
   "metadata": {},
   "outputs": [],
   "source": [
    "# cara baiknya, supaya function tidak merubah data yang dia terima\n",
    "def nambahBuah(lb, tambahan):\n",
    "    lb_copy = lb.copy()\n",
    "    lb_copy.append(tambahan)\n",
    "    print(lb_copy)"
   ]
  },
  {
   "cell_type": "code",
   "execution_count": 18,
   "metadata": {},
   "outputs": [
    {
     "name": "stdout",
     "output_type": "stream",
     "text": [
      "['mangga', 'pisang', 'duren']\n"
     ]
    }
   ],
   "source": [
    "print(list_buah)"
   ]
  },
  {
   "cell_type": "code",
   "execution_count": 19,
   "metadata": {},
   "outputs": [
    {
     "name": "stdout",
     "output_type": "stream",
     "text": [
      "['mangga', 'pisang', 'duren', 'semangka']\n"
     ]
    }
   ],
   "source": [
    "nambahBuah(list_buah, \"semangka\")"
   ]
  },
  {
   "cell_type": "code",
   "execution_count": 20,
   "metadata": {},
   "outputs": [
    {
     "name": "stdout",
     "output_type": "stream",
     "text": [
      "['mangga', 'pisang', 'duren']\n"
     ]
    }
   ],
   "source": [
    "print(list_buah)"
   ]
  },
  {
   "cell_type": "markdown",
   "metadata": {},
   "source": [
    "# return\n",
    "kalau data hasil kalkulasi/proses sebuah function tidak boleh mengubah data awal, bagaimana cara kita simpan data barunya?\n",
    "\n",
    "gunakan keyword return, return akan mengembalikan data ke tempat function dipanggil. sekaligus menghentikan function."
   ]
  },
  {
   "cell_type": "code",
   "execution_count": 21,
   "metadata": {},
   "outputs": [],
   "source": [
    "def nambahBuah(lb, tambahan):\n",
    "    lb_copy = lb.copy()\n",
    "    lb_copy.append(tambahan)\n",
    "    return lb_copy"
   ]
  },
  {
   "cell_type": "code",
   "execution_count": 22,
   "metadata": {},
   "outputs": [
    {
     "name": "stdout",
     "output_type": "stream",
     "text": [
      "['mangga', 'pisang', 'duren']\n"
     ]
    }
   ],
   "source": [
    "print(list_buah)"
   ]
  },
  {
   "cell_type": "code",
   "execution_count": 23,
   "metadata": {},
   "outputs": [],
   "source": [
    "# tambah 1 buah ke list_buah\n",
    "list_baru = nambahBuah(list_buah, \"jeruk\")"
   ]
  },
  {
   "cell_type": "code",
   "execution_count": 24,
   "metadata": {},
   "outputs": [
    {
     "name": "stdout",
     "output_type": "stream",
     "text": [
      "['mangga', 'pisang', 'duren', 'jeruk']\n"
     ]
    }
   ],
   "source": [
    "print(list_baru)"
   ]
  },
  {
   "cell_type": "code",
   "execution_count": 25,
   "metadata": {},
   "outputs": [
    {
     "name": "stdout",
     "output_type": "stream",
     "text": [
      "['mangga', 'pisang', 'duren']\n"
     ]
    }
   ],
   "source": [
    "print(list_buah)"
   ]
  },
  {
   "cell_type": "code",
   "execution_count": 26,
   "metadata": {},
   "outputs": [],
   "source": [
    "# kalau kita simpan hasil sebuah function yang tidak ada return nya, dapat apa? None\n",
    "def sapa():\n",
    "    print(\"halo\")"
   ]
  },
  {
   "cell_type": "code",
   "execution_count": 27,
   "metadata": {},
   "outputs": [
    {
     "name": "stdout",
     "output_type": "stream",
     "text": [
      "halo\n",
      "None\n"
     ]
    }
   ],
   "source": [
    "hasil = sapa()\n",
    "\n",
    "print(hasil)"
   ]
  },
  {
   "cell_type": "code",
   "execution_count": 28,
   "metadata": {},
   "outputs": [],
   "source": [
    "def sapaReturn():\n",
    "    print(\"halo\")\n",
    "    return \"hai\""
   ]
  },
  {
   "cell_type": "code",
   "execution_count": 29,
   "metadata": {},
   "outputs": [
    {
     "name": "stdout",
     "output_type": "stream",
     "text": [
      "halo\n"
     ]
    }
   ],
   "source": [
    "hasil = sapaReturn()\n",
    "# yang di print tetap jalan karena function nya jalan\n",
    "# yang di return masuk ke variable yang sudah kita siapkan"
   ]
  },
  {
   "cell_type": "code",
   "execution_count": 30,
   "metadata": {},
   "outputs": [
    {
     "data": {
      "text/plain": [
       "'hai'"
      ]
     },
     "execution_count": 30,
     "metadata": {},
     "output_type": "execute_result"
    }
   ],
   "source": [
    "\"ha\"\n",
    "123\n",
    "True\n",
    "\"hello\"\n",
    "hasil"
   ]
  },
  {
   "cell_type": "markdown",
   "metadata": {},
   "source": [
    "### latihan\n",
    "buat sebuah function yang menerima dua argumen, nama dan panggilan (pak/bu). function ini akan print sapaan dalam bentuk \"selamat pagi \\<panggilan> \\<nama>\""
   ]
  },
  {
   "cell_type": "code",
   "execution_count": 31,
   "metadata": {},
   "outputs": [
    {
     "name": "stdout",
     "output_type": "stream",
     "text": [
      "selamat pagi pak Andhika\n"
     ]
    }
   ],
   "source": [
    "def sapa(nama, panggilan):\n",
    "    print(\"selamat pagi\", panggilan, nama)\n",
    "    \n",
    "sapa(\"Andhika\", \"pak\")"
   ]
  },
  {
   "cell_type": "markdown",
   "metadata": {},
   "source": [
    "# Function Argumen\n",
    "argumen sebuah function di python:\n",
    "- ada yang harus diisi (required)\n",
    "- ada yang tidak harus diisi, karena dia punya default value (default)\n",
    "\n",
    "cara isi sebuah argumen di python:\n",
    "- ada yang kita isi urut sesuai saat bikin function posisi dimana, positional\n",
    "- tidak perlu urut, kita panggil aja nama argumen baru isi (keyword)\n",
    "\n",
    "argumen sebuah function biasanya 1 argumen diisi 1 data, tapi:\n",
    "- ada argumen yang bisa diisi lebih dari 1 data, bisa banyak (variable-length argument)"
   ]
  },
  {
   "cell_type": "code",
   "execution_count": 32,
   "metadata": {},
   "outputs": [],
   "source": [
    "# dua required argumen\n",
    "def sapa(nama, panggilan):\n",
    "    print(\"selamat pagi\", panggilan, nama)"
   ]
  },
  {
   "cell_type": "code",
   "execution_count": 33,
   "metadata": {},
   "outputs": [
    {
     "name": "stdout",
     "output_type": "stream",
     "text": [
      "selamat pagi bu Jane\n"
     ]
    }
   ],
   "source": [
    "sapa(\"Jane\", \"bu\")"
   ]
  },
  {
   "cell_type": "code",
   "execution_count": 34,
   "metadata": {},
   "outputs": [],
   "source": [
    "# dua default argumen\n",
    "def sapa(nama=\"\", panggilan=\"Pak/Bu\"):\n",
    "    print(\"selamat pagi\", panggilan, nama)"
   ]
  },
  {
   "cell_type": "code",
   "execution_count": 35,
   "metadata": {},
   "outputs": [
    {
     "name": "stdout",
     "output_type": "stream",
     "text": [
      "selamat pagi Pak/Bu \n"
     ]
    }
   ],
   "source": [
    "sapa()"
   ]
  },
  {
   "cell_type": "code",
   "execution_count": 36,
   "metadata": {},
   "outputs": [
    {
     "name": "stdout",
     "output_type": "stream",
     "text": [
      "selamat pagi Pak/Bu Jane\n"
     ]
    }
   ],
   "source": [
    "sapa(\"Jane\")"
   ]
  },
  {
   "cell_type": "code",
   "execution_count": 37,
   "metadata": {},
   "outputs": [
    {
     "name": "stdout",
     "output_type": "stream",
     "text": [
      "selamat pagi Ms. Jane\n"
     ]
    }
   ],
   "source": [
    "sapa(\"Jane\", \"Ms.\")"
   ]
  },
  {
   "cell_type": "code",
   "execution_count": 38,
   "metadata": {},
   "outputs": [],
   "source": [
    "# satu required, satu default argumen\n",
    "def sapa(nama, panggilan=\"Pak/Bu\"):\n",
    "    print(\"selamat pagi\", panggilan, nama)"
   ]
  },
  {
   "cell_type": "code",
   "execution_count": 39,
   "metadata": {},
   "outputs": [
    {
     "name": "stdout",
     "output_type": "stream",
     "text": [
      "selamat pagi Pak/Bu John\n"
     ]
    }
   ],
   "source": [
    "sapa(\"John\")"
   ]
  },
  {
   "cell_type": "code",
   "execution_count": 40,
   "metadata": {},
   "outputs": [
    {
     "name": "stdout",
     "output_type": "stream",
     "text": [
      "selamat pagi Mr. John\n"
     ]
    }
   ],
   "source": [
    "sapa(\"John\", \"Mr.\")"
   ]
  },
  {
   "cell_type": "code",
   "execution_count": 41,
   "metadata": {},
   "outputs": [],
   "source": [
    "# function ada 3 argumen, 1 required, 2 default\n",
    "def sapa(nama, panggilan=\"pak/bu\", waktu=\"pagi\"):\n",
    "    print(\"selamat\", waktu, panggilan, nama)"
   ]
  },
  {
   "cell_type": "code",
   "execution_count": 42,
   "metadata": {},
   "outputs": [
    {
     "name": "stdout",
     "output_type": "stream",
     "text": [
      "selamat pagi pak/bu Andi\n"
     ]
    }
   ],
   "source": [
    "# menggunakan keyword untuk isi argumen\n",
    "sapa(\"Andi\")"
   ]
  },
  {
   "cell_type": "code",
   "execution_count": 43,
   "metadata": {},
   "outputs": [
    {
     "name": "stdout",
     "output_type": "stream",
     "text": [
      "selamat malam Bapak Budi\n"
     ]
    }
   ],
   "source": [
    "# isi waktu dulu, baru nama\n",
    "sapa(waktu=\"malam\", nama=\"Budi\", panggilan=\"Bapak\")"
   ]
  },
  {
   "cell_type": "code",
   "execution_count": 44,
   "metadata": {},
   "outputs": [],
   "source": [
    "# variable-length argumen\n",
    "def sapa(*nama, panggilan=\"pak/bu\", waktu=\"pagi\"):\n",
    "    print(\"selamat\", waktu, panggilan, nama)"
   ]
  },
  {
   "cell_type": "code",
   "execution_count": 45,
   "metadata": {},
   "outputs": [
    {
     "name": "stdout",
     "output_type": "stream",
     "text": [
      "selamat malam Bapak ()\n"
     ]
    }
   ],
   "source": [
    "sapa(waktu=\"malam\", panggilan=\"Bapak\")"
   ]
  },
  {
   "cell_type": "code",
   "execution_count": 46,
   "metadata": {},
   "outputs": [
    {
     "name": "stdout",
     "output_type": "stream",
     "text": [
      "selamat malam Bapak ('Andi', 'Budi')\n"
     ]
    }
   ],
   "source": [
    "sapa(\"Andi\",\"Budi\", waktu=\"malam\", panggilan=\"Bapak\")"
   ]
  },
  {
   "cell_type": "code",
   "execution_count": 47,
   "metadata": {},
   "outputs": [
    {
     "name": "stdout",
     "output_type": "stream",
     "text": [
      "selamat pagi pak/bu ('Andi', 'Budi', 'Cindy', 'ibu')\n"
     ]
    }
   ],
   "source": [
    "sapa(\"Andi\",\"Budi\", \"Cindy\", \"ibu\")"
   ]
  },
  {
   "cell_type": "code",
   "execution_count": 48,
   "metadata": {},
   "outputs": [],
   "source": [
    "\n",
    "def sapa(waktu, *nama):\n",
    "    print(\"selamat\", waktu, nama)"
   ]
  },
  {
   "cell_type": "code",
   "execution_count": 49,
   "metadata": {},
   "outputs": [
    {
     "name": "stdout",
     "output_type": "stream",
     "text": [
      "selamat pagi ('budi',)\n"
     ]
    }
   ],
   "source": [
    "sapa(\"pagi\", \"budi\")"
   ]
  },
  {
   "cell_type": "code",
   "execution_count": 50,
   "metadata": {},
   "outputs": [],
   "source": [
    "def sapa(waktu, *nama):\n",
    "    for n in nama:\n",
    "        print(\"selamat\", waktu, n)"
   ]
  },
  {
   "cell_type": "code",
   "execution_count": 51,
   "metadata": {},
   "outputs": [
    {
     "name": "stdout",
     "output_type": "stream",
     "text": [
      "selamat malam Nabilah\n",
      "selamat malam Aditya\n",
      "selamat malam Laura\n"
     ]
    }
   ],
   "source": [
    "sapa(\"malam\", \"Nabilah\", \"Aditya\", \"Laura\")"
   ]
  },
  {
   "cell_type": "code",
   "execution_count": 52,
   "metadata": {},
   "outputs": [
    {
     "name": "stdout",
     "output_type": "stream",
     "text": [
      "selamat malam pak/bu andi\n",
      "selamat malam pak/bu budi\n",
      "selamat malam pak/bu cindy\n"
     ]
    }
   ],
   "source": [
    "def sapa(*nama, panggilan=\"pak/bu\", waktu=\"pagi\"):\n",
    "    for n in nama:\n",
    "        print(\"selamat\", waktu, panggilan, n)\n",
    "\n",
    "sapa(\"andi\", \"budi\", \"cindy\", waktu=\"malam\")"
   ]
  },
  {
   "cell_type": "markdown",
   "metadata": {},
   "source": [
    "# Anonymous function\n",
    "membuat function 1 baris"
   ]
  },
  {
   "cell_type": "code",
   "execution_count": 53,
   "metadata": {},
   "outputs": [],
   "source": [
    "# contoh function biasa\n",
    "def sapa(waktu, nama):\n",
    "    return \"selamat \" + waktu + \" \" + nama"
   ]
  },
  {
   "cell_type": "code",
   "execution_count": 54,
   "metadata": {},
   "outputs": [],
   "source": [
    "hasil_sapa = sapa(\"pagi\", \"andi\")"
   ]
  },
  {
   "cell_type": "code",
   "execution_count": 55,
   "metadata": {},
   "outputs": [
    {
     "name": "stdout",
     "output_type": "stream",
     "text": [
      "selamat pagi andi\n"
     ]
    }
   ],
   "source": [
    "print(hasil_sapa)"
   ]
  },
  {
   "cell_type": "code",
   "execution_count": 56,
   "metadata": {},
   "outputs": [],
   "source": [
    "# ubah jadi bentuk lambda, anonymouse function\n",
    "sapa = lambda waktu, nama: \"selamat \" + waktu + \" \" + nama"
   ]
  },
  {
   "cell_type": "code",
   "execution_count": 57,
   "metadata": {},
   "outputs": [],
   "source": [
    "hasil_sapa = sapa(\"pagi\", \"andi\")"
   ]
  },
  {
   "cell_type": "code",
   "execution_count": 58,
   "metadata": {},
   "outputs": [
    {
     "name": "stdout",
     "output_type": "stream",
     "text": [
      "selamat pagi andi\n"
     ]
    }
   ],
   "source": [
    "print(hasil_sapa)"
   ]
  },
  {
   "cell_type": "markdown",
   "metadata": {},
   "source": [
    "# Scope of Variable\n",
    "level pentingnya sebuah variable, variable ada atau nggak di barus kode tertentu"
   ]
  },
  {
   "cell_type": "code",
   "execution_count": 59,
   "metadata": {},
   "outputs": [
    {
     "name": "stdout",
     "output_type": "stream",
     "text": [
      "a local function 3\n",
      "b local function 7\n",
      "c local function 9\n",
      "a global 17\n",
      "b global 10\n"
     ]
    }
   ],
   "source": [
    "a = 17 # scope global\n",
    "b = 15\n",
    "\n",
    "# buat function tambah tambahan\n",
    "def tambah(a, b):\n",
    "    print(\"a local function\", a)\n",
    "    print(\"b local function\", b)\n",
    "    \n",
    "    c = 9 # scope ada di dalam function tambah\n",
    "    print(\"c local function\", c)\n",
    "    \n",
    "    return a+b\n",
    "\n",
    "b = tambah(3, 7)\n",
    "\n",
    "print(\"a global\", a)\n",
    "print(\"b global\", b)\n",
    "# print(c) # tidak ketemu c nya"
   ]
  },
  {
   "cell_type": "code",
   "execution_count": 60,
   "metadata": {},
   "outputs": [
    {
     "name": "stdout",
     "output_type": "stream",
     "text": [
      "17\n"
     ]
    }
   ],
   "source": [
    "print(a)"
   ]
  },
  {
   "cell_type": "markdown",
   "metadata": {},
   "source": [
    "# Module\n",
    "module adalah file `.py` yang bisa kita isi code, variable, function, dan class python.\n",
    "\n",
    "setelah membuat module, cara pakai nya kita perlu import dulu"
   ]
  },
  {
   "cell_type": "code",
   "execution_count": 61,
   "metadata": {},
   "outputs": [],
   "source": [
    "import andi"
   ]
  },
  {
   "cell_type": "code",
   "execution_count": 62,
   "metadata": {},
   "outputs": [
    {
     "data": {
      "text/plain": [
       "<module 'andi' from 'C:\\\\Users\\\\stefa\\\\hacktiv\\\\PYTN\\\\71\\\\andi.py'>"
      ]
     },
     "execution_count": 62,
     "metadata": {},
     "output_type": "execute_result"
    }
   ],
   "source": [
    "andi"
   ]
  },
  {
   "cell_type": "code",
   "execution_count": 63,
   "metadata": {},
   "outputs": [
    {
     "data": {
      "text/plain": [
       "'Andi'"
      ]
     },
     "execution_count": 63,
     "metadata": {},
     "output_type": "execute_result"
    }
   ],
   "source": [
    "andi.nama"
   ]
  },
  {
   "cell_type": "code",
   "execution_count": 64,
   "metadata": {},
   "outputs": [
    {
     "data": {
      "text/plain": [
       "['makan', 'sepeda', 'coding']"
      ]
     },
     "execution_count": 64,
     "metadata": {},
     "output_type": "execute_result"
    }
   ],
   "source": [
    "andi.hobi"
   ]
  },
  {
   "cell_type": "code",
   "execution_count": 65,
   "metadata": {},
   "outputs": [
    {
     "name": "stdout",
     "output_type": "stream",
     "text": [
      "Andi suka makan\n",
      "Andi suka sepeda\n",
      "Andi suka coding\n"
     ]
    }
   ],
   "source": [
    "for h in andi.hobi:\n",
    "    print(andi.nama, \"suka\", h)"
   ]
  },
  {
   "cell_type": "code",
   "execution_count": 66,
   "metadata": {},
   "outputs": [
    {
     "name": "stdout",
     "output_type": "stream",
     "text": [
      "Andi pergi bersepeda\n"
     ]
    }
   ],
   "source": [
    "andi.sepeda()"
   ]
  },
  {
   "cell_type": "code",
   "execution_count": 67,
   "metadata": {},
   "outputs": [
    {
     "name": "stdout",
     "output_type": "stream",
     "text": [
      "boleh beli tiket karena umur 50\n",
      "bisa beli tiket karena saldo 1200 dan harga 250\n"
     ]
    }
   ],
   "source": [
    "andi.cekTiketPesawat(50,1200,250)"
   ]
  },
  {
   "cell_type": "code",
   "execution_count": 68,
   "metadata": {},
   "outputs": [],
   "source": [
    "# cara import nya macam macam, yang tadi cara import biasa"
   ]
  },
  {
   "cell_type": "code",
   "execution_count": 69,
   "metadata": {},
   "outputs": [],
   "source": [
    "# diberi alias\n",
    "import andi as an"
   ]
  },
  {
   "cell_type": "code",
   "execution_count": 70,
   "metadata": {},
   "outputs": [
    {
     "name": "stdout",
     "output_type": "stream",
     "text": [
      "Andi pergi bersepeda\n"
     ]
    }
   ],
   "source": [
    "an.sepeda()"
   ]
  },
  {
   "cell_type": "code",
   "execution_count": 71,
   "metadata": {},
   "outputs": [],
   "source": [
    "# import variable/ function/ class tertentu saja\n",
    "from andi import sepeda"
   ]
  },
  {
   "cell_type": "code",
   "execution_count": 72,
   "metadata": {},
   "outputs": [
    {
     "name": "stdout",
     "output_type": "stream",
     "text": [
      "Andi pergi bersepeda\n"
     ]
    }
   ],
   "source": [
    "sepeda()"
   ]
  },
  {
   "cell_type": "code",
   "execution_count": 73,
   "metadata": {},
   "outputs": [],
   "source": [
    "# import variable/ function/ class tertentu saja lalu diberi alias\n",
    "from andi import sepeda as an_sepeda"
   ]
  },
  {
   "cell_type": "code",
   "execution_count": 74,
   "metadata": {},
   "outputs": [
    {
     "name": "stdout",
     "output_type": "stream",
     "text": [
      "Andi pergi bersepeda\n"
     ]
    }
   ],
   "source": [
    "an_sepeda()"
   ]
  },
  {
   "cell_type": "code",
   "execution_count": 75,
   "metadata": {},
   "outputs": [],
   "source": [
    "# import variable/ function/ class tertentu saja, beberapa sekaligus, tanpa alias\n",
    "from andi import nama, hobi"
   ]
  },
  {
   "cell_type": "code",
   "execution_count": 76,
   "metadata": {},
   "outputs": [
    {
     "name": "stdout",
     "output_type": "stream",
     "text": [
      "Andi\n",
      "['makan', 'sepeda', 'coding']\n"
     ]
    }
   ],
   "source": [
    "print(nama)\n",
    "print(hobi)"
   ]
  },
  {
   "cell_type": "markdown",
   "metadata": {},
   "source": [
    "# cari module di folder apa saja?\n",
    "1. folder yang sekarang, tempat file ipynb kita berada\n",
    "2. di tempat2 lain, bisa lihat list nya dengan menggunakan sys.path\n",
    "3. kita bisa edit sys.path untuk cari module di folder tambahan"
   ]
  },
  {
   "cell_type": "code",
   "execution_count": 77,
   "metadata": {},
   "outputs": [
    {
     "data": {
      "text/plain": [
       "['C:\\\\Users\\\\stefa\\\\hacktiv\\\\PYTN\\\\71',\n",
       " 'C:\\\\Users\\\\stefa\\\\anaconda3\\\\python38.zip',\n",
       " 'C:\\\\Users\\\\stefa\\\\anaconda3\\\\DLLs',\n",
       " 'C:\\\\Users\\\\stefa\\\\anaconda3\\\\lib',\n",
       " 'C:\\\\Users\\\\stefa\\\\anaconda3',\n",
       " '',\n",
       " 'C:\\\\Users\\\\stefa\\\\AppData\\\\Roaming\\\\Python\\\\Python38\\\\site-packages',\n",
       " 'C:\\\\Users\\\\stefa\\\\AppData\\\\Roaming\\\\Python\\\\Python38\\\\site-packages\\\\win32',\n",
       " 'C:\\\\Users\\\\stefa\\\\AppData\\\\Roaming\\\\Python\\\\Python38\\\\site-packages\\\\win32\\\\lib',\n",
       " 'C:\\\\Users\\\\stefa\\\\AppData\\\\Roaming\\\\Python\\\\Python38\\\\site-packages\\\\Pythonwin',\n",
       " 'C:\\\\Users\\\\stefa\\\\anaconda3\\\\lib\\\\site-packages',\n",
       " 'C:\\\\Users\\\\stefa\\\\anaconda3\\\\lib\\\\site-packages\\\\win32',\n",
       " 'C:\\\\Users\\\\stefa\\\\anaconda3\\\\lib\\\\site-packages\\\\win32\\\\lib',\n",
       " 'C:\\\\Users\\\\stefa\\\\anaconda3\\\\lib\\\\site-packages\\\\Pythonwin']"
      ]
     },
     "execution_count": 77,
     "metadata": {},
     "output_type": "execute_result"
    }
   ],
   "source": [
    "import sys\n",
    "sys.path"
   ]
  },
  {
   "cell_type": "code",
   "execution_count": 78,
   "metadata": {},
   "outputs": [
    {
     "name": "stdout",
     "output_type": "stream",
     "text": [
      "<class 'list'>\n"
     ]
    }
   ],
   "source": [
    "print(type(sys.path))"
   ]
  },
  {
   "cell_type": "code",
   "execution_count": 79,
   "metadata": {},
   "outputs": [],
   "source": [
    "# kita bisa tambahin custom folder kalau mau\n",
    "sys.path.append('C:\\\\Users\\\\stefa\\\\hacktiv\\\\PYTN')"
   ]
  },
  {
   "cell_type": "code",
   "execution_count": 80,
   "metadata": {},
   "outputs": [],
   "source": [
    "import budi"
   ]
  },
  {
   "cell_type": "code",
   "execution_count": 81,
   "metadata": {},
   "outputs": [
    {
     "data": {
      "text/plain": [
       "'budi'"
      ]
     },
     "execution_count": 81,
     "metadata": {},
     "output_type": "execute_result"
    }
   ],
   "source": [
    "budi.nama"
   ]
  },
  {
   "cell_type": "code",
   "execution_count": 82,
   "metadata": {},
   "outputs": [
    {
     "data": {
      "text/plain": [
       "['olahraga', 'bekerja']"
      ]
     },
     "execution_count": 82,
     "metadata": {},
     "output_type": "execute_result"
    }
   ],
   "source": [
    "budi.hobi"
   ]
  },
  {
   "cell_type": "code",
   "execution_count": 83,
   "metadata": {},
   "outputs": [
    {
     "data": {
      "text/plain": [
       "52"
      ]
     },
     "execution_count": 83,
     "metadata": {},
     "output_type": "execute_result"
    }
   ],
   "source": [
    "budi.umur"
   ]
  },
  {
   "cell_type": "markdown",
   "metadata": {},
   "source": [
    "### latihan module\n",
    "coba buat module yang ada 2 variable, 2 function. import module tersebut dan jalankan function nya di noteboook. print juga variable module nya."
   ]
  },
  {
   "cell_type": "markdown",
   "metadata": {},
   "source": [
    "# namespace\n",
    "dir() menunjukkan nama nama apa saja yang sudah kita gunakan"
   ]
  },
  {
   "cell_type": "code",
   "execution_count": 84,
   "metadata": {},
   "outputs": [
    {
     "data": {
      "text/plain": [
       "['In',\n",
       " 'Out',\n",
       " '_',\n",
       " '_30',\n",
       " '_62',\n",
       " '_63',\n",
       " '_64',\n",
       " '_77',\n",
       " '_81',\n",
       " '_82',\n",
       " '_83',\n",
       " '__',\n",
       " '___',\n",
       " '__builtin__',\n",
       " '__builtins__',\n",
       " '__doc__',\n",
       " '__loader__',\n",
       " '__name__',\n",
       " '__package__',\n",
       " '__spec__',\n",
       " '_dh',\n",
       " '_i',\n",
       " '_i1',\n",
       " '_i10',\n",
       " '_i11',\n",
       " '_i12',\n",
       " '_i13',\n",
       " '_i14',\n",
       " '_i15',\n",
       " '_i16',\n",
       " '_i17',\n",
       " '_i18',\n",
       " '_i19',\n",
       " '_i2',\n",
       " '_i20',\n",
       " '_i21',\n",
       " '_i22',\n",
       " '_i23',\n",
       " '_i24',\n",
       " '_i25',\n",
       " '_i26',\n",
       " '_i27',\n",
       " '_i28',\n",
       " '_i29',\n",
       " '_i3',\n",
       " '_i30',\n",
       " '_i31',\n",
       " '_i32',\n",
       " '_i33',\n",
       " '_i34',\n",
       " '_i35',\n",
       " '_i36',\n",
       " '_i37',\n",
       " '_i38',\n",
       " '_i39',\n",
       " '_i4',\n",
       " '_i40',\n",
       " '_i41',\n",
       " '_i42',\n",
       " '_i43',\n",
       " '_i44',\n",
       " '_i45',\n",
       " '_i46',\n",
       " '_i47',\n",
       " '_i48',\n",
       " '_i49',\n",
       " '_i5',\n",
       " '_i50',\n",
       " '_i51',\n",
       " '_i52',\n",
       " '_i53',\n",
       " '_i54',\n",
       " '_i55',\n",
       " '_i56',\n",
       " '_i57',\n",
       " '_i58',\n",
       " '_i59',\n",
       " '_i6',\n",
       " '_i60',\n",
       " '_i61',\n",
       " '_i62',\n",
       " '_i63',\n",
       " '_i64',\n",
       " '_i65',\n",
       " '_i66',\n",
       " '_i67',\n",
       " '_i68',\n",
       " '_i69',\n",
       " '_i7',\n",
       " '_i70',\n",
       " '_i71',\n",
       " '_i72',\n",
       " '_i73',\n",
       " '_i74',\n",
       " '_i75',\n",
       " '_i76',\n",
       " '_i77',\n",
       " '_i78',\n",
       " '_i79',\n",
       " '_i8',\n",
       " '_i80',\n",
       " '_i81',\n",
       " '_i82',\n",
       " '_i83',\n",
       " '_i84',\n",
       " '_i9',\n",
       " '_ih',\n",
       " '_ii',\n",
       " '_iii',\n",
       " '_oh',\n",
       " 'a',\n",
       " 'an',\n",
       " 'an_sepeda',\n",
       " 'andi',\n",
       " 'b',\n",
       " 'buah',\n",
       " 'buah_copy',\n",
       " 'budi',\n",
       " 'cekTiketPesawat',\n",
       " 'exit',\n",
       " 'get_ipython',\n",
       " 'h',\n",
       " 'hasil',\n",
       " 'hasil_sapa',\n",
       " 'hobi',\n",
       " 'judul_buku',\n",
       " 'list_baru',\n",
       " 'list_buah',\n",
       " 'list_buah_copy',\n",
       " 'list_buah_deep_copy',\n",
       " 'list_orang',\n",
       " 'nama',\n",
       " 'nambahBuah',\n",
       " 'org',\n",
       " 'quit',\n",
       " 'sapa',\n",
       " 'sapaReturn',\n",
       " 'sepeda',\n",
       " 'sys',\n",
       " 'tambah',\n",
       " 'ubahJadiTitleCase']"
      ]
     },
     "execution_count": 84,
     "metadata": {},
     "output_type": "execute_result"
    }
   ],
   "source": [
    "dir()"
   ]
  },
  {
   "cell_type": "markdown",
   "metadata": {},
   "source": [
    "# Reload module"
   ]
  },
  {
   "cell_type": "code",
   "execution_count": 87,
   "metadata": {},
   "outputs": [],
   "source": [
    "# tidak diimport ulang\n",
    "import andi"
   ]
  },
  {
   "cell_type": "code",
   "execution_count": 88,
   "metadata": {},
   "outputs": [
    {
     "name": "stdout",
     "output_type": "stream",
     "text": [
      "hai\n"
     ]
    },
    {
     "data": {
      "text/plain": [
       "<module 'andi' from 'C:\\\\Users\\\\stefa\\\\hacktiv\\\\PYTN\\\\71\\\\andi.py'>"
      ]
     },
     "execution_count": 88,
     "metadata": {},
     "output_type": "execute_result"
    }
   ],
   "source": [
    "# paksa import ulang menggunakan importlib.reload\n",
    "import importlib\n",
    "importlib.reload(andi)"
   ]
  },
  {
   "cell_type": "code",
   "execution_count": 89,
   "metadata": {},
   "outputs": [
    {
     "data": {
      "text/plain": [
       "<module 'andi' from 'C:\\\\Users\\\\stefa\\\\hacktiv\\\\PYTN\\\\71\\\\andi.py'>"
      ]
     },
     "execution_count": 89,
     "metadata": {},
     "output_type": "execute_result"
    }
   ],
   "source": [
    "importlib.reload(andi)"
   ]
  },
  {
   "cell_type": "markdown",
   "metadata": {},
   "source": [
    "# Package\n",
    "buat sebuah folder, isi banyak module python"
   ]
  },
  {
   "cell_type": "code",
   "execution_count": 90,
   "metadata": {},
   "outputs": [],
   "source": [
    "# cara import package, tidak bisa import package nya saja\n",
    "import murid"
   ]
  },
  {
   "cell_type": "markdown",
   "metadata": {},
   "source": [
    "```python\n",
    "murid.andi\n",
    "```\n",
    "akan error"
   ]
  },
  {
   "cell_type": "code",
   "execution_count": 92,
   "metadata": {},
   "outputs": [],
   "source": [
    "# cara import nya kita harus import module dalam package nya\n",
    "import murid.andi"
   ]
  },
  {
   "cell_type": "code",
   "execution_count": 93,
   "metadata": {},
   "outputs": [
    {
     "data": {
      "text/plain": [
       "<module 'murid.andi' from 'C:\\\\Users\\\\stefa\\\\hacktiv\\\\PYTN\\\\71\\\\murid\\\\andi.py'>"
      ]
     },
     "execution_count": 93,
     "metadata": {},
     "output_type": "execute_result"
    }
   ],
   "source": [
    "murid.andi"
   ]
  },
  {
   "cell_type": "code",
   "execution_count": 94,
   "metadata": {},
   "outputs": [
    {
     "data": {
      "text/plain": [
       "'Andhika'"
      ]
     },
     "execution_count": 94,
     "metadata": {},
     "output_type": "execute_result"
    }
   ],
   "source": [
    "murid.andi.nama"
   ]
  },
  {
   "cell_type": "code",
   "execution_count": 95,
   "metadata": {},
   "outputs": [
    {
     "name": "stdout",
     "output_type": "stream",
     "text": [
      "Salam kenal, saya Andhika biasa dipanggil Andi\n"
     ]
    }
   ],
   "source": [
    "murid.andi.sapa()"
   ]
  },
  {
   "cell_type": "code",
   "execution_count": 96,
   "metadata": {},
   "outputs": [],
   "source": [
    "# kita tetap bisa pakai alias\n",
    "import murid.andi as ma"
   ]
  },
  {
   "cell_type": "code",
   "execution_count": 97,
   "metadata": {},
   "outputs": [
    {
     "name": "stdout",
     "output_type": "stream",
     "text": [
      "Salam kenal, saya Andhika biasa dipanggil Andi\n"
     ]
    }
   ],
   "source": [
    "ma.sapa()"
   ]
  },
  {
   "cell_type": "code",
   "execution_count": 98,
   "metadata": {},
   "outputs": [],
   "source": [
    "# tetap bisa import sebagian variable / function dari module juga\n",
    "from murid.andi import sapa"
   ]
  },
  {
   "cell_type": "code",
   "execution_count": 99,
   "metadata": {},
   "outputs": [
    {
     "name": "stdout",
     "output_type": "stream",
     "text": [
      "Salam kenal, saya Andhika biasa dipanggil Andi\n"
     ]
    }
   ],
   "source": [
    "sapa()"
   ]
  },
  {
   "cell_type": "code",
   "execution_count": 100,
   "metadata": {},
   "outputs": [],
   "source": [
    "# cara lain import module dari package\n",
    "from murid import budi"
   ]
  },
  {
   "cell_type": "code",
   "execution_count": 101,
   "metadata": {},
   "outputs": [
    {
     "name": "stdout",
     "output_type": "stream",
     "text": [
      "Hai, saya Budi, salam kenal!\n"
     ]
    }
   ],
   "source": [
    "budi.sapa()"
   ]
  },
  {
   "cell_type": "code",
   "execution_count": 102,
   "metadata": {},
   "outputs": [
    {
     "data": {
      "text/plain": [
       "'Budiman'"
      ]
     },
     "execution_count": 102,
     "metadata": {},
     "output_type": "execute_result"
    }
   ],
   "source": [
    "budi.nama"
   ]
  },
  {
   "cell_type": "code",
   "execution_count": 103,
   "metadata": {},
   "outputs": [
    {
     "data": {
      "text/plain": [
       "['C:\\\\Users\\\\stefa\\\\hacktiv\\\\PYTN\\\\71',\n",
       " 'C:\\\\Users\\\\stefa\\\\anaconda3\\\\python38.zip',\n",
       " 'C:\\\\Users\\\\stefa\\\\anaconda3\\\\DLLs',\n",
       " 'C:\\\\Users\\\\stefa\\\\anaconda3\\\\lib',\n",
       " 'C:\\\\Users\\\\stefa\\\\anaconda3',\n",
       " '',\n",
       " 'C:\\\\Users\\\\stefa\\\\AppData\\\\Roaming\\\\Python\\\\Python38\\\\site-packages',\n",
       " 'C:\\\\Users\\\\stefa\\\\AppData\\\\Roaming\\\\Python\\\\Python38\\\\site-packages\\\\win32',\n",
       " 'C:\\\\Users\\\\stefa\\\\AppData\\\\Roaming\\\\Python\\\\Python38\\\\site-packages\\\\win32\\\\lib',\n",
       " 'C:\\\\Users\\\\stefa\\\\AppData\\\\Roaming\\\\Python\\\\Python38\\\\site-packages\\\\Pythonwin',\n",
       " 'C:\\\\Users\\\\stefa\\\\anaconda3\\\\lib\\\\site-packages',\n",
       " 'C:\\\\Users\\\\stefa\\\\anaconda3\\\\lib\\\\site-packages\\\\win32',\n",
       " 'C:\\\\Users\\\\stefa\\\\anaconda3\\\\lib\\\\site-packages\\\\win32\\\\lib',\n",
       " 'C:\\\\Users\\\\stefa\\\\anaconda3\\\\lib\\\\site-packages\\\\Pythonwin',\n",
       " 'C:\\\\Users\\\\stefa\\\\hacktiv\\\\PYTN']"
      ]
     },
     "execution_count": 103,
     "metadata": {},
     "output_type": "execute_result"
    }
   ],
   "source": [
    "sys.path"
   ]
  },
  {
   "cell_type": "markdown",
   "metadata": {},
   "source": [
    "# Instalasi Package\n",
    "package ada banyak sekali, bisa dilihat di website https://pypi.org\n",
    "\n",
    "biasanya install package pakai `pip` atau `conda`\n",
    "\n",
    "## uninstall package\n",
    "`pip uninstall nama_package`"
   ]
  },
  {
   "cell_type": "code",
   "execution_count": 104,
   "metadata": {},
   "outputs": [],
   "source": [
    "# contoh, install package requests"
   ]
  },
  {
   "cell_type": "code",
   "execution_count": 105,
   "metadata": {},
   "outputs": [
    {
     "name": "stdout",
     "output_type": "stream",
     "text": [
      "Requirement already satisfied: requests in c:\\users\\stefa\\anaconda3\\lib\\site-packages (2.24.0)\n",
      "Requirement already satisfied: certifi>=2017.4.17 in c:\\users\\stefa\\anaconda3\\lib\\site-packages (from requests) (2020.6.20)\n",
      "Requirement already satisfied: idna<3,>=2.5 in c:\\users\\stefa\\anaconda3\\lib\\site-packages (from requests) (2.10)\n",
      "Requirement already satisfied: chardet<4,>=3.0.2 in c:\\users\\stefa\\anaconda3\\lib\\site-packages (from requests) (3.0.4)\n",
      "Requirement already satisfied: urllib3!=1.25.0,!=1.25.1,<1.26,>=1.21.1 in c:\\users\\stefa\\anaconda3\\lib\\site-packages (from requests) (1.25.11)\n",
      "Note: you may need to restart the kernel to use updated packages.\n"
     ]
    }
   ],
   "source": [
    "pip install requests"
   ]
  },
  {
   "cell_type": "code",
   "execution_count": 107,
   "metadata": {},
   "outputs": [],
   "source": [
    "import requests"
   ]
  },
  {
   "cell_type": "code",
   "execution_count": 108,
   "metadata": {},
   "outputs": [],
   "source": [
    "# pakai package/module requests untuk connect ke website https://pypi.org\n",
    "halaman_pypi = requests.get(\"https://pypi.org\")"
   ]
  },
  {
   "cell_type": "code",
   "execution_count": 109,
   "metadata": {},
   "outputs": [
    {
     "data": {
      "text/plain": [
       "'\\n\\n\\n\\n\\n\\n<!DOCTYPE html>\\n<html lang=\"en\" dir=\"ltr\">\\n  <head>\\n    <meta charset=\"utf-8\">\\n    <meta http-equiv=\"X-UA-Compatible\" content=\"IE=edge\">\\n    <meta name=\"viewport\" content=\"width=device-width, initial-scale=1\">\\n\\n    <meta name=\"defaultLanguage\" content=\"en\">\\n    <meta name=\"availableLanguages\" content=\"en, es, fr, ja, pt_BR, uk, el, de, zh_Hans, zh_Hant, ru, he, eo\">\\n\\n    \\n\\n    <title>PyPI · The Python Package Index</title>\\n    <meta name=\"description\" content=\"The Python Package Index (PyPI) is a repository of software for the Python programming language.\">\\n\\n    <link rel=\"stylesheet\" href=\"/static/css/warehouse-ltr.725c5f70.css\">\\n    <link rel=\"stylesheet\" href=\"/static/css/fontawesome.6002a161.css\">\\n    <link rel=\"stylesheet\" href=\"/static/css/regular.98fbf39a.css\">\\n    <link rel=\"stylesheet\" href=\"/static/css/solid.c3b5f0b5.css\">\\n    <link rel=\"stylesheet\" href=\"/static/css/brands.2c303be1.css\">\\n    <link rel=\"stylesheet\" href=\"https://fonts.googleapis.com/css?family=Source+Sans+Pro:400,400italic,600,600italic,700,700italic%7CSource+Code+Pro:500\">\\n    <noscript>\\n      <link rel=\"stylesheet\" href=\"/static/css/noscript.d4ce1e76.css\">\\n    </noscript>\\n\\n    \\n\\n    <link rel=\"icon\" href=\"/static/images/favicon.6a76275d.ico\" type=\"image/x-icon\">\\n\\n    <link rel=\"alternate\" type=\"application/rss+xml\" title=\"RSS: 40 latest updates\" href=\"/rss/updates.xml\">\\n    <link rel=\"alternate\" type=\"application/rss+xml\" title=\"RSS: 40 newest packages\" href=\"/rss/packages.xml\">\\n    \\n    \\n\\n    <meta property=\"og:url\" content=\"https://pypi.org/\">\\n    <meta property=\"og:site_name\" content=\"PyPI\">\\n    <meta property=\"og:type\" content=\"website\">\\n    <meta property=\"og:image\" content=\"https://pypi.org/static/images/twitter.6fecba6f.jpg\">\\n    <meta property=\"og:title\" content=\"\">\\n    <meta property=\"og:description\" content=\"The Python Package Index (PyPI) is a repository of software for the Python programming language.\">\\n\\n    <link rel=\"search\" type=\"application/opensearchdescription+xml\" title=\"PyPI\" href=\"/opensearch.xml\">\\n\\n    \\n    <script async\\n            data-ga-id=\"UA-55961911-1\"\\n            src=\"/static/js/warehouse.3d322770.js\">\\n    </script>\\n    \\n    \\n    <script async src=\"https://www.googletagmanager.com/gtag/js?id=UA-55961911-1\"></script>\\n    <script defer src=\"https://www.fastly-insights.com/insights.js?k=6a52360a-f306-421e-8ed5-7417d0d4a4e9&dnt=true\"></script>\\n    <script async\\n        src=\"https://media.ethicalads.io/media/client/v1.4.0/ethicalads.min.js\"\\n        integrity=\"sha256-U3hKDidudIaxBDEzwGJApJgPEf2mWk6cfMWghrAa6i0= sha384-UcmsCqcNRSLW/dV3Lo1oCi2/VaurXbib6p4HyUEOeIa/4OpsrnucrugAefzVZJfI sha512-q4t1L4xEjGV2R4hzqCa41P8jrgFUS8xTb8rdNv4FGvw7FpydVj/kkxBJHOiaoxHa8olCcx1Slk9K+3sNbsM4ug==\"\\n        crossorigin=\"anonymous\"\\n    ></script>\\n  </head>\\n\\n  <body data-controller=\"viewport-toggle\">\\n    \\n\\n    <!-- Accessibility: this link should always be the first piece of content inside the body-->\\n    <a href=\"#content\" class=\"skip-to-content\">Skip to main content</a>\\n\\n    <button type=\"button\" class=\"button button--primary button--switch-to-mobile hidden\" data-target=\"viewport-toggle.switchToMobile\" data-action=\"viewport-toggle#switchToMobile\">\\n      Switch to mobile version\\n    </button>\\n\\n    <div id=\"sticky-notifications\" class=\"stick-to-top js-stick-to-top\">\\n      <!-- Add browser warning. Will show for ie9 and below -->\\n      <!--[if IE]>\\n      <div class=\"notification-bar notification-bar--warning\" role=\"status\">\\n        <span class=\"notification-bar__icon\">\\n          <i class=\"fa fa-exclamation-triangle\" aria-hidden=\"true\"></i>\\n          <span class=\"sr-only\">Warning</span>\\n        </span>\\n        <span class=\"notification-bar__message\">You are using an unsupported browser, upgrade to a newer version.</span>\\n      </div>\\n      <![endif]-->\\n      \\n      <noscript>\\n      <div class=\"notification-bar notification-bar--warning\" role=\"status\">\\n        \\n        <span class=\"notification-bar__icon\">\\n          <i class=\"fa fa-exclamation-triangle\" aria-hidden=\"true\"></i>\\n          <span class=\"sr-only\">Warning</span>\\n        </span>\\n        <span class=\"notification-bar__message\">Some features may not work without JavaScript. Please try enabling it if you encounter problems.</span>\\n      </div>\\n      </noscript>\\n\\n      \\n        <div data-html-include=\"/_includes/notification-banners/\">\\n        </div>\\n      \\n    </div>\\n\\n    \\n      <div data-html-include=\"/_includes/flash-messages/\">\\n      </div>\\n    \\n\\n    \\n\\n    \\n      <div data-html-include=\"/_includes/session-notifications/\">\\n      </div>\\n    \\n\\n    <header class=\"site-header \">\\n      <div class=\"site-container\">\\n        <div class=\"split-layout\">\\n          \\n<div>\\n  <a class=\"site-header__logo\" href=\"/\">\\n    <img alt=\"PyPI\" src=\"/static/images/logo-small.95de8436.svg\">\\n  </a>\\n</div>\\n\\n\\n          <div data-html-include=\"/_includes/current-user-indicator/\">\\n            <div id=\"user-indicator\" class=\"horizontal-menu horizontal-menu--light horizontal-menu--tall\">\\n  <nav class=\"horizontal-menu horizontal-menu--light horizontal-menu--tall hide-on-tablet\" aria-label=\"Main navigation\">\\n    <ul>\\n      <li class=\"horizontal-menu__item\"><a href=\"/help/\" class=\"horizontal-menu__link\">Help</a></li>\\n      <li class=\"horizontal-menu__item\"><a href=\"/sponsors/\" class=\"horizontal-menu__link\">Sponsors</a></li>\\n      <li class=\"horizontal-menu__item\"><a href=\"/account/login/\" class=\"horizontal-menu__link\">Log in</a></li>\\n      <li class=\"horizontal-menu__item\"><a href=\"/account/register/\" class=\"horizontal-menu__link\">Register</a></li>\\n    </ul>\\n  </nav>\\n  <nav class=\"dropdown dropdown--on-menu hidden show-on-tablet\" aria-label=\"Main navigation\">\\n    <button type=\"button\" class=\"horizontal-menu__link dropdown__trigger\" aria-haspopup=\"true\" aria-expanded=\"false\" aria-label=\"View menu\">\\n      Menu\\n      <span class=\"dropdown__trigger-caret\">\\n        <i class=\"fa fa-caret-down\" aria-hidden=\"true\"></i>\\n      </span>\\n    </button>\\n    <ul class=\"dropdown__content\" aria-hidden=\"true\" aria-label=\"Main menu\">\\n      <li><a class=\"dropdown__link\" href=\"/help/\">Help</a></li>\\n      <li><a class=\"dropdown__link\" href=\"/sponsors/\">Sponsors</a></li>\\n      <li><a class=\"dropdown__link\" href=\"/account/login/\">Log in</a></li>\\n      <li><a class=\"dropdown__link\" href=\"/account/register/\">Register</a></li>\\n    </ul>\\n  </nav>\\n</div>\\n          </div>\\n        </div>\\n      </div>\\n    </header>\\n\\n    \\n\\n    <main id=\"content\">\\n      \\n\\n\\n  \\n\\n\\n<div class=\"banner\">\\n  <div class=\"homepage-banner\">\\n    <h1 class=\"homepage-banner__title\">Find, install and publish Python packages with the Python Package Index</h1>\\n\\n    <form class=\"search-form search-form--large search-form--fullwidth\" action=\"/search/\" role=\"search\">\\n      <label for=\"search\" class=\"sr-only\">Search PyPI</label>\\n\\n      <!-- The following input is intentionally not autofocused, see https://github.com/pypa/warehouse/issues/6088 for more details -->\\n      <input id=\"search\" class=\"search-form__search large-input\" type=\"text\" name=\"q\" placeholder=\"Search projects\" autocomplete=\"off\" autocapitalize=\"off\" spellcheck=\"false\" data-controller=\"search-focus\" data-action=\"keydown@window->search-focus#focusSearchField\" data-target=\"search-focus.searchField\">\\n\\n      <button type=\"submit\" class=\"search-form__button\">\\n        <i class=\"fa fa-search\" aria-hidden=\"true\"></i>\\n        <span class=\"sr-only\">Search</span>\\n      </button>\\n    </form>\\n\\n    <p class=\"homepage-banner__browse\">Or <a href=\"/search/\">browse projects</a></p>\\n  </div>\\n</div>\\n\\n<div class=\"horizontal-section horizontal-section--grey horizontal-section--thin horizontal-section--statistics\">\\n  <div class=\"statistics-bar\">\\n    <p class=\"statistics-bar__statistic\">\\n    360,192 projects\\n    </p>\\n    <p class=\"statistics-bar__statistic\">\\n    3,268,863 releases\\n    </p>\\n    <p class=\"statistics-bar__statistic\">\\n    5,668,132 files\\n    </p>\\n    <p class=\"statistics-bar__statistic\">\\n    575,172 users\\n    </p>\\n  </div>\\n</div>\\n\\n<div class=\"horizontal-section\">\\n  <div class=\"about-pypi\">\\n    <div class=\"about-pypi__logo\">\\n      <img alt=\"\" src=\"/static/images/logo-large.6bdbb439.svg\">\\n    </div>\\n    <div class=\"about-pypi__text\">\\n      <p class=\"lede-paragraph\">The Python Package Index (PyPI) is a repository of software for the Python programming language.</p>\\n      <p>\\n        PyPI helps you find and install software developed and shared by the Python community.\\n        <a href=\"https://packaging.python.org/installing/\" title=\"External link\" target=\"_blank\" rel=\"noopener\">Learn about installing packages</a>.\\n      </p>\\n      <p>\\n        Package authors use PyPI to distribute their software.\\n        <a href=\"https://packaging.python.org/tutorials/packaging-projects/\" title=\"External link\" target=\"_blank\" rel=\"noopener\">Learn how to package your Python code for PyPI</a>.\\n      </p>\\n    </div>\\n  </div>\\n</div>\\n\\n<div class=\"horizontal-section horizontal-section--grey\">\\n  <div class=\"site-container\">\\n    <div class=\"col-half\">\\n      <div class=\"heading-wsubtitle\" id=\"pypi-trending-packages\">\\n        <h2 class=\"heading-wsubtitle__heading\">Trending projects</h2>\\n        <p class=\"heading-wsubtitle__subtitle\">Trending projects as downloaded by the community</p>\\n      </div>\\n      <ul class=\"unstyled\" aria-labelledby=\"pypi-trending-packages\">\\n        \\n          <li>\\n  <a class=\"package-snippet\" href=\"/project/wagtail-social-share/\" rel=\"nofollow\">\\n    <h3 class=\"package-snippet__title\">\\n      <span class=\"package-snippet__name\">wagtail-social-share</span>\\n      <span class=\"package-snippet__version\">0.1.4</span>\\n    </h3>\\n    <p class=\"package-snippet__description\">Auto-share Wagtail Pages on Social Medias</p>\\n  </a>\\n</li>\\n        \\n          <li>\\n  <a class=\"package-snippet\" href=\"/project/bainester/\" rel=\"nofollow\">\\n    <h3 class=\"package-snippet__title\">\\n      <span class=\"package-snippet__name\">bainester</span>\\n      <span class=\"package-snippet__version\">1.0.0</span>\\n    </h3>\\n    <p class=\"package-snippet__description\">a simple printer of nested list</p>\\n  </a>\\n</li>\\n        \\n          <li>\\n  <a class=\"package-snippet\" href=\"/project/kenlm-alphamoon/\" rel=\"nofollow\">\\n    <h3 class=\"package-snippet__title\">\\n      <span class=\"package-snippet__name\">kenlm-alphamoon</span>\\n      <span class=\"package-snippet__version\">0.0.0</span>\\n    </h3>\\n    <p class=\"package-snippet__description\"></p>\\n  </a>\\n</li>\\n        \\n          <li>\\n  <a class=\"package-snippet\" href=\"/project/slg-test-7/\" rel=\"nofollow\">\\n    <h3 class=\"package-snippet__title\">\\n      <span class=\"package-snippet__name\">slg-test-7</span>\\n      <span class=\"package-snippet__version\">1.0.3</span>\\n    </h3>\\n    <p class=\"package-snippet__description\">This is a description.</p>\\n  </a>\\n</li>\\n        \\n          <li>\\n  <a class=\"package-snippet\" href=\"/project/gitver/\" rel=\"nofollow\">\\n    <h3 class=\"package-snippet__title\">\\n      <span class=\"package-snippet__name\">gitver</span>\\n      <span class=\"package-snippet__version\">0.3.1</span>\\n    </h3>\\n    <p class=\"package-snippet__description\">Simple version string management for git</p>\\n  </a>\\n</li>\\n        \\n      </ul>\\n    </div>\\n    <div class=\"col-half\">\\n      <div class=\"heading-wsubtitle\" id=\"pypi-new-packages\">\\n        <h2 class=\"heading-wsubtitle__heading\">New releases</h2>\\n        <p class=\"heading-wsubtitle__subtitle\">Hot off the press: the newest project releases</p>\\n      </div>\\n      <ul class=\"unstyled\" aria-labelledby=\"pypi-new-packages\">\\n        \\n          <li>\\n  <a class=\"package-snippet\" href=\"/project/psock/\" rel=\"nofollow\">\\n    <h3 class=\"package-snippet__title\">\\n      <span class=\"package-snippet__name\">pSock</span>\\n      <span class=\"package-snippet__version\">1.0.2</span>\\n    </h3>\\n    <p class=\"package-snippet__description\">pSock is a socket / threading module that helps developers and students to approach Server-Client creation and much more.</p>\\n  </a>\\n</li>\\n        \\n          <li>\\n  <a class=\"package-snippet\" href=\"/project/glycomass/\" rel=\"nofollow\">\\n    <h3 class=\"package-snippet__title\">\\n      <span class=\"package-snippet__name\">glycomass</span>\\n      <span class=\"package-snippet__version\">2022.3.2</span>\\n    </h3>\\n    <p class=\"package-snippet__description\">Sugar analysis</p>\\n  </a>\\n</li>\\n        \\n          <li>\\n  <a class=\"package-snippet\" href=\"/project/cs-models/\" rel=\"nofollow\">\\n    <h3 class=\"package-snippet__title\">\\n      <span class=\"package-snippet__name\">cs-models</span>\\n      <span class=\"package-snippet__version\">0.0.355</span>\\n    </h3>\\n    <p class=\"package-snippet__description\">MySQL db models</p>\\n  </a>\\n</li>\\n        \\n          <li>\\n  <a class=\"package-snippet\" href=\"/project/bluepyopt/\" rel=\"nofollow\">\\n    <h3 class=\"package-snippet__title\">\\n      <span class=\"package-snippet__name\">bluepyopt</span>\\n      <span class=\"package-snippet__version\">1.11.47</span>\\n    </h3>\\n    <p class=\"package-snippet__description\">Bluebrain Python Optimisation Library (bluepyopt)</p>\\n  </a>\\n</li>\\n        \\n          <li>\\n  <a class=\"package-snippet\" href=\"/project/omero-iviewer/\" rel=\"nofollow\">\\n    <h3 class=\"package-snippet__title\">\\n      <span class=\"package-snippet__name\">omero-iviewer</span>\\n      <span class=\"package-snippet__version\">0.11.2</span>\\n    </h3>\\n    <p class=\"package-snippet__description\">A Python plugin for OMERO.web</p>\\n  </a>\\n</li>\\n        \\n      </ul>\\n    </div>\\n  </div>\\n</div>\\n\\n\\n    </main>\\n\\n    <footer class=\"footer\">\\n      <div class=\"footer__logo\">\\n        <img src=\"/static/images/white-cube.8c3a6fe9.svg\" alt=\"\" class=\"-js-white-cube\">\\n      </div>\\n\\n      <div class=\"footer__menus\">\\n        <div class=\"footer__menu\">\\n          <h2>Help</h2>\\n          <nav aria-label=\"Help navigation\">\\n            <ul>\\n              <li><a href=\"https://packaging.python.org/installing/\" title=\"External link\" target=\"_blank\" rel=\"noopener\">Installing packages</a></li>\\n              <li><a href=\"https://packaging.python.org/tutorials/packaging-projects/\" title=\"External link\" target=\"_blank\" rel=\"noopener\">Uploading packages</a></li>\\n              <li><a href=\"https://packaging.python.org/\" title=\"External link\" target=\"_blank\" rel=\"noopener\">User guide</a></li>\\n              <li><a href=\"/help/\">FAQs</a></li>\\n            </ul>\\n          </nav>\\n        </div>\\n\\n        <div class=\"footer__menu\">\\n          <h2>About PyPI</h2>\\n          <nav aria-label=\"About PyPI navigation\">\\n            <ul>\\n              <li><a href=\"https://twitter.com/PyPI\" title=\"External link\" target=\"_blank\" rel=\"noopener\">PyPI on Twitter</a></li>\\n              <li><a href=\"https://dtdg.co/pypi\" title=\"External link\" target=\"_blank\" rel=\"noopener\">Infrastructure dashboard</a></li>\\n              <li><a href=\"https://www.python.org/dev/peps/pep-0541/\" title=\"External link\" target=\"_blank\" rel=\"noopener\">Package index name retention</a></li>\\n              <li><a href=\"/sponsors/\">Our sponsors</a></li>\\n            </ul>\\n          </nav>\\n        </div>\\n\\n        <div class=\"footer__menu\">\\n          <h2>Contributing to PyPI</h2>\\n          <nav aria-label=\"How to contribute navigation\">\\n            <ul>\\n              <li><a href=\"/help/#feedback\">Bugs and feedback</a></li>\\n              <li><a href=\"https://github.com/pypa/warehouse\" title=\"External link\" target=\"_blank\" rel=\"noopener\">Contribute on GitHub</a></li>\\n              <li><a href=\"https://hosted.weblate.org/projects/pypa/warehouse/\" title=\"External link\" target=\"_blank\" rel=\"noopener\">Translate PyPI</a></li>\\n              <li><a href=\"https://github.com/pypa/warehouse/graphs/contributors\" title=\"External link\" target=\"_blank\" rel=\"noopener\">Development credits</a></li>\\n            </ul>\\n          </nav>\\n        </div>\\n\\n        <div class=\"footer__menu\">\\n          <h2>Using PyPI</h2>\\n          <nav aria-label=\"Using PyPI navigation\">\\n            <ul>\\n              <li><a href=\"https://github.com/pypa/.github/blob/main/CODE_OF_CONDUCT.md\" title=\"External link\" target=\"_blank\" rel=\"noopener\">Code of conduct</a></li>\\n              <li><a href=\"/security/\">Report security issue</a></li>\\n              <li><a href=\"https://www.python.org/privacy/\" title=\"External link\" target=\"_blank\" rel=\"noopener\">Privacy policy</a></li>\\n              <li><a href=\"/policy/terms-of-use/\">Terms of use</a></li>\\n            </ul>\\n          </nav>\\n        </div>\\n      </div>\\n\\n      <hr class=\"footer__divider\">\\n\\n      <div class=\"footer__text\">\\n        \\n        <p>Status: <a href=\"https://status.python.org/\" title=\"External link\" target=\"_blank\" rel=\"noopener\">\\n          <span data-statuspage-domain=\"https://2p66nmmycsj3.statuspage.io\">all systems operational</span></a>\\n        </p>\\n        \\n        <p>\\n          Developed and maintained by the Python community, for the Python community.\\n          <br>\\n          <a href=\"https://donate.pypi.org\">Donate today!</a>\\n        </p>\\n        <p>© 2022 <a href=\"https://www.python.org/psf/\" title=\"External link\" target=\"_blank\" rel=\"noopener\">Python Software Foundation</a><br>\\n          <a href=\"/sitemap/\">Site map</a>\\n        </p>\\n      </div>\\n\\n      <div class=\"centered hide-on-desktop\">\\n        <button type=\"button\" class=\"button button--switch-to-desktop hidden\" data-target=\"viewport-toggle.switchToDesktop\" data-action=\"viewport-toggle#switchToDesktop\">\\n          Switch to desktop version\\n        </button>\\n      </div>\\n    </footer>\\n\\n\\n    <div class=\"language-switcher\">\\n      <form action=\"/locale/\">\\n        <ul>\\n          \\n          <li>\\n            <button\\n              \\n              class=\"language-switcher__selected\"\\n              \\n              name=\"locale_id\" value=\"en\" type=\"submit\"\\n            >\\n              English\\n            </button>\\n          </li>\\n          \\n          <li>\\n            <button\\n              \\n              name=\"locale_id\" value=\"es\" type=\"submit\"\\n            >\\n              español\\n            </button>\\n          </li>\\n          \\n          <li>\\n            <button\\n              \\n              name=\"locale_id\" value=\"fr\" type=\"submit\"\\n            >\\n              français\\n            </button>\\n          </li>\\n          \\n          <li>\\n            <button\\n              \\n              name=\"locale_id\" value=\"ja\" type=\"submit\"\\n            >\\n              日本語\\n            </button>\\n          </li>\\n          \\n          <li>\\n            <button\\n              \\n              name=\"locale_id\" value=\"pt_BR\" type=\"submit\"\\n            >\\n              português (Brasil)\\n            </button>\\n          </li>\\n          \\n          <li>\\n            <button\\n              \\n              name=\"locale_id\" value=\"uk\" type=\"submit\"\\n            >\\n              українська\\n            </button>\\n          </li>\\n          \\n          <li>\\n            <button\\n              \\n              name=\"locale_id\" value=\"el\" type=\"submit\"\\n            >\\n              Ελληνικά\\n            </button>\\n          </li>\\n          \\n          <li>\\n            <button\\n              \\n              name=\"locale_id\" value=\"de\" type=\"submit\"\\n            >\\n              Deutsch\\n            </button>\\n          </li>\\n          \\n          <li>\\n            <button\\n              \\n              name=\"locale_id\" value=\"zh_Hans\" type=\"submit\"\\n            >\\n              中文 (简体)\\n            </button>\\n          </li>\\n          \\n          <li>\\n            <button\\n              \\n              name=\"locale_id\" value=\"zh_Hant\" type=\"submit\"\\n            >\\n              中文 (繁體)\\n            </button>\\n          </li>\\n          \\n          <li>\\n            <button\\n              \\n              name=\"locale_id\" value=\"ru\" type=\"submit\"\\n            >\\n              русский\\n            </button>\\n          </li>\\n          \\n          <li>\\n            <button\\n              \\n              name=\"locale_id\" value=\"he\" type=\"submit\"\\n            >\\n              עברית\\n            </button>\\n          </li>\\n          \\n          <li>\\n            <button\\n              \\n              name=\"locale_id\" value=\"eo\" type=\"submit\"\\n            >\\n              esperanto\\n            </button>\\n          </li>\\n          \\n        </ul>\\n      </form>\\n    </div>\\n\\n\\n    <div class=\"sponsors\">\\n  <p class=\"sponsors__title\">Supported by</p>\\n  \\n    \\n    \\n  \\n    \\n    \\n  \\n    \\n    \\n  \\n    \\n    \\n  \\n    \\n    \\n  \\n    \\n    \\n  \\n    \\n    \\n      \\n      \\n        <a class=\"sponsors__sponsor\" target=\"_blank\" rel=\"noopener\" href=\"https://aws.amazon.com/\">\\n          <img class=sponsors__image src=\"https://warehouse-camo.ingress.cmh1.psfhosted.org/ed7074cadad1a06f56bc520ad9bd3e00d0704c5b/68747470733a2f2f73746f726167652e676f6f676c65617069732e636f6d2f707970692d6173736574732f73706f6e736f726c6f676f732f6177732d77686974652d6c6f676f2d7443615473387a432e706e67\" alt=AWS>\\n          <span class=\"sponsors__name\">AWS</span>\\n          <span class=\"sponsors__service\">\\n          \\n          \\n            Cloud computing\\n          \\n          </span>\\n        </a>\\n      \\n    \\n  \\n    \\n    \\n  \\n    \\n    \\n      \\n      \\n    \\n  \\n    \\n    \\n  \\n    \\n    \\n  \\n    \\n    \\n  \\n    \\n    \\n  \\n    \\n    \\n  \\n    \\n    \\n      \\n      \\n    \\n  \\n    \\n    \\n  \\n    \\n    \\n      \\n      \\n    \\n  \\n    \\n    \\n  \\n    \\n    \\n  \\n    \\n    \\n  \\n    \\n    \\n      \\n      \\n        <a class=\"sponsors__sponsor\" target=\"_blank\" rel=\"noopener\" href=\"https://www.datadoghq.com/\">\\n          <img class=sponsors__image src=\"https://warehouse-camo.ingress.cmh1.psfhosted.org/8855f7c063a3bdb5b0ce8d91bfc50cf851cc5c51/68747470733a2f2f73746f726167652e676f6f676c65617069732e636f6d2f707970692d6173736574732f73706f6e736f726c6f676f732f64617461646f672d77686974652d6c6f676f2d6668644c4e666c6f2e706e67\" alt=Datadog>\\n          <span class=\"sponsors__name\">Datadog</span>\\n          <span class=\"sponsors__service\">\\n          \\n          \\n            Monitoring\\n          \\n          </span>\\n        </a>\\n      \\n    \\n  \\n    \\n    \\n  \\n    \\n    \\n      \\n      \\n    \\n  \\n    \\n    \\n      \\n      \\n        <a class=\"sponsors__sponsor\" target=\"_blank\" rel=\"noopener\" href=\"https://research.fb.com/\">\\n          <img class=sponsors__image src=\"https://warehouse-camo.ingress.cmh1.psfhosted.org/e338a8302eed851d9793e0a4a92f57b315eb5998/68747470733a2f2f73746f726167652e676f6f676c65617069732e636f6d2f707970692d6173736574732f73706f6e736f726c6f676f732f66616365626f6f6b2d696e7374616772616d2d77686974652d6c6f676f2d6750686a57647a722e706e67\" alt=\"Facebook / Instagram\">\\n          <span class=\"sponsors__name\">Facebook / Instagram</span>\\n          <span class=\"sponsors__service\">\\n          \\n          \\n            PSF Sponsor\\n          \\n          </span>\\n        </a>\\n      \\n    \\n  \\n    \\n    \\n      \\n      \\n        <a class=\"sponsors__sponsor\" target=\"_blank\" rel=\"noopener\" href=\"https://www.fastly.com/\">\\n          <img class=sponsors__image src=\"https://warehouse-camo.ingress.cmh1.psfhosted.org/df6fe8829cbff2d7f668d98571df1fd011f36192/68747470733a2f2f73746f726167652e676f6f676c65617069732e636f6d2f707970692d6173736574732f73706f6e736f726c6f676f732f666173746c792d77686974652d6c6f676f2d65684d3077735f6f2e706e67\" alt=Fastly>\\n          <span class=\"sponsors__name\">Fastly</span>\\n          <span class=\"sponsors__service\">\\n          \\n          \\n            CDN\\n          \\n          </span>\\n        </a>\\n      \\n    \\n  \\n    \\n    \\n  \\n    \\n    \\n      \\n      \\n        <a class=\"sponsors__sponsor\" target=\"_blank\" rel=\"noopener\" href=\"https://careers.google.com/\">\\n          <img class=sponsors__image src=\"https://warehouse-camo.ingress.cmh1.psfhosted.org/420cc8cf360bac879e24c923b2f50ba7d1314fb0/68747470733a2f2f73746f726167652e676f6f676c65617069732e636f6d2f707970692d6173736574732f73706f6e736f726c6f676f732f676f6f676c652d77686974652d6c6f676f2d616734424e3774332e706e67\" alt=Google>\\n          <span class=\"sponsors__name\">Google</span>\\n          <span class=\"sponsors__service\">\\n          \\n          \\n            Object Storage and Download Analytics\\n          \\n          </span>\\n        </a>\\n      \\n    \\n  \\n    \\n    \\n  \\n    \\n    \\n      \\n      \\n        <a class=\"sponsors__sponsor\" target=\"_blank\" rel=\"noopener\" href=\"https://www.python.org/psf/sponsors/#huawei\">\\n          <img class=sponsors__image src=\"https://warehouse-camo.ingress.cmh1.psfhosted.org/656ae2011c837dba1e2de4c8f85815eed86c0878/68747470733a2f2f73746f726167652e676f6f676c65617069732e636f6d2f707970692d6173736574732f73706f6e736f726c6f676f732f6875617765692d77686974652d6c6f676f2d416a465f553652312e706e67\" alt=Huawei>\\n          <span class=\"sponsors__name\">Huawei</span>\\n          <span class=\"sponsors__service\">\\n          \\n          \\n            PSF Sponsor\\n          \\n          </span>\\n        </a>\\n      \\n    \\n  \\n    \\n    \\n  \\n    \\n    \\n  \\n    \\n    \\n      \\n      \\n    \\n  \\n    \\n    \\n  \\n    \\n    \\n  \\n    \\n    \\n  \\n    \\n    \\n  \\n    \\n    \\n      \\n      \\n        <a class=\"sponsors__sponsor\" target=\"_blank\" rel=\"noopener\" href=\"https://www.python.org/psf/sponsors/#microsoft\">\\n          <img class=sponsors__image src=\"https://warehouse-camo.ingress.cmh1.psfhosted.org/524d1ce72f7772294ca4c1fe05d21dec8fa3f8ea/68747470733a2f2f73746f726167652e676f6f676c65617069732e636f6d2f707970692d6173736574732f73706f6e736f726c6f676f732f6d6963726f736f66742d77686974652d6c6f676f2d5a443172685444462e706e67\" alt=Microsoft>\\n          <span class=\"sponsors__name\">Microsoft</span>\\n          <span class=\"sponsors__service\">\\n          \\n          \\n            PSF Sponsor\\n          \\n          </span>\\n        </a>\\n      \\n    \\n  \\n    \\n    \\n  \\n    \\n    \\n  \\n    \\n    \\n  \\n    \\n    \\n      \\n      \\n        <a class=\"sponsors__sponsor\" target=\"_blank\" rel=\"noopener\" href=\"https://www.python.org/psf/sponsors/#nvidia\">\\n          <img class=sponsors__image src=\"https://warehouse-camo.ingress.cmh1.psfhosted.org/19eae9e26a9a9ffacc134095642b1392737c58fb/68747470733a2f2f73746f726167652e676f6f676c65617069732e636f6d2f707970692d6173736574732f73706f6e736f726c6f676f732f6e76696469612d77686974652d6c6f676f2d46394c393761474c2e706e67\" alt=NVIDIA>\\n          <span class=\"sponsors__name\">NVIDIA</span>\\n          <span class=\"sponsors__service\">\\n          \\n          \\n            PSF Sponsor\\n          \\n          </span>\\n        </a>\\n      \\n    \\n  \\n    \\n    \\n  \\n    \\n    \\n  \\n    \\n    \\n  \\n    \\n    \\n      \\n      \\n        <a class=\"sponsors__sponsor\" target=\"_blank\" rel=\"noopener\" href=\"https://www.pingdom.com/\">\\n          <img class=sponsors__image src=\"https://warehouse-camo.ingress.cmh1.psfhosted.org/d01053c02f3a626b73ffcb06b96367fdbbf9e230/68747470733a2f2f73746f726167652e676f6f676c65617069732e636f6d2f707970692d6173736574732f73706f6e736f726c6f676f732f70696e67646f6d2d77686974652d6c6f676f2d67355831547546362e706e67\" alt=Pingdom>\\n          <span class=\"sponsors__name\">Pingdom</span>\\n          <span class=\"sponsors__service\">\\n          \\n          \\n            Monitoring\\n          \\n          </span>\\n        </a>\\n      \\n    \\n  \\n    \\n    \\n  \\n    \\n    \\n  \\n    \\n    \\n  \\n    \\n    \\n  \\n    \\n    \\n  \\n    \\n    \\n  \\n    \\n    \\n  \\n    \\n    \\n  \\n    \\n    \\n  \\n    \\n    \\n  \\n    \\n    \\n      \\n      \\n        <a class=\"sponsors__sponsor\" target=\"_blank\" rel=\"noopener\" href=\"https://opensource.salesforce.com/\">\\n          <img class=sponsors__image src=\"https://warehouse-camo.ingress.cmh1.psfhosted.org/932f54a6c688f0bbc0e2f4e7b7dc5c067eed6c55/68747470733a2f2f73746f726167652e676f6f676c65617069732e636f6d2f707970692d6173736574732f73706f6e736f726c6f676f732f73616c6573666f7263652d77686974652d6c6f676f2d4539677a3053782d2e706e67\" alt=Salesforce>\\n          <span class=\"sponsors__name\">Salesforce</span>\\n          <span class=\"sponsors__service\">\\n          \\n          \\n            PSF Sponsor\\n          \\n          </span>\\n        </a>\\n      \\n    \\n  \\n    \\n    \\n  \\n    \\n    \\n      \\n      \\n        <a class=\"sponsors__sponsor\" target=\"_blank\" rel=\"noopener\" href=\"https://getsentry.com/for/python\">\\n          <img class=sponsors__image src=\"https://warehouse-camo.ingress.cmh1.psfhosted.org/b1dc2c04aa1a8efbacd6dc6254bb63429af47b41/68747470733a2f2f73746f726167652e676f6f676c65617069732e636f6d2f707970692d6173736574732f73706f6e736f726c6f676f732f73656e7472792d77686974652d6c6f676f2d31556836754c32452e706e67\" alt=Sentry>\\n          <span class=\"sponsors__name\">Sentry</span>\\n          <span class=\"sponsors__service\">\\n          \\n          \\n            Error logging\\n          \\n          </span>\\n        </a>\\n      \\n    \\n  \\n    \\n    \\n  \\n    \\n    \\n  \\n    \\n    \\n  \\n    \\n    \\n  \\n    \\n    \\n  \\n    \\n    \\n      \\n      \\n        <a class=\"sponsors__sponsor\" target=\"_blank\" rel=\"noopener\" href=\"https://statuspage.io\">\\n          <img class=sponsors__image src=\"https://warehouse-camo.ingress.cmh1.psfhosted.org/b611884ff90435a0575dbab7d9b0d3e60f136466/68747470733a2f2f73746f726167652e676f6f676c65617069732e636f6d2f707970692d6173736574732f73706f6e736f726c6f676f732f737461747573706167652d77686974652d6c6f676f2d5467476c6a4a2d502e706e67\" alt=StatusPage>\\n          <span class=\"sponsors__name\">StatusPage</span>\\n          <span class=\"sponsors__service\">\\n          \\n          \\n            Status page\\n          \\n          </span>\\n        </a>\\n      \\n    \\n  \\n    \\n    \\n  \\n    \\n    \\n  \\n    \\n    \\n  \\n    \\n    \\n  \\n    \\n    \\n  \\n</div>\\n\\n    \\n  </body>\\n\\n</html>'"
      ]
     },
     "execution_count": 109,
     "metadata": {},
     "output_type": "execute_result"
    }
   ],
   "source": [
    "# contoh pemakaian package requests\n",
    "halaman_pypi.text"
   ]
  },
  {
   "cell_type": "code",
   "execution_count": null,
   "metadata": {},
   "outputs": [],
   "source": []
  }
 ],
 "metadata": {
  "kernelspec": {
   "display_name": "Python 3 (ipykernel)",
   "language": "python",
   "name": "python3"
  },
  "language_info": {
   "codemirror_mode": {
    "name": "ipython",
    "version": 3
   },
   "file_extension": ".py",
   "mimetype": "text/x-python",
   "name": "python",
   "nbconvert_exporter": "python",
   "pygments_lexer": "ipython3",
   "version": "3.8.5"
  }
 },
 "nbformat": 4,
 "nbformat_minor": 4
}
