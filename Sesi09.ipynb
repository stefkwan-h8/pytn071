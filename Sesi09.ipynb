{
 "cells": [
  {
   "cell_type": "markdown",
   "id": "826fa235-cd3d-42b3-b3ca-946571ee965d",
   "metadata": {},
   "source": [
    "# Descriptive Statistics\n",
    "Menggunakan statistik untuk merangkum dan mendeskripsikan sebuah data\n",
    "\n",
    "## Terminologi\n",
    "- dataset: sekumpulan data\n",
    "- population: seluruh data yang bersangkutan dengan yang kita cari. contohnya jika kita cari tinggi badan orang Semarang, maka populasi adalah serluruh orang Semarang - termasuk pria, wanita, bayi, ortu, yang lagi tinggail diluar, yang lagi di Indonesia, \n",
    "- sample: sebagian dari population. Diusahakan sample nya tidak berat ke suatu sub-population tertentu (misalnya di Semarang tadi hanya mengumpulkan data orang pria yang di kampus A)\n",
    "- outlier: data yang beda nya jauh dari \"tengah\" data kita\n",
    "\n",
    "# Central Tendency\n",
    "\"Tengah\" datanya ada dimana\n",
    "- mean\n",
    "- median\n",
    "- mode\n",
    "\n",
    "# Spread\n",
    "Seberapa tersebar dari tengah datanya\n",
    "- variance\n",
    "- standard deviation. namanya sample pasti lebih tidak akurat daripada population, jadi pembaginya kita kurangi 1. population pembaginya tidak dikurangi.\n",
    "- range. perbedaan nilai max dan min\n",
    "- percentile. titik % ke berapa di data kita, misalkan top 10% berarti percentil ke 90. misalkan data di tengah seluruh data berarti percentile ke 50, Quartile 2, median.\n",
    "- quartile. percentile yang punya nama2 spesial:\n",
    "    - percentile ke-25, Quartile ke-1\n",
    "    - percentile ke-50, Quartile ke-2, Median\n",
    "    - percentile ke-75, Quartile ke-3\n",
    "- inter-quartile range (nilai Q3 - Q1)\n",
    "    - note: semua data yang ada di atas Q3 + 1.5IQR adalah outlier. data yang ada di bawah Q1 - 1.5IQR juga outlier.\n",
    "- skewness\n",
    "- kurtosis\n",
    "\n",
    "# Correlation\n",
    "Apakah ada hubungannya satu set data dengan set data lainnya   \n",
    "contoh: apakah ada hubunganya tinggi dan berat badan data orang Semarang?\n",
    "- iya, ada hubungan, hubungannya seperti apa?\n",
    "    - positif, semakin tinggi semakin berat orangnya\n",
    "    - negatif, semakin tinggi, semakin enteng orangnya\n",
    "- tidak\n",
    "\n",
    "Angka correlation coefficient r menunjukkan jawaban dari pertanyaan tersebut:\n",
    "- saat r > 0, positif\n",
    "- saat r = 0, tidak ada hubungan\n",
    "- saat r < 0, negatif\n",
    "\n",
    "r ada di antara -1 dan 1 nilainya. jadi r = -1 itu korelasi negatif yang maksimal. r = 1 korelasi positif yang maksimal.\n"
   ]
  },
  {
   "cell_type": "code",
   "execution_count": 110,
   "id": "a7b0c620-25d5-4e98-82d0-ea3cfb31702b",
   "metadata": {},
   "outputs": [],
   "source": [
    "# cara hitungnya di python\n",
    "\n",
    "# import package\n",
    "import math\n",
    "import statistics\n",
    "import numpy as np\n",
    "import scipy.stats\n",
    "import pandas as pd\n",
    "\n",
    "# untuk visualisasi\n",
    "%matplotlib inline\n",
    "import matplotlib as mpl\n",
    "import matplotlib.pyplot as plt\n",
    "mpl.style.use(['ggplot'])"
   ]
  },
  {
   "cell_type": "code",
   "execution_count": 2,
   "id": "0fe3d019-7e83-4925-b4d0-ecabe9cb5c36",
   "metadata": {},
   "outputs": [
    {
     "name": "stdout",
     "output_type": "stream",
     "text": [
      "<class 'list'> <class 'numpy.ndarray'> <class 'pandas.core.series.Series'>\n"
     ]
    }
   ],
   "source": [
    "# membuat dummy data\n",
    "x = [8.0, 1, 2.5, 4, 28.0]\n",
    "x_nan = [8.0, 1, 2.5, math.nan, 4, 28.0]\n",
    "\n",
    "# versi numpy\n",
    "y = np.array(x)\n",
    "y_nan = np.array(x_nan)\n",
    "\n",
    "# versi Pandas Series\n",
    "z = pd.Series(x)\n",
    "z_nan = pd.Series(x_nan)\n",
    "\n",
    "print(type(x), type(y), type(z))"
   ]
  },
  {
   "cell_type": "markdown",
   "id": "f5be41df-3855-4794-8384-fac4c58bd2c9",
   "metadata": {},
   "source": [
    "# Central Tendency\n",
    "1. Mean\n",
    "2. Median\n",
    "3. Mode"
   ]
  },
  {
   "cell_type": "markdown",
   "id": "8e4ef53a-4202-4973-94e9-712a874302ee",
   "metadata": {},
   "source": [
    "## Mean"
   ]
  },
  {
   "cell_type": "code",
   "execution_count": 3,
   "id": "ee058d12-29dd-4f62-8e47-b0966a175b5a",
   "metadata": {},
   "outputs": [
    {
     "data": {
      "text/plain": [
       "8.7"
      ]
     },
     "execution_count": 3,
     "metadata": {},
     "output_type": "execute_result"
    }
   ],
   "source": [
    "# hitung satu satu, jangan lakukan ini\n",
    "(8 + 1 + 2.5 + 4 +28) / 5"
   ]
  },
  {
   "cell_type": "code",
   "execution_count": 4,
   "id": "8e3303e1-749c-444c-b2c1-e0654aa52942",
   "metadata": {},
   "outputs": [
    {
     "data": {
      "text/plain": [
       "8.7"
      ]
     },
     "execution_count": 4,
     "metadata": {},
     "output_type": "execute_result"
    }
   ],
   "source": [
    "# menggunakan python basic\n",
    "sum(x) / len(x)"
   ]
  },
  {
   "cell_type": "code",
   "execution_count": 11,
   "id": "5946323a-b8a1-4676-9406-29504327e04f",
   "metadata": {},
   "outputs": [
    {
     "name": "stdout",
     "output_type": "stream",
     "text": [
      "8.7\n",
      "8.7\n"
     ]
    }
   ],
   "source": [
    "# pakai numpy\n",
    "print(y.mean())\n",
    "print(np.mean(y))"
   ]
  },
  {
   "cell_type": "code",
   "execution_count": 6,
   "id": "44934d9f-9515-4b5b-959c-ba2615e90b57",
   "metadata": {},
   "outputs": [
    {
     "data": {
      "text/plain": [
       "8.7"
      ]
     },
     "execution_count": 6,
     "metadata": {},
     "output_type": "execute_result"
    }
   ],
   "source": [
    "# pakai pandas\n",
    "z.mean()"
   ]
  },
  {
   "cell_type": "code",
   "execution_count": 14,
   "id": "1d65c70b-e476-4698-92a4-60d3059cbbc5",
   "metadata": {},
   "outputs": [
    {
     "data": {
      "text/plain": [
       "8.7"
      ]
     },
     "execution_count": 14,
     "metadata": {},
     "output_type": "execute_result"
    }
   ],
   "source": [
    "# pakai package statistics\n",
    "statistics.mean(x)"
   ]
  },
  {
   "cell_type": "code",
   "execution_count": 18,
   "id": "0ec20a60-7036-409f-bffb-5d131e46e30e",
   "metadata": {},
   "outputs": [
    {
     "name": "stdout",
     "output_type": "stream",
     "text": [
      "Untuk data yang ada missing value nya\n",
      "nan\n",
      "nan\n",
      "numpy pakai nanmean bisa 8.7\n",
      "pandas bisa 8.7\n",
      "nan\n"
     ]
    }
   ],
   "source": [
    "# bagaimana kalau datanya ada yang missing value, NaN?\n",
    "print(\"Untuk data yang ada missing value nya\")\n",
    "# menggunakan python basic\n",
    "print(sum(x_nan) / len(x_nan))\n",
    "\n",
    "# pakai numpy\n",
    "print(y_nan.mean())\n",
    "print(\"numpy pakai nanmean bisa\", np.nanmean(y_nan))\n",
    "\n",
    "# pakai pandas\n",
    "print(\"pandas bisa\", z_nan.mean())\n",
    "\n",
    "# pakai statistics\n",
    "print(statistics.mean(x_nan))"
   ]
  },
  {
   "cell_type": "markdown",
   "id": "ae30f614-cd33-4895-94cf-28f4e77d3c7c",
   "metadata": {},
   "source": [
    "## Weighted Mean\n",
    "bagaimana saat data kita bobot nya beda beda? cari weighted mean menggunakan apa?\n",
    "- numpy.average"
   ]
  },
  {
   "cell_type": "code",
   "execution_count": 24,
   "id": "d8a17cb3-c2f9-4a49-88b9-57918d1d0f84",
   "metadata": {},
   "outputs": [
    {
     "name": "stdout",
     "output_type": "stream",
     "text": [
      "[ 8.   1.   2.5  4.  28. ]\n",
      "[0.1 0.1 0.1 0.1 0.6]\n"
     ]
    }
   ],
   "source": [
    "print(y)\n",
    "bobot = np.array([0.1, 0.1, 0.1, 0.1, 0.6])\n",
    "print(bobot)"
   ]
  },
  {
   "cell_type": "code",
   "execution_count": 25,
   "id": "6cdda69e-292f-4528-b1b1-a6ae6b462b69",
   "metadata": {},
   "outputs": [
    {
     "data": {
      "text/plain": [
       "18.35"
      ]
     },
     "execution_count": 25,
     "metadata": {},
     "output_type": "execute_result"
    }
   ],
   "source": [
    "# gunakan numpy average, berikan bobot dengan opsi weights\n",
    "np.average(y, weights=bobot)"
   ]
  },
  {
   "cell_type": "markdown",
   "id": "63ffed07-f1b3-43c4-b4d2-505b371faa4b",
   "metadata": {},
   "source": [
    "## Harmonic Mean\n",
    "saat data kita ada outlier, kita bisa pakai teknik ini untuk mendapatkan rata-rata yang lebih mendekati data aslinya\n",
    "\n",
    "misalnya di sebuah perusahaan ada 4 karyawan. ada CEO dengan gaji 100jt, ada 3 karyawan lain dengan gaji 3,4,5 juta. berapa rata2 gaji di perusahaan ini?"
   ]
  },
  {
   "cell_type": "code",
   "execution_count": 26,
   "id": "97e5378c-53ea-49bd-a2c7-078d7d55593f",
   "metadata": {},
   "outputs": [
    {
     "name": "stdout",
     "output_type": "stream",
     "text": [
      "28.0\n"
     ]
    }
   ],
   "source": [
    "gaji = np.array([3,4,5,100])\n",
    "\n",
    "print(gaji.mean())"
   ]
  },
  {
   "cell_type": "code",
   "execution_count": 27,
   "id": "bc8c99c9-1960-4813-af59-9bc37288d763",
   "metadata": {},
   "outputs": [
    {
     "data": {
      "text/plain": [
       "5.042016806722689"
      ]
     },
     "execution_count": 27,
     "metadata": {},
     "output_type": "execute_result"
    }
   ],
   "source": [
    "# gunakan statistics untuk cari harmonic mean\n",
    "statistics.harmonic_mean(gaji)"
   ]
  },
  {
   "cell_type": "code",
   "execution_count": 28,
   "id": "33cfcdfc-cc05-4a1b-8f60-5a296c770e8b",
   "metadata": {},
   "outputs": [
    {
     "data": {
      "text/plain": [
       "5.04201680672269"
      ]
     },
     "execution_count": 28,
     "metadata": {},
     "output_type": "execute_result"
    }
   ],
   "source": [
    "# scipy stats juga punya fungsi harmonic mean\n",
    "scipy.stats.hmean(gaji)"
   ]
  },
  {
   "cell_type": "markdown",
   "id": "09add352-0b6a-4cdf-a5b7-0e48ae4896fd",
   "metadata": {},
   "source": [
    "# Geometric Mean\n",
    "bagaimana kalau kita mau cari rata2 dari data yang unit nya berbeda.   \n",
    "misalkan kita mau beli Camera, ada dua seller yang kita pertimbangkan.   \n",
    "- seller A dengan 1011 reviews, dan rating 4.5/5 \n",
    "- seller B dengan 2002 reviews, dan rating 4.2/5"
   ]
  },
  {
   "cell_type": "code",
   "execution_count": 29,
   "id": "1c30cc11-dc8e-48f2-81b7-a3a6f5628f8e",
   "metadata": {},
   "outputs": [
    {
     "name": "stdout",
     "output_type": "stream",
     "text": [
      "seller A gmean: 30.164548728598618\n",
      "seller B gmean: 41.00829184445507\n"
     ]
    }
   ],
   "source": [
    "sellerA = [1011,4.5/5]\n",
    "sellerB = [2002,4.2/5]\n",
    "\n",
    "# pakai scipy stats untuk cari geometric mean nya\n",
    "print(\"seller A gmean:\", scipy.stats.gmean(sellerA))\n",
    "print(\"seller B gmean:\", scipy.stats.gmean(sellerB))"
   ]
  },
  {
   "cell_type": "markdown",
   "id": "242dffbd-4541-48dc-aa43-f4bbd0e96f40",
   "metadata": {},
   "source": [
    "# Median\n",
    "mencari titik tengah ke 50% sebuah value yang nilainya lebih tinggi dari 50% data lainnya di dataset tersebut"
   ]
  },
  {
   "cell_type": "code",
   "execution_count": 39,
   "id": "c0d0e626-417f-4569-a33d-4d02c3a84af0",
   "metadata": {},
   "outputs": [
    {
     "name": "stdout",
     "output_type": "stream",
     "text": [
      "[ 1.   2.5  4.   8.  28. ]\n",
      "statistics\n",
      "4\n",
      "4\n",
      "4\n",
      "numpy\n",
      "4.0\n",
      "pandas\n",
      "4.0\n"
     ]
    }
   ],
   "source": [
    "print(np.sort(x))\n",
    "\n",
    "# pakai statistics\n",
    "print(\"statistics\")\n",
    "print(statistics.median_low(x))\n",
    "print(statistics.median(x))\n",
    "print(statistics.median_high(x))\n",
    "\n",
    "# pakai numpy\n",
    "print(\"numpy\")\n",
    "print(np.median(y))\n",
    "\n",
    "# pakai pandas\n",
    "print(\"pandas\")\n",
    "print(z.median())"
   ]
  },
  {
   "cell_type": "code",
   "execution_count": 40,
   "id": "496dbb46-bcb1-4272-bdbb-0a2a0d6da1a8",
   "metadata": {},
   "outputs": [
    {
     "name": "stdout",
     "output_type": "stream",
     "text": [
      "[1, 2, 3, 4, 5, 6]\n",
      "statistics\n",
      "3\n",
      "3.5\n",
      "4\n",
      "numpy\n",
      "3.5\n",
      "pandas\n",
      "3.5\n"
     ]
    }
   ],
   "source": [
    "x2 = [1,2,3,4,5,6]\n",
    "y2 = np.array(x2)\n",
    "z2 = pd.Series(x2)\n",
    "print(x2)\n",
    "\n",
    "# pakai statistics\n",
    "print(\"statistics\")\n",
    "print(statistics.median_low(x2))\n",
    "print(statistics.median(x2))\n",
    "print(statistics.median_high(x2))\n",
    "\n",
    "# pakai numpy\n",
    "print(\"numpy\")\n",
    "print(np.median(y2))\n",
    "\n",
    "# pakai pandas\n",
    "print(\"pandas\")\n",
    "print(z2.median())"
   ]
  },
  {
   "cell_type": "markdown",
   "id": "aab332b4-f494-4fab-9f0f-b7f5f17a6c27",
   "metadata": {},
   "source": [
    "# Mode\n",
    "mencari data yang paling sering muncul"
   ]
  },
  {
   "cell_type": "code",
   "execution_count": 41,
   "id": "a4ff300f-3af0-44e9-9cf4-f6d45e2d65e1",
   "metadata": {},
   "outputs": [
    {
     "name": "stdout",
     "output_type": "stream",
     "text": [
      "[ 2  2  3  8 12]\n",
      "[12 12 12 15 15 15 21]\n"
     ]
    }
   ],
   "source": [
    "# buat dummy data\n",
    "u = [2, 3, 2, 8, 12]\n",
    "v = [12, 15, 12, 15, 21, 15, 12]\n",
    "\n",
    "print(np.sort(u))\n",
    "print(np.sort(v))"
   ]
  },
  {
   "cell_type": "code",
   "execution_count": 47,
   "id": "6f736dd5-b00a-4d8a-ba55-f4c7ff503eb4",
   "metadata": {},
   "outputs": [
    {
     "name": "stdout",
     "output_type": "stream",
     "text": [
      "2\n",
      "12\n",
      "ModeResult(mode=array([2]), count=array([2]))\n",
      "ModeResult(mode=array([12]), count=array([3]))\n",
      "0    2\n",
      "dtype: int64\n",
      "0    12\n",
      "1    15\n",
      "dtype: int64\n"
     ]
    }
   ],
   "source": [
    "# statistics\n",
    "print(statistics.mode(u))\n",
    "print(statistics.mode(v))\n",
    "\n",
    "# scipy stats\n",
    "print(scipy.stats.mode(u))\n",
    "print(scipy.stats.mode(v))\n",
    "\n",
    "# pandas\n",
    "us = pd.Series(u)\n",
    "vs = pd.Series(v)\n",
    "print(us.mode())\n",
    "print(vs.mode())"
   ]
  },
  {
   "cell_type": "code",
   "execution_count": 46,
   "id": "e2a2e89f-f3d5-4875-aa92-09b3d191e40f",
   "metadata": {},
   "outputs": [
    {
     "name": "stdout",
     "output_type": "stream",
     "text": [
      "mode 2\n",
      "angka mode muncul berapa kali 2\n"
     ]
    }
   ],
   "source": [
    "# dari scipy stats mau ambil mode saja, atau count saja\n",
    "hasil = scipy.stats.mode(u)\n",
    "\n",
    "print(\"mode\", hasil.mode[0])\n",
    "print(\"angka mode muncul berapa kali\", hasil.count[0])"
   ]
  },
  {
   "cell_type": "markdown",
   "id": "36b70f4e-6e69-40e4-a4e5-663746d54480",
   "metadata": {},
   "source": [
    "### latihan: diberikan data berikut, cari mean, median, dan mode nya\n",
    "`data = [50,70,80,-15,3.5,7]`"
   ]
  },
  {
   "cell_type": "code",
   "execution_count": 49,
   "id": "676e5929-22e1-4f06-a5fd-cacb266f4013",
   "metadata": {},
   "outputs": [
    {
     "name": "stdout",
     "output_type": "stream",
     "text": [
      "32.583333333333336\n",
      "28.5\n",
      "-15.0\n"
     ]
    }
   ],
   "source": [
    "data = [50,70,80,-15,3.5,7]\n",
    "\n",
    "# pakai statistics dan scipy stats\n",
    "print(statistics.mean(data))\n",
    "print(statistics.median(data))\n",
    "print(scipy.stats.mode(data).mode[0])"
   ]
  },
  {
   "cell_type": "markdown",
   "id": "f1510e4c-491c-4bda-bd2f-ad210a037073",
   "metadata": {},
   "source": [
    "# Measure of Spread / Variability\n",
    "- variance\n",
    "- standard deviation\n",
    "- range\n",
    "- percentile dan quartile\n",
    "- inter-quartile range\n",
    "- skewness\n",
    "- kurtosis"
   ]
  },
  {
   "cell_type": "code",
   "execution_count": 50,
   "id": "f1ec1fe8-a582-4c7f-ba3d-81164acdd777",
   "metadata": {},
   "outputs": [
    {
     "name": "stdout",
     "output_type": "stream",
     "text": [
      "[8.0, 1, 2.5, 4, 28.0]\n"
     ]
    }
   ],
   "source": [
    "# siapin data\n",
    "print(x)"
   ]
  },
  {
   "cell_type": "markdown",
   "id": "5c004e04-cdff-4e78-91ff-b06abdf7f6cc",
   "metadata": {},
   "source": [
    "## Variance"
   ]
  },
  {
   "cell_type": "code",
   "execution_count": 56,
   "id": "17dac068-9538-4c54-b6c1-337ba3592f71",
   "metadata": {},
   "outputs": [
    {
     "data": {
      "text/plain": [
       "123.2"
      ]
     },
     "execution_count": 56,
     "metadata": {},
     "output_type": "execute_result"
    }
   ],
   "source": [
    "# pakai statistics, sudah berasumsi ini adalah data sample\n",
    "statistics.variance(x)"
   ]
  },
  {
   "cell_type": "code",
   "execution_count": 57,
   "id": "ad312908-ee3e-4229-8974-711ae031855b",
   "metadata": {},
   "outputs": [
    {
     "name": "stdout",
     "output_type": "stream",
     "text": [
      "123.19999999999999\n",
      "123.19999999999999\n"
     ]
    }
   ],
   "source": [
    "# pakai numpy\n",
    "# jangan lupa bilang ke dia kalau ini tipe data sample\n",
    "print(np.var(x, ddof=1))\n",
    "\n",
    "print(y.var(ddof=1))"
   ]
  },
  {
   "cell_type": "code",
   "execution_count": 58,
   "id": "2676e82f-60a5-483e-80f9-373f9b866bac",
   "metadata": {},
   "outputs": [
    {
     "data": {
      "text/plain": [
       "123.19999999999999"
      ]
     },
     "execution_count": 58,
     "metadata": {},
     "output_type": "execute_result"
    }
   ],
   "source": [
    "# pakai pandas, sudah berasumsi ini adalah data sample\n",
    "z.var()"
   ]
  },
  {
   "cell_type": "code",
   "execution_count": 60,
   "id": "85f099c8-6a64-4aa7-9ac7-1700ca78effd",
   "metadata": {},
   "outputs": [
    {
     "name": "stdout",
     "output_type": "stream",
     "text": [
      "98.56\n",
      "98.55999999999999\n",
      "98.55999999999999\n"
     ]
    }
   ],
   "source": [
    "# bagaimana kalau data kita adalah population?\n",
    "# statistics pakai pvariance\n",
    "print(statistics.pvariance(x))\n",
    "\n",
    "# numpy pakai ddof=0, atau default nya aja\n",
    "print(np.var(x))\n",
    "\n",
    "# pandas kita berikan opsi ddof=0\n",
    "print(z.var(ddof=0))"
   ]
  },
  {
   "cell_type": "markdown",
   "id": "eeec6081-fc8d-41a4-8a49-d31e15f5e512",
   "metadata": {},
   "source": [
    "## Standard Deviation"
   ]
  },
  {
   "cell_type": "code",
   "execution_count": 62,
   "id": "bec1b42c-192a-477e-914d-39236bc2b71d",
   "metadata": {},
   "outputs": [
    {
     "data": {
      "text/plain": [
       "11.099549540409285"
      ]
     },
     "execution_count": 62,
     "metadata": {},
     "output_type": "execute_result"
    }
   ],
   "source": [
    "# kita bisa ambil hasil variance kemudian kita akar\n",
    "np.sqrt(123.19999999999999)"
   ]
  },
  {
   "cell_type": "code",
   "execution_count": 63,
   "id": "df6450c7-6b59-4c1c-b0ec-81dede04a5b0",
   "metadata": {},
   "outputs": [
    {
     "name": "stdout",
     "output_type": "stream",
     "text": [
      "11.099549540409287\n",
      "11.099549540409285\n",
      "11.099549540409285\n"
     ]
    }
   ],
   "source": [
    "# kita bisa minta langsung dengan bantuan dari\n",
    "# untuk sample\n",
    "# statistics\n",
    "print(statistics.stdev(x))\n",
    "\n",
    "# numpy\n",
    "print(np.std(x, ddof=1))\n",
    "\n",
    "# pandas\n",
    "print(z.std())"
   ]
  },
  {
   "cell_type": "code",
   "execution_count": 64,
   "id": "08677f57-75bd-4575-a20c-4dce7abad86f",
   "metadata": {},
   "outputs": [
    {
     "name": "stdout",
     "output_type": "stream",
     "text": [
      "9.927738916792686\n",
      "9.927738916792686\n",
      "9.927738916792684\n",
      "9.927738916792684\n"
     ]
    }
   ],
   "source": [
    "# untuk population\n",
    "print(np.sqrt(98.56))\n",
    "\n",
    "# statistics\n",
    "print(statistics.pstdev(x))\n",
    "\n",
    "# numpy\n",
    "print(np.std(x, ddof=0))\n",
    "\n",
    "# pandas\n",
    "print(z.std(ddof=0))"
   ]
  },
  {
   "cell_type": "markdown",
   "id": "69bd9f88-7536-4d67-a62e-722805ea2eff",
   "metadata": {},
   "source": [
    "## Range\n",
    "perbedaan value max dan min di sebuah dataset"
   ]
  },
  {
   "cell_type": "code",
   "execution_count": 65,
   "id": "69783615-1a3c-4197-b4a8-d70208307d76",
   "metadata": {},
   "outputs": [
    {
     "data": {
      "text/plain": [
       "27.0"
      ]
     },
     "execution_count": 65,
     "metadata": {},
     "output_type": "execute_result"
    }
   ],
   "source": [
    "max(x) - min(x)"
   ]
  },
  {
   "cell_type": "code",
   "execution_count": 66,
   "id": "bcdc8d21-59f2-40c3-b7b5-91c3a7a05258",
   "metadata": {},
   "outputs": [
    {
     "data": {
      "text/plain": [
       "27.0"
      ]
     },
     "execution_count": 66,
     "metadata": {},
     "output_type": "execute_result"
    }
   ],
   "source": [
    "# pakai bantuan numpy\n",
    "np.ptp(x)"
   ]
  },
  {
   "cell_type": "code",
   "execution_count": 72,
   "id": "13929343-e03e-43e3-bf81-dfa3aa0cd488",
   "metadata": {},
   "outputs": [
    {
     "data": {
      "text/plain": [
       "27.0"
      ]
     },
     "execution_count": 72,
     "metadata": {},
     "output_type": "execute_result"
    }
   ],
   "source": [
    "# pakai pandas, hanya bisa cari max dan min, kita kurangi sendiri untuk dapat range nya\n",
    "z.max() - z.min()"
   ]
  },
  {
   "cell_type": "markdown",
   "id": "fbcaba44-9cb6-4015-847a-5fcf381511f9",
   "metadata": {},
   "source": [
    "## Percentile and Quartile\n",
    "misalnya kita mau cari data percentile ke 10 (10% harga rumah2 termurah di Jakarta dari data rumah Jakarta)\n",
    "\n",
    "kalau di percentile ke 25, maka itu adalah titik harga dimana 25% rumah jakarta dibawah harga tersebut.\n",
    "\n",
    "untuk percentile ke 25, 50, dan 75 punya nama lain: quartile 1,2,3. Quartile 2 juga disebut median."
   ]
  },
  {
   "cell_type": "code",
   "execution_count": 73,
   "id": "c4d32bac-b771-4a44-8817-9444dde752c4",
   "metadata": {},
   "outputs": [
    {
     "name": "stdout",
     "output_type": "stream",
     "text": [
      "[-5.  -1.1  0.1  2.   8.  12.8 21.  25.8 41. ]\n"
     ]
    }
   ],
   "source": [
    "# siapin data\n",
    "x = [-5.0, -1.1, 0.1, 2.0, 8.0, 12.8, 21.0, 25.8, 41.0]\n",
    "y = np.array(x)\n",
    "z = pd.Series(x)\n",
    "\n",
    "print(y)"
   ]
  },
  {
   "cell_type": "code",
   "execution_count": 74,
   "id": "c08f46b5-3bf4-46d6-b999-5430fdad93ee",
   "metadata": {},
   "outputs": [
    {
     "data": {
      "text/plain": [
       "[8.0]"
      ]
     },
     "execution_count": 74,
     "metadata": {},
     "output_type": "execute_result"
    }
   ],
   "source": [
    "# statistics quantiles\n",
    "statistics.quantiles(x, n=2)"
   ]
  },
  {
   "cell_type": "code",
   "execution_count": 79,
   "id": "e4ca691f-a8bc-48f4-a919-de49b7e644fd",
   "metadata": {},
   "outputs": [],
   "source": [
    "# jika menggunakan method quantiles dari package statistics,\n",
    "# jangan lupa untuk menambahkan opsi method='inclusive'\n",
    "# jika tidak, dia berasumsi angka yang udah diambil tidak termasuk perhitungan pembagian berikutnya\n",
    "# kiri = [-5.,  -1.1,  0.1,  2.]\n",
    "# kanan = [12.8, 21.,  25.8, 41. ]\n",
    "\n",
    "# statistics.quantiles(x, n=4)"
   ]
  },
  {
   "cell_type": "code",
   "execution_count": 78,
   "id": "3ded28f4-a880-4f73-9983-8cbf540cb8ae",
   "metadata": {},
   "outputs": [
    {
     "data": {
      "text/plain": [
       "[0.1, 8.0, 21.0]"
      ]
     },
     "execution_count": 78,
     "metadata": {},
     "output_type": "execute_result"
    }
   ],
   "source": [
    "# untuk mencari angka Quartile 1,2,3 dari data kita, gunakan opsi method='inclusive'\n",
    "x = [-5.0, -1.1, 0.1, 2.0, 8.0, 12.8, 21.0, 25.8, 41.0]\n",
    "statistics.quantiles(x, n=4, method='inclusive')"
   ]
  },
  {
   "cell_type": "code",
   "execution_count": 80,
   "id": "4d52ce59-c238-47e3-8451-f180c85f7f96",
   "metadata": {},
   "outputs": [
    {
     "data": {
      "text/plain": [
       "array([ 0.1,  8. , 21. ])"
      ]
     },
     "execution_count": 80,
     "metadata": {},
     "output_type": "execute_result"
    }
   ],
   "source": [
    "# bisa juga pakai numpy\n",
    "np.percentile(x, [25, 50, 75])"
   ]
  },
  {
   "cell_type": "code",
   "execution_count": 87,
   "id": "762854a6-67ac-4de3-a282-4c4c5a2bfe1e",
   "metadata": {},
   "outputs": [
    {
     "data": {
      "text/plain": [
       "array([ 0.1,  8. , 21. ])"
      ]
     },
     "execution_count": 87,
     "metadata": {},
     "output_type": "execute_result"
    }
   ],
   "source": [
    "# seperti fungsi percentile tapi tulisnya dalam bentuk persein, 25% = 0.25\n",
    "np.quantile(x, [0.25, 0.5, 0.75])"
   ]
  },
  {
   "cell_type": "code",
   "execution_count": 85,
   "id": "42756e7d-fb1e-4add-b3c1-f1e35da619c5",
   "metadata": {},
   "outputs": [
    {
     "data": {
      "text/plain": [
       "0.25     0.1\n",
       "0.50     8.0\n",
       "0.75    21.0\n",
       "dtype: float64"
      ]
     },
     "execution_count": 85,
     "metadata": {},
     "output_type": "execute_result"
    }
   ],
   "source": [
    "# pandas punya fungsi quantile\n",
    "z.quantile([0.25, 0.5, 0.75])"
   ]
  },
  {
   "cell_type": "markdown",
   "id": "ea2c3bf8-5909-4944-b83a-897ca63fe9d4",
   "metadata": {},
   "source": [
    "## Inter-Quartile Range\n",
    "angka Q3 - angka Q1"
   ]
  },
  {
   "cell_type": "code",
   "execution_count": 90,
   "id": "cfd1a01a-3a4a-4ae7-b5c6-90ac0ab4d45e",
   "metadata": {},
   "outputs": [
    {
     "data": {
      "text/plain": [
       "20.9"
      ]
     },
     "execution_count": 90,
     "metadata": {},
     "output_type": "execute_result"
    }
   ],
   "source": [
    "# pakai numpy\n",
    "q1, q3 = np.quantile(x, [0.25, 0.75])\n",
    "\n",
    "q3 - q1"
   ]
  },
  {
   "cell_type": "code",
   "execution_count": 91,
   "id": "65dbdf73-2adf-4183-851f-990bdffcdf0d",
   "metadata": {},
   "outputs": [
    {
     "data": {
      "text/plain": [
       "20.9"
      ]
     },
     "execution_count": 91,
     "metadata": {},
     "output_type": "execute_result"
    }
   ],
   "source": [
    "# pakai pandas\n",
    "q1, q3 = z.quantile([0.25, 0.75])\n",
    "\n",
    "q3 - q1"
   ]
  },
  {
   "cell_type": "markdown",
   "id": "5d248fb7-41e6-42fc-a10c-2068fae316bf",
   "metadata": {},
   "source": [
    "## Skewness"
   ]
  },
  {
   "cell_type": "code",
   "execution_count": 92,
   "id": "0f47528a-e04a-4b48-9c4d-0d1e5acf1437",
   "metadata": {},
   "outputs": [
    {
     "data": {
      "text/plain": [
       "0.9249043136685094"
      ]
     },
     "execution_count": 92,
     "metadata": {},
     "output_type": "execute_result"
    }
   ],
   "source": [
    "# pakai scipy stats\n",
    "scipy.stats.skew(x, bias=False)"
   ]
  },
  {
   "cell_type": "code",
   "execution_count": 93,
   "id": "863c075f-9820-4d79-ad43-956bf35d2aa8",
   "metadata": {},
   "outputs": [
    {
     "data": {
      "text/plain": [
       "0.9249043136685096"
      ]
     },
     "execution_count": 93,
     "metadata": {},
     "output_type": "execute_result"
    }
   ],
   "source": [
    "# pakai pandas\n",
    "z.skew()"
   ]
  },
  {
   "cell_type": "markdown",
   "id": "ccbd9f12-7454-43ea-982a-4bb38ee762c3",
   "metadata": {},
   "source": [
    "## Kurtosis"
   ]
  },
  {
   "cell_type": "code",
   "execution_count": 94,
   "id": "e3cf6594-748c-4e58-8eff-ba3e23e2afab",
   "metadata": {},
   "outputs": [
    {
     "data": {
      "text/plain": [
       "0.14770623629658886"
      ]
     },
     "execution_count": 94,
     "metadata": {},
     "output_type": "execute_result"
    }
   ],
   "source": [
    "# pakai scipy stats\n",
    "scipy.stats.kurtosis(x, bias=False)"
   ]
  },
  {
   "cell_type": "code",
   "execution_count": 95,
   "id": "ae81d374-becd-403b-a467-734e8bf4666f",
   "metadata": {},
   "outputs": [
    {
     "data": {
      "text/plain": [
       "0.14770623629658886"
      ]
     },
     "execution_count": 95,
     "metadata": {},
     "output_type": "execute_result"
    }
   ],
   "source": [
    "# pakai pandas\n",
    "z.kurtosis()"
   ]
  },
  {
   "cell_type": "markdown",
   "id": "87705cff-28b9-40f7-b116-9d98886ab690",
   "metadata": {},
   "source": [
    "# Summary\n",
    "Mau melihat Stats sebuah data sekaligus"
   ]
  },
  {
   "cell_type": "code",
   "execution_count": 99,
   "id": "a238a53c-d7d0-4060-abbe-8ae8e6f09158",
   "metadata": {},
   "outputs": [
    {
     "data": {
      "text/plain": [
       "DescribeResult(nobs=9, minmax=(-5.0, 41.0), mean=11.622222222222222, variance=228.75194444444446, skewness=0.9249043136685094, kurtosis=0.14770623629658886)"
      ]
     },
     "execution_count": 99,
     "metadata": {},
     "output_type": "execute_result"
    }
   ],
   "source": [
    "# pakai scipy stats\n",
    "hasil = scipy.stats.describe(x, ddof=1, bias=False)\n",
    "hasil"
   ]
  },
  {
   "cell_type": "code",
   "execution_count": 100,
   "id": "c584a2be-aa56-404f-879d-77bd29100376",
   "metadata": {},
   "outputs": [
    {
     "data": {
      "text/plain": [
       "11.622222222222222"
      ]
     },
     "execution_count": 100,
     "metadata": {},
     "output_type": "execute_result"
    }
   ],
   "source": [
    "hasil.mean"
   ]
  },
  {
   "cell_type": "code",
   "execution_count": 102,
   "id": "62949c55-1524-46d6-a1b5-0ac07dd1fb13",
   "metadata": {},
   "outputs": [
    {
     "data": {
      "text/plain": [
       "count     9.000000\n",
       "mean     11.622222\n",
       "std      15.124548\n",
       "min      -5.000000\n",
       "25%       0.100000\n",
       "50%       8.000000\n",
       "75%      21.000000\n",
       "max      41.000000\n",
       "dtype: float64"
      ]
     },
     "execution_count": 102,
     "metadata": {},
     "output_type": "execute_result"
    }
   ],
   "source": [
    "# pandas jg punya describe\n",
    "hasil = z.describe()\n",
    "hasil"
   ]
  },
  {
   "cell_type": "code",
   "execution_count": 103,
   "id": "acbda9b5-7967-413a-b440-f3a59d67ea77",
   "metadata": {},
   "outputs": [
    {
     "data": {
      "text/plain": [
       "8.0"
      ]
     },
     "execution_count": 103,
     "metadata": {},
     "output_type": "execute_result"
    }
   ],
   "source": [
    "hasil['50%']"
   ]
  },
  {
   "cell_type": "markdown",
   "id": "10c1d52c-2896-40ad-8cfc-42820ecf460d",
   "metadata": {},
   "source": [
    "### latihan: diberikan data berikut, cari dia punya std deviation, range, dan inter-quartile-range\n",
    "`x = [30, 35, 60, 70, 90, 100]`"
   ]
  },
  {
   "cell_type": "code",
   "execution_count": 106,
   "id": "29dfc155-668c-4fd9-9c19-a75344be8555",
   "metadata": {},
   "outputs": [
    {
     "name": "stdout",
     "output_type": "stream",
     "text": [
      "28.35783254528926\n",
      "70\n",
      "43.75\n"
     ]
    }
   ],
   "source": [
    "x = [30, 35, 60, 70, 90, 100]\n",
    "\n",
    "# pakai pandas\n",
    "xs = pd.Series(x)\n",
    "print(xs.std()) # sample\n",
    "\n",
    "# pakai numpy array\n",
    "print(np.ptp(x))\n",
    "\n",
    "# cari Q1 dan Q3 kemudian hitung Q3-Q1\n",
    "# pakai pandas\n",
    "q1, q3 = xs.quantile([0.25,0.75])\n",
    "print(q3-q1)"
   ]
  },
  {
   "cell_type": "code",
   "execution_count": 107,
   "id": "ebf8522f-4695-4710-8145-d8e76f9e18be",
   "metadata": {},
   "outputs": [
    {
     "data": {
      "text/plain": [
       "count      6.000000\n",
       "mean      64.166667\n",
       "std       28.357833\n",
       "min       30.000000\n",
       "25%       41.250000\n",
       "50%       65.000000\n",
       "75%       85.000000\n",
       "max      100.000000\n",
       "dtype: float64"
      ]
     },
     "execution_count": 107,
     "metadata": {},
     "output_type": "execute_result"
    }
   ],
   "source": [
    "hasil = xs.describe()\n",
    "hasil"
   ]
  },
  {
   "cell_type": "code",
   "execution_count": 108,
   "id": "d08ee89a-48f4-4591-a83f-44cf661712d0",
   "metadata": {},
   "outputs": [
    {
     "name": "stdout",
     "output_type": "stream",
     "text": [
      "28.35783254528926\n",
      "70.0\n",
      "43.75\n"
     ]
    }
   ],
   "source": [
    "print(hasil['std'])\n",
    "print(hasil['max'] - hasil['min'])\n",
    "print(hasil['75%'] - hasil['25%'])"
   ]
  },
  {
   "cell_type": "markdown",
   "id": "af64c36a-6c98-4f62-83bd-23d6ee281b5a",
   "metadata": {},
   "source": [
    "# Measure of Correlation\n",
    "mencari hubungan antara dua set data.\n",
    "\n",
    "angka correlation coefficient r menunjukkan kekuatan dan sifat korelasi tersebut. jika negative, maka korelasi negative, begitu pula sebaliknya. jika 0 maka tidak ada korelasi. r ada di atnara -1 dan 1.\n",
    "\n",
    "- covariance\n",
    "- correlation coefficient\n",
    "\n",
    "mirip seperti hubugan variance dengan standard deviation"
   ]
  },
  {
   "cell_type": "code",
   "execution_count": 109,
   "id": "c7c6b0fd-7a60-49c7-8621-176247f66ca2",
   "metadata": {},
   "outputs": [],
   "source": [
    "x = list(range(-10, 11))\n",
    "y = [0, 2, 2, 2, 2, 3, 3, 6, 7, 4, 7, 6, 6, 9, 4, 5, 5, 10, 11, 12, 14]"
   ]
  },
  {
   "cell_type": "code",
   "execution_count": 111,
   "id": "83e5a868-bf20-4cd1-a329-b1c2734e146f",
   "metadata": {},
   "outputs": [
    {
     "data": {
      "text/plain": [
       "<matplotlib.collections.PathCollection at 0x23ed45daf40>"
      ]
     },
     "execution_count": 111,
     "metadata": {},
     "output_type": "execute_result"
    },
    {
     "data": {
      "image/png": "[encoded data removed]",
      "text/plain": [
       "<Figure size 432x288 with 1 Axes>"
      ]
     },
     "metadata": {},
     "output_type": "display_data"
    }
   ],
   "source": [
    "# kita bisa buat scatter plot untuk melihat korelasi antara x dan y\n",
    "plt.scatter(x, y)"
   ]
  },
  {
   "cell_type": "markdown",
   "id": "bf2317ba-6215-4d63-a0eb-6606572af015",
   "metadata": {},
   "source": [
    "## Correlation Coefficient"
   ]
  },
  {
   "cell_type": "code",
   "execution_count": 113,
   "id": "7bf36461-35f9-499d-a2a4-97b22d07fe94",
   "metadata": {},
   "outputs": [
    {
     "name": "stdout",
     "output_type": "stream",
     "text": [
      "0.8619500056316058\n"
     ]
    }
   ],
   "source": [
    "# pakai scipy stats\n",
    "r, p = scipy.stats.pearsonr(x, y)\n",
    "print(r)"
   ]
  },
  {
   "cell_type": "code",
   "execution_count": 115,
   "id": "9eec5c27-597e-40b4-94ed-9333a45b70eb",
   "metadata": {},
   "outputs": [
    {
     "data": {
      "text/plain": [
       "0.8619500056316061"
      ]
     },
     "execution_count": 115,
     "metadata": {},
     "output_type": "execute_result"
    }
   ],
   "source": [
    "# pakai numpy\n",
    "np.corrcoef(x, y)[0,1]"
   ]
  },
  {
   "cell_type": "code",
   "execution_count": 116,
   "id": "c2db2f49-b077-4571-bf92-044946cb4c44",
   "metadata": {},
   "outputs": [
    {
     "data": {
      "text/plain": [
       "0.8619500056316061"
      ]
     },
     "execution_count": 116,
     "metadata": {},
     "output_type": "execute_result"
    }
   ],
   "source": [
    "# pakai pandas\n",
    "series_x = pd.Series(x)\n",
    "series_y = pd.Series(y)\n",
    "\n",
    "series_x.corr(series_y)"
   ]
  },
  {
   "cell_type": "markdown",
   "id": "f35efeb3-4e07-4edd-acdc-894dd95d9410",
   "metadata": {},
   "source": [
    "## Linear Regression"
   ]
  },
  {
   "cell_type": "code",
   "execution_count": 118,
   "id": "856dc5b6-8294-46b5-b4e7-09426a828aab",
   "metadata": {},
   "outputs": [
    {
     "data": {
      "text/plain": [
       "LinregressResult(slope=0.5181818181818181, intercept=5.714285714285714, rvalue=0.861950005631606, pvalue=5.122760847201164e-07, stderr=0.06992387660074979, intercept_stderr=0.4234100995002589)"
      ]
     },
     "execution_count": 118,
     "metadata": {},
     "output_type": "execute_result"
    }
   ],
   "source": [
    "# untuk mencari angka2 yang diperlukan untuk membuat garis linear regression\n",
    "# bisa pakai bantuan scipy stats\n",
    "hasil = scipy.stats.linregress(x, y)\n",
    "hasil"
   ]
  },
  {
   "cell_type": "markdown",
   "id": "1393aa27-be6a-43fb-ba17-13d60d6ca56e",
   "metadata": {},
   "source": [
    "formula garis linear regression adalah `y = intercept + slope * x`\n",
    "\n",
    "correlation coefficient nya adalah rvalue"
   ]
  },
  {
   "cell_type": "code",
   "execution_count": 120,
   "id": "725b6c9a-3725-4c74-833f-34d511338210",
   "metadata": {},
   "outputs": [
    {
     "name": "stdout",
     "output_type": "stream",
     "text": [
      "untuk ambil correlation coefficient saja\n"
     ]
    },
    {
     "data": {
      "text/plain": [
       "0.861950005631606"
      ]
     },
     "execution_count": 120,
     "metadata": {},
     "output_type": "execute_result"
    }
   ],
   "source": [
    "print(\"untuk ambil correlation coefficient saja\")\n",
    "hasil.rvalue"
   ]
  },
  {
   "cell_type": "code",
   "execution_count": 127,
   "id": "d8921703-1ce1-43ee-857c-62a27e70c53b",
   "metadata": {},
   "outputs": [
    {
     "name": "stdout",
     "output_type": "stream",
     "text": [
      "[ 0.53246753  1.05064935  1.56883117  2.08701299  2.60519481  3.12337662\n",
      "  3.64155844  4.15974026  4.67792208  5.1961039   5.71428571  6.23246753\n",
      "  6.75064935  7.26883117  7.78701299  8.30519481  8.82337662  9.34155844\n",
      "  9.85974026 10.37792208 10.8961039 ]\n"
     ]
    },
    {
     "data": {
      "text/plain": [
       "Text(0.5, 1.0, 'linear regression')"
      ]
     },
     "execution_count": 127,
     "metadata": {},
     "output_type": "execute_result"
    },
    {
     "data": {
      "image/png": "[encoded data removed]",
      "text/plain": [
       "<Figure size 432x288 with 1 Axes>"
      ]
     },
     "metadata": {},
     "output_type": "display_data"
    }
   ],
   "source": [
    "# untuk mencari garis linear regression, kt bisa pakai formula linear regression nya\n",
    "y_lr = hasil.intercept + hasil.slope * np.array(x)\n",
    "\n",
    "print(y_lr)\n",
    "\n",
    "# garis linear regression nya\n",
    "plt.plot(x,y_lr, color=\"blue\")\n",
    "\n",
    "# data asli\n",
    "plt.scatter(x, y)\n",
    "\n",
    "plt.title(\"linear regression\")"
   ]
  },
  {
   "cell_type": "code",
   "execution_count": null,
   "id": "4127cdad-7b94-4224-9c57-062470331781",
   "metadata": {},
   "outputs": [],
   "source": []
  }
 ],
 "metadata": {
  "kernelspec": {
   "display_name": "Python 3 (ipykernel)",
   "language": "python",
   "name": "python3"
  },
  "language_info": {
   "codemirror_mode": {
    "name": "ipython",
    "version": 3
   },
   "file_extension": ".py",
   "mimetype": "text/x-python",
   "name": "python",
   "nbconvert_exporter": "python",
   "pygments_lexer": "ipython3",
   "version": "3.9.7"
  }
 },
 "nbformat": 4,
 "nbformat_minor": 5
}
